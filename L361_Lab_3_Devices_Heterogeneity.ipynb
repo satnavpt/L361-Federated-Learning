{
  "cells": [
    {
      "cell_type": "markdown",
      "metadata": {
        "id": "view-in-github",
        "colab_type": "text"
      },
      "source": [
        "<a href=\"https://colab.research.google.com/github/satnavpt/L361-Federated-Learning/blob/main/L361_Lab_3_Devices_Heterogeneity.ipynb\" target=\"_parent\"><img src=\"https://colab.research.google.com/assets/colab-badge.svg\" alt=\"Open In Colab\"/></a>"
      ]
    },
    {
      "cell_type": "markdown",
      "metadata": {
        "id": "2b1u66ZKmSCo"
      },
      "source": [
        "# 0. Marking.\n",
        "\n",
        "***IMPORTANT***: Save a copy of this notebook into your Drive before you start.\n",
        "- Please attempt all the questions marked for your group (Part II ✅ | Part III/MPhil ✅).\n",
        "\n",
        "Please submit a zip file, containing both parts, consiting of of:\n",
        "1. A text file with a publicly visible link to your notebooks in Google Colab or GitHub.\n",
        "2. A downloaded copy (ipynb) of your notebooks or your zipped cloned GitHub repo. You may treat these as a report: we will not be re-executing the code you used to produce the answers unless required.\n",
        "\n",
        "If you find yourself enjoying the material, feel free to attempt more! Provide your answers in a new cell below the question cell."
      ]
    },
    {
      "cell_type": "markdown",
      "metadata": {
        "id": "OUKMZp23mSCr"
      },
      "source": [
        "# 1. Introduction\n"
      ]
    },
    {
      "cell_type": "markdown",
      "metadata": {
        "id": "R2DNy1LXmSCs"
      },
      "source": [
        "Welcome to the third lab session in our FL course.\n",
        "We now know how to “federate” a centralised ML model and have learned some tools to deal with data heterogeneity.\n",
        "\n",
        "During this session, we will try to put our hands on system heterogeneity in simulating FL. However, assuming you want to produce an FL system that will be deployed in the real world, taking into account data heterogeneity is often not enough.\n",
        "\n",
        "Client hardware may be correlated with the underlying data---e.g. a smartphone's camera impacts image characteristics---or with which data is used. For example, clients with less reliable internet connections from specific regions of the world are more likely to drop out, making their region underrepresented in training. Thus, the limits placed on computation time or the assumptions made in applying a synchronous or asynchronous algorithm affect model performance, fairness, or scalability.\n",
        "\n",
        "Developers may want to simulate their FL pipelines in a controlled environment in which natural system characteristics are modelled in order to be able to understand such trade-offs.\n",
        "\n",
        "What should we take into account, then?\n",
        "Clients' availability, training time, communication bandwidth, and other factors sometimes impact natural FL systems unexpectedly.\n",
        "Developers usually set up constraints for selecting clients to account for most of these factors, but in the worst case, these may result in not completing even a single round.\n",
        "On the other hand, relaxing some constraints produces long round completion times, and eventually, the FL model cannot reach convergence in a reasonable interval.\n",
        "\n",
        "Before we begin modelling such concerns, we shall investigate data regarding real-world system characteristics from the two following papers:\n",
        "\n",
        "1. [Papaya: Practical, Private, and Scalable Federated Learning](https://arxiv.org/abs/2111.04877)\n",
        "2. [Towards Federated Learning at Scale: System Design](https://arxiv.org/abs/1902.01046)\n"
      ]
    },
    {
      "cell_type": "markdown",
      "metadata": {
        "id": "yl5cv19OkMow"
      },
      "source": [
        "# 2. Behavioural patterns of real-world FL systems\n"
      ]
    },
    {
      "cell_type": "markdown",
      "metadata": {
        "id": "w2YlPgJumSCs"
      },
      "source": [
        "The following plot was extracted from the Papaya paper (1) mentioned above.\n",
        "The takeaway is that in natural settings, devices are very heterogeneous, and the same model could take different amounts of time to train on various clients. Since the distribution is neither Gaussian nor uniform, accounting for such behaviour is non-trivial. As a result, developers often have to make imperfect choices when selecting between synchronous and asynchronous FL algorithms and their parameters.\n"
      ]
    },
    {
      "cell_type": "markdown",
      "metadata": {
        "id": "8AXtCGbgmSCt"
      },
      "source": [
        "![client_execution_time](https://drive.google.com/uc?id=1-YwC63F2gFJrsM1KxoqJMgu-GAAgvjQx)\n"
      ]
    },
    {
      "cell_type": "markdown",
      "metadata": {
        "id": "zE3-F_r_kMow"
      },
      "source": [
        "In the case of synchronous training, they may select clients based on hardware, set time limits for round completion, and incorporate partially trained client models that have not reached the necessary step/epoch count.\n",
        "\n",
        "Besides tackling the previously discussed data heterogeneity, FedProx was designed to better incorporate partially trained models from stragglers by limiting their impact upon the aggregation. The dual purpose of FedProx illustrates the interdependence of systems and data heterogeneity.\n",
        "\n",
        "In the case of asynchronous training, all updates **could** be considered; however, model staleness and a significant bias towards faster clients become major issues. For example, clients who return updates based on an older model may have had more data to train on or simply slower internet. If they have more data, they might provide more **statistical utility** than fast clients and thus improve final accuracy. Alternatively, they might have valuable data from underrepresented or remote regions if they have slower internet. If you are curious and want more insights about asynchronous training in FL, we point to the most prominent example: [FedBuf](https://arxiv.org/abs/2106.06639).\n",
        "\n",
        "In an extreme case of hardware heterogeneity, clients with high-end hardware may guide the model to the detriment of those with better data or those belonging to relevant subgroups. Due to such difficulties, asynchronous FL has been historically more difficult to implement and less preponderantly used than one may expect, given its potential benefits.\n"
      ]
    },
    {
      "cell_type": "markdown",
      "metadata": {
        "id": "Tv2XIa5qkMow"
      },
      "source": [
        "**Question 1 (Part II ✅ | Part III/MPhil ✅):**\n",
        "\n",
        "(These are meant to be conceptual questions. You should provide written answers for these. **No more than 3 sentences each**. **No code** is needed)\n",
        "\n",
        "1. In the context of a complete synchronous FL training period composed of multiple rounds, when do you think it would be appropriate to oversample fast/slow clients? Should it be more appropriate for the early or late training phases? Think of which characteristics are essential for convergence in the early versus late rounds.\n",
        "2. Can you think of a heuristic for modifying the time threshold across rounds that considers your previous answer?\n"
      ]
    },
    {
      "cell_type": "markdown",
      "source": [
        "1. To achieve convergence, in early rounds, we want diversity in the data that we train on in order to achieve a representative global model, and in later rounds, we are effectively fine tuning the model, to maximise accuracy. As such, in earlier rounds, we may oversample slow clients to ensure that these clients contribute to the global model, and in later rounds, we may oversample faster clients to ensure faster convergence, now that the model has already seen all of the heterogeneous data.\n",
        "\n",
        "2. We would want to reduce the threshold over rounds, starting with a high enough threshold to allow slow clients to complete. We want to transition to focusing on faster clients and final convergence once we are satisfied that performance has begun to converge on slow clients. We can therefore vary the time threshold based on the local accuracies on the clients, assuming we have access to them. Specifically, we may first understant the speed of each client, and then sort them by their time to train one round. We can then start oversampling slow clients, and reduce the time threshold as the slowest client currently being sampled achieves some dynamic local accuracy threshold, which we can increase over rounds to account for the increasing (hopefully) increasing accuracy across clients. We therefore must decide as a hyperparameter what level of performance we expect to achieve, but we can estimate the intermediate dynamic thresholds by observing general improvements in model accuracy over rounds.\n",
        "\n",
        "Example \\\\\n",
        "\n",
        "**Clients : Time to train 1 round \\\\**\n",
        "\n",
        "C1 : 10s \\\\\n",
        "C2 : 8s \\\\\n",
        "C3 : 4s \\\\\n",
        "C4 : 2s \\\\\n",
        "C5 : 1s \\\\\n",
        "C6 : 1s \\\\\n",
        "\n",
        "**Round: (client: accuracy)**\n",
        "Round 1: (C1: 10%, C2: 12%, C3: 8%) \\\\\n",
        "... \\\\\n",
        "Round 5: (C1: 60%, C2: 52%, C3: 63%) - threshold of 60% reached for slowest client, set timeout to 8s \\\\\n",
        "Round 6: (C2: 58%, C3: 65%, C4: 34%) \\\\\n",
        "... \\\\\n",
        "Round 10: (C2: 67%, C3: 72%, C4: 58%) - threshold of 65% reached for slowest client, set timeout to 5s \\\\\n",
        "Round 11: (C3: 74%, C4: 72%, C5: 58%) \\\\\n",
        "... \\\\"
      ],
      "metadata": {
        "id": "x8leTlLKNmtP"
      }
    },
    {
      "cell_type": "markdown",
      "metadata": {
        "id": "c4VcVSTNkMow"
      },
      "source": [
        "**Question 2 (Part III/MPhil ✅):**\n",
        "\n",
        "(These are meant to be conceptual questions. You should provide written answers for these. **No more than 3 sentences each**. **No code** is needed)\n",
        "\n",
        "1. What parallels can be drawn between asynchronous SGD and asynchronous FL? Are there any methods which may help with both?\n",
        "2. How do you think a system using a buffer to accumulate gradient updates received asynchronously, such as [FedBuf](https://arxiv.org/pdf/2106.06639.pdf), behaves?\n"
      ]
    },
    {
      "cell_type": "markdown",
      "source": [
        "1. In both ASGD and AFL, we utilise asynchronicity in a bid to maximise gains in parallelism, while taking into account the (system) heterogeneity across clients/nodes. The differences are inherited from the differences between centralised and federated learning - data remains decentralised in FL, where it is distributed by the server in CL, we use mini-batches in CL, where we use rounds as our unit in FL. Methods that can help with both are obvious consequences of the similarities between ASGD and AFL. For example, methods that compress data that is communicated, but more specifically, methods that directly tackle challenges that arise with asynchronicity. For example, one challenge can be utilisiation of stale data/model parameters for training, which can be tackled by utilising aggregation algorithms that account for freshness, and this is applicable to both ASGD and AFL.\n",
        "\n",
        "2. Buffers are a FIFO data structure, which would typically provide a level of fairness (preventing starvation). There are some key differences however, in algorithms like FedBuf, we reset the buffer once it is filled to a certain extent, which means that run the risk of starvation of slower clients. We can also expect the size of the buffer, or the number of clients required in the buffer before aggregation can occur, to effect the convergence of the model. The choice of the buffer size allows decopling the server model updates with the level of concurrency."
      ],
      "metadata": {
        "id": "BSYOYzc5Yrnx"
      }
    },
    {
      "cell_type": "markdown",
      "metadata": {
        "id": "cDgqtaRHkMox"
      },
      "source": [
        "## 2.1 Cyclical patterns\n"
      ]
    },
    {
      "cell_type": "markdown",
      "metadata": {
        "id": "dycOBwNSmSCt"
      },
      "source": [
        "The plot below is taken from paper (2) mentioned above and encapsulates the reliability of client training. In the context of mobile devices, we can observe a cyclic daily trend for each category plotted while the delta between the categories is partly conserved. Thus, according to the number of clients we expect to finish training, we can adapt our training parameters, such as a completion-time threshold.\n",
        "\n",
        "If the federation included a more diverse set of devices operating in different domains or across a wider geographic area, the number of completing, aborted or dropped-out devices may not show the same synchronised patterns.\n"
      ]
    },
    {
      "cell_type": "markdown",
      "metadata": {
        "id": "gsqU3vK1mSCt"
      },
      "source": [
        "![aborted_completed_dropped](https://drive.google.com/uc?id=1-NsWiw4-GM01OBYo2Qi_zSuOsVfjHFHc)\n"
      ]
    },
    {
      "cell_type": "markdown",
      "metadata": {
        "id": "e3vWOvDMmSCu"
      },
      "source": [
        "These plots from paper (2) show a more clear cyclic trend in the participation rate, completion rate and network utilisation of clients depending on the day-night cycle. It is fair to say that these measurements were taken from devices in the same time zone and reflect common smartphone usage patterns related to humans' sleep and activity cycles.\n"
      ]
    },
    {
      "cell_type": "markdown",
      "metadata": {
        "id": "jCIR2EH5mSCu"
      },
      "source": [
        "![connected_round_completion](https://drive.google.com/uc?id=1-NsGPsSfrjM5EUVk-9-OGRgL-IZbUEoh)\n"
      ]
    },
    {
      "cell_type": "markdown",
      "metadata": {
        "id": "Lh7CtpwtmSCv"
      },
      "source": [
        "![network_traffic](https://drive.google.com/uc?id=1-ZQzDbmvXzNgcLw3xj8k3jhfN7ivlhdv)\n"
      ]
    },
    {
      "cell_type": "markdown",
      "metadata": {
        "id": "eSzyvZn0kMox"
      },
      "source": [
        "**Question 3 (Part II ✅ | Part III/MPhil ✅):**\n",
        "\n",
        "(These are meant to be conceptual questions. You should provide written answers for these. **No more than 3 sentences each**. **No code** is needed)\n",
        "\n",
        "1. What would happen to device availability if we scaled the federated network globally?\n",
        "2. How would the time of day interact with the client data and system characteristics in this new global federated network?\n"
      ]
    },
    {
      "cell_type": "markdown",
      "source": [
        "1. When we scale globally, we can expect a slightly more uniform amount of traffic, as different timezones will constructively interfere. However, given the disparity between population concentrations in certain timezones, we may still see some regular dips in participation. The general volume of traffic would increase.\n",
        "2. Assuming heterogeneity across clients, but correlations between clients in geographical areas, we would expect to see client data and system characteristics to correspond with the time of day. For example, if clients participate at night, and location X has better internet than location Y, we would expect more participation when it is night time in location X than location Y. Also, if the data we are considering is images captured on devices, for example, and location X is snowy and location Y is sunny, we would expect to receive these types of data at the corresponding times, in the volumes that correspond to the avaialbility of devices."
      ],
      "metadata": {
        "id": "eLrO5UX6uoAJ"
      }
    },
    {
      "cell_type": "markdown",
      "metadata": {
        "id": "kDH3cqcKkMox"
      },
      "source": [
        "**Question 4 (Part III/MPhil ✅):**\n",
        "\n",
        "(These are meant to be conceptual questions. You should provide written answers for these. **No more than 3 sentences each**. **No code** is needed)\n",
        "\n",
        "Beyond shifts in the devices used at a specific time, on a long-enough timescale, FL also suffers from **non-cyclical** changes in the underlying hardware and data distributions which can lead to them getting desynced. For example, users may transfer their old data to a new device with more powerful sensors and thus create two “tasks'' instead of one. Furthermore, they can delete portions of the older data over time and shift the balance between the two tasks.\n",
        "\n",
        "1. For FL systems with more powerful and long-lasting clients, one potential method for handling such data and hardware shift is maintaining a persistent local model trained concurrently with the federated model---e.g. via [mutual knowledge distillation](https://arxiv.org/abs/1706.00384). This model may regularise the federated one and encodes valuable information about the data distribution accumulated at different points in time. Considering that such a model never leaves the client and thus does not have significant privacy concerns, what techniques would you apply to make it as **informative to the federated model as possible?**\n",
        "\n",
        "2. Assuming that the federated network has changed too much for an old federated model to perform well, how would you use the old model to bootstrap a new one?\n",
        "\n",
        "For both components of the question, you may draw inspiration from techniques used in [continual learning](https://arxiv.org/pdf/1909.08383.pdf), [mutual learning](https://arxiv.org/abs/1706.00384) or any other relevant field of ML.\n"
      ]
    },
    {
      "cell_type": "markdown",
      "source": [
        "1. One of the key pieces of information to learn is any changes in the distribution of data. As such, we can use the local model to learn the class distribution, and regularise the federated model. As in mutual knowledge distilation, we can incorporate a mimicry loss that aligns the federated model's class posteriors with the class probabilities of the local model, which we can keep fresh by reseting when a significant change in model updates is detected, or simply periodically.\n",
        "\n",
        "2. We can apply concepts from continual learning in order to boot our network, which attempts to learn from a sequence of data, without catastrophically forgetting earlier training samples. In this case, we are framing the old federated task and the new federated task as a continual sequence, where we need to learn the new task without catastrophically forgetting the old one, with hopes that the model will identify the generalisable characteristics between the two, resulting in superior performance than retraining from scratch. It is key, however, to highlight a difference between this problem and the traditional continual learning setting, in that we are not interested in maintaining performance on the old task, which can massively reduce the difficulty, and eliminates ideas like replay learning. As such we can apply regularisation-based methods, where outputs from the previous model can be used as soft labels - a rough guide - to prevent forgetting, whilst allowing for the new model to adjust for the new task. This approach should allow us to sufficiently bootstrap the new model using the old, in a bid to reduce training time."
      ],
      "metadata": {
        "id": "ZfKXFxp4vnWR"
      }
    },
    {
      "cell_type": "markdown",
      "metadata": {
        "id": "SnTGe6HTkMox"
      },
      "source": [
        "# 3. Modelling system heterogeneity\n"
      ]
    },
    {
      "cell_type": "markdown",
      "metadata": {
        "id": "IYoFUSwGmSCv"
      },
      "source": [
        "## Imports\n"
      ]
    },
    {
      "cell_type": "markdown",
      "metadata": {
        "id": "IhBh8fstmSCv"
      },
      "source": [
        "The following cell will download the relevant python packages using `pip`.\n"
      ]
    },
    {
      "cell_type": "code",
      "execution_count": 1,
      "metadata": {
        "colab": {
          "base_uri": "https://localhost:8080/"
        },
        "id": "NuHXppIqmSCv",
        "outputId": "6fc59d59-a4c6-423f-f46a-e09f4585d06b"
      },
      "outputs": [
        {
          "output_type": "stream",
          "name": "stdout",
          "text": [
            "\u001b[?25l     \u001b[90m━━━━━━━━━━━━━━━━━━━━━━━━━━━━━━━━━━━━━━━━\u001b[0m \u001b[32m0.0/2.1 MB\u001b[0m \u001b[31m?\u001b[0m eta \u001b[36m-:--:--\u001b[0m\r\u001b[2K     \u001b[91m╸\u001b[0m\u001b[90m━━━━━━━━━━━━━━━━━━━━━━━━━━━━━━━━━━━━━━━\u001b[0m \u001b[32m0.0/2.1 MB\u001b[0m \u001b[31m996.7 kB/s\u001b[0m eta \u001b[36m0:00:03\u001b[0m\r\u001b[2K     \u001b[91m━\u001b[0m\u001b[91m╸\u001b[0m\u001b[90m━━━━━━━━━━━━━━━━━━━━━━━━━━━━━━━━━━━━━━\u001b[0m \u001b[32m0.1/2.1 MB\u001b[0m \u001b[31m1.4 MB/s\u001b[0m eta \u001b[36m0:00:02\u001b[0m\r\u001b[2K     \u001b[91m━━━━━\u001b[0m\u001b[90m╺\u001b[0m\u001b[90m━━━━━━━━━━━━━━━━━━━━━━━━━━━━━━━━━━\u001b[0m \u001b[32m0.3/2.1 MB\u001b[0m \u001b[31m2.6 MB/s\u001b[0m eta \u001b[36m0:00:01\u001b[0m\r\u001b[2K     \u001b[91m━━━━━━━━━━━\u001b[0m\u001b[91m╸\u001b[0m\u001b[90m━━━━━━━━━━━━━━━━━━━━━━━━━━━━\u001b[0m \u001b[32m0.6/2.1 MB\u001b[0m \u001b[31m4.6 MB/s\u001b[0m eta \u001b[36m0:00:01\u001b[0m\r\u001b[2K     \u001b[91m━━━━━━━━━━━━━━━━━━━━━━━━━━━\u001b[0m\u001b[90m╺\u001b[0m\u001b[90m━━━━━━━━━━━━\u001b[0m \u001b[32m1.4/2.1 MB\u001b[0m \u001b[31m8.5 MB/s\u001b[0m eta \u001b[36m0:00:01\u001b[0m\r\u001b[2K     \u001b[91m━━━━━━━━━━━━━━━━━━━━━━━━━━━━━━━━━━━━━━━\u001b[0m\u001b[91m╸\u001b[0m \u001b[32m2.1/2.1 MB\u001b[0m \u001b[31m11.1 MB/s\u001b[0m eta \u001b[36m0:00:01\u001b[0m\r\u001b[2K     \u001b[90m━━━━━━━━━━━━━━━━━━━━━━━━━━━━━━━━━━━━━━━━\u001b[0m \u001b[32m2.1/2.1 MB\u001b[0m \u001b[31m9.9 MB/s\u001b[0m eta \u001b[36m0:00:00\u001b[0m\n",
            "\u001b[?25h  Installing build dependencies ... \u001b[?25l\u001b[?25hdone\n",
            "  Getting requirements to build wheel ... \u001b[?25l\u001b[?25hdone\n",
            "  Preparing metadata (pyproject.toml) ... \u001b[?25l\u001b[?25hdone\n",
            "\u001b[2K   \u001b[90m━━━━━━━━━━━━━━━━━━━━━━━━━━━━━━━━━━━━━━━━\u001b[0m \u001b[32m56.9/56.9 MB\u001b[0m \u001b[31m13.3 MB/s\u001b[0m eta \u001b[36m0:00:00\u001b[0m\n",
            "\u001b[2K   \u001b[90m━━━━━━━━━━━━━━━━━━━━━━━━━━━━━━━━━━━━━━━━\u001b[0m \u001b[32m4.4/4.4 MB\u001b[0m \u001b[31m59.4 MB/s\u001b[0m eta \u001b[36m0:00:00\u001b[0m\n",
            "\u001b[2K   \u001b[90m━━━━━━━━━━━━━━━━━━━━━━━━━━━━━━━━━━━━━━━━\u001b[0m \u001b[32m2.1/2.1 MB\u001b[0m \u001b[31m71.9 MB/s\u001b[0m eta \u001b[36m0:00:00\u001b[0m\n",
            "\u001b[?25h  Building wheel for flwr (pyproject.toml) ... \u001b[?25l\u001b[?25hdone\n",
            "\u001b[33mWARNING: Running pip as the 'root' user can result in broken permissions and conflicting behaviour with the system package manager. It is recommended to use a virtual environment instead: https://pip.pypa.io/warnings/venv\u001b[0m\u001b[33m\n",
            "\u001b[0mSelecting previously unselected package tree.\n",
            "(Reading database ... 121749 files and directories currently installed.)\n",
            "Preparing to unpack .../tree_2.0.2-1_amd64.deb ...\n",
            "Unpacking tree (2.0.2-1) ...\n",
            "Setting up tree (2.0.2-1) ...\n",
            "Processing triggers for man-db (2.10.2-1) ...\n"
          ]
        }
      ],
      "source": [
        "# The simulation component of flower uses RAY under the hood.\n",
        "# `pip` could produce some errors. Nothing to worry about.\n",
        "# The execution has been verified, it's working anyway.\n",
        "! pip install --quiet --upgrade \"pip\"\n",
        "! pip install --quiet git+https://github.com/Iacob-Alexandru-Andrei/flower.git@teaching torch torchvision matplotlib gdown tqdm ray==\"2.6.3\" seaborn torchsummary\n",
        "# The following is just needed to show the folder tree\n",
        "! apt-get install -qq tree"
      ]
    },
    {
      "cell_type": "code",
      "execution_count": 2,
      "metadata": {
        "id": "AB_MjsSBmSCw"
      },
      "outputs": [],
      "source": [
        "# Imports\n",
        "import csv\n",
        "import numbers\n",
        "import os\n",
        "import sys\n",
        "import random\n",
        "import pickle\n",
        "from collections import OrderedDict, defaultdict\n",
        "from collections.abc import Callable\n",
        "from copy import deepcopy\n",
        "from pathlib import Path\n",
        "from typing import Any\n",
        "from logging import INFO\n",
        "import json\n",
        "from datetime import timezone\n",
        "from datetime import datetime\n",
        "\n",
        "\n",
        "import flwr as fl\n",
        "import ray\n",
        "import gdown\n",
        "import matplotlib.pyplot as plt\n",
        "import numpy as np\n",
        "\n",
        "import seaborn as sns\n",
        "import pandas as pd\n",
        "import torch\n",
        "import torch.nn as nn\n",
        "import torch.nn.functional as F\n",
        "from flwr.common import (\n",
        "    log,\n",
        "    Metrics,\n",
        "    Config,\n",
        "    GetPropertiesIns,\n",
        "    GetPropertiesRes,\n",
        "    MetricsAggregationFn,\n",
        ")\n",
        "from flwr.common.parameter import ndarrays_to_parameters\n",
        "from flwr.common.typing import NDArrays, Parameters, Scalar\n",
        "from flwr.server import ServerConfig, History\n",
        "from flwr.server.server_returns_parameters import ReturnParametersServer as Server\n",
        "from flwr.server.client_proxy import ClientProxy\n",
        "from flwr.server.criterion import Criterion\n",
        "from flwr.server.strategy import FedAvgM as FedAvg, Strategy\n",
        "from flwr.client import Client\n",
        "from PIL import Image\n",
        "from PIL.Image import Image as ImageType\n",
        "from torch.nn import Module\n",
        "from torch.utils.data import DataLoader, Dataset, Subset\n",
        "from torchvision import transforms\n",
        "from tqdm import tqdm\n",
        "from enum import IntEnum\n",
        "from typing import cast\n",
        "\n",
        "\n",
        "# Add new seeds here for easy autocomplete\n",
        "class Seeds(IntEnum):\n",
        "    DEFAULT = 1337\n",
        "\n",
        "\n",
        "np.random.seed(Seeds.DEFAULT)\n",
        "random.seed(Seeds.DEFAULT)\n",
        "torch.manual_seed(Seeds.DEFAULT)\n",
        "torch.backends.cudnn.benchmark = False\n",
        "torch.backends.cudnn.deterministic = True\n",
        "\n",
        "\n",
        "PathType = Path | str | None"
      ]
    },
    {
      "cell_type": "markdown",
      "metadata": {
        "id": "QDJzls21mSCw"
      },
      "source": [
        "In the following cell, we will download the relevant file we need for this session.\n",
        "Feel free to look into this material if you want.\n",
        "There is nothing new compared to Lab 2.\n"
      ]
    },
    {
      "cell_type": "markdown",
      "metadata": {
        "id": "d2LfZv9BmSCw"
      },
      "source": [
        "### Dataset\n"
      ]
    },
    {
      "cell_type": "code",
      "execution_count": 3,
      "metadata": {
        "id": "u0JsE87bLGvT"
      },
      "outputs": [],
      "source": [
        "home_dir = content if (content := Path(\"/content\")).exists() else Path.cwd()\n",
        "dataset_dir: Path = home_dir / \"femnist\"\n",
        "data_dir: Path = dataset_dir / \"data\"\n",
        "centralized_partition: Path = dataset_dir / \"client_data_mappings\" / \"centralized\"\n",
        "centralized_mapping: Path = dataset_dir / \"client_data_mappings\" / \"centralized\" / \"0\"\n",
        "federated_partition: Path = dataset_dir / \"client_data_mappings\" / \"fed_natural\"\n",
        "# NEW\n",
        "devices_info_dir: Path = home_dir / \"device_info\"\n",
        "statistical_utility: Path = home_dir / \"statistical_utility.csv\""
      ]
    },
    {
      "cell_type": "code",
      "execution_count": 4,
      "metadata": {
        "id": "Q4WApOhALGvT"
      },
      "outputs": [],
      "source": [
        "def convert(o: Any) -> int | float:\n",
        "    \"\"\"Convert input object to Python numerical if numpy.\"\"\"\n",
        "    # type: ignore[reportGeneralTypeIssues]\n",
        "    if isinstance(o, np.int32 | np.int64):\n",
        "        return int(o)\n",
        "    # type: ignore[reportGeneralTypeIssues]\n",
        "    if isinstance(o, np.float32 | np.float64):\n",
        "        return float(o)\n",
        "    raise TypeError\n",
        "\n",
        "\n",
        "def save_history(hist: History, name: str) -> None:\n",
        "    \"\"\"Save history from simulation to file.\"\"\"\n",
        "    time = int(datetime.now(timezone.utc).timestamp())\n",
        "    path = home_dir / \"histories\"\n",
        "    path.mkdir(exist_ok=True)\n",
        "    path = path / f\"hist_{time}_{name}.json\"\n",
        "    with open(path, \"w\", encoding=\"utf-8\") as f:\n",
        "        json.dump(hist.__dict__, f, ensure_ascii=False, indent=4, default=convert)\n",
        "\n",
        "\n",
        "def start_seeded_simulation(\n",
        "    client_fn: Callable[[str], Client],\n",
        "    num_clients: int,\n",
        "    config: ServerConfig,\n",
        "    strategy: Strategy,\n",
        "    name: str,\n",
        "    seed: int = Seeds.DEFAULT,\n",
        "    server: Server | None = None,\n",
        "    iteration: int = 0,\n",
        ") -> tuple[list[tuple[int, NDArrays]], History]:\n",
        "    \"\"\"Wrap simulation to always seed client selection.\"\"\"\n",
        "    np.random.seed(seed ^ iteration)\n",
        "    torch.manual_seed(seed ^ iteration)\n",
        "    random.seed(seed ^ iteration)\n",
        "    parameter_list, hist = fl.simulation.start_simulation_no_ray(\n",
        "        client_fn=client_fn,\n",
        "        num_clients=num_clients,\n",
        "        server=server,\n",
        "        client_resources={},\n",
        "        config=config,\n",
        "        strategy=strategy,\n",
        "    )\n",
        "    save_history(hist, name)\n",
        "    return parameter_list, hist"
      ]
    },
    {
      "cell_type": "code",
      "execution_count": 5,
      "metadata": {
        "colab": {
          "base_uri": "https://localhost:8080/"
        },
        "id": "Yuv_baiikMoy",
        "outputId": "341a247d-ef66-44b5-e360-f66068436ea7"
      },
      "outputs": [
        {
          "output_type": "stream",
          "name": "stderr",
          "text": [
            "Downloading...\n",
            "From: https://drive.google.com/uc?export=download&confirm=pbef&id=1-CI6-QoEmGiInV23-n_l6Yd8QGWerw8-\n",
            "To: /content/femnist.tar.gz\n",
            "100%|██████████| 223M/223M [00:01<00:00, 188MB/s]\n",
            "INFO flwr 2024-02-20 10:23:00,148 | <ipython-input-5-ff6981c45896>:12 | Dataset extracted in /content/femnist\n",
            "INFO:flwr:Dataset extracted in /content/femnist\n"
          ]
        }
      ],
      "source": [
        "#  Download compressed dataset\n",
        "if not (home_dir / \"femnist.tar.gz\").exists():\n",
        "    file_id = \"1-CI6-QoEmGiInV23-n_l6Yd8QGWerw8-\"\n",
        "    gdown.download(\n",
        "        f\"https://drive.google.com/uc?export=download&confirm=pbef&id={file_id}\",\n",
        "        str(home_dir / \"femnist.tar.gz\"),\n",
        "    )\n",
        "\n",
        "# Decompress dataset\n",
        "if not dataset_dir.exists():\n",
        "    !tar -xf {str(home_dir)}/femnist.tar.gz -C {str(home_dir)} 2> /dev/null\n",
        "    log(INFO, f\"Dataset extracted in {dataset_dir}\")"
      ]
    },
    {
      "cell_type": "markdown",
      "metadata": {
        "id": "TJJU6WYlmSCx"
      },
      "source": [
        "### Python files\n"
      ]
    },
    {
      "cell_type": "code",
      "execution_count": 6,
      "metadata": {
        "colab": {
          "base_uri": "https://localhost:8080/"
        },
        "id": "PN-yr9d1LGvT",
        "outputId": "3dbb4010-c2ae-436a-8f07-7a4b4fabf823"
      },
      "outputs": [
        {
          "output_type": "stream",
          "name": "stdout",
          "text": [
            "Cloning into 'temp_repo'...\n",
            "remote: Enumerating objects: 214, done.\u001b[K\n",
            "remote: Counting objects: 100% (77/77), done.\u001b[K\n",
            "remote: Compressing objects: 100% (46/46), done.\u001b[K\n",
            "remote: Total 214 (delta 53), reused 43 (delta 31), pack-reused 137\u001b[K\n",
            "Receiving objects: 100% (214/214), 624.64 KiB | 5.68 MiB/s, done.\n",
            "Resolving deltas: 100% (122/122), done.\n"
          ]
        }
      ],
      "source": [
        "if not (home_dir / \"common\").exists():\n",
        "    ! git clone \"https://github.com/camlsys/L361-Federated-Learning.git\" temp_repo\n",
        "\n",
        "    # Copy the folder to the current directory\n",
        "    ! cp -r \"temp_repo/labs/common\" {home_dir}\n",
        "\n",
        "    # Delete the cloned repository\n",
        "    ! rm -rf temp_repo\n",
        "\n",
        "    # Create the __init__.py file\n",
        "    (home_dir / \"__init__.py\").open(mode=\"a+\")"
      ]
    },
    {
      "cell_type": "code",
      "execution_count": 7,
      "metadata": {
        "id": "RFlvMIYykMoz"
      },
      "outputs": [],
      "source": [
        "from common.client_utils import IntentionalDropoutError\n",
        "from common.client import FlowerClient, get_flower_client_generator\n",
        "from common.client_manager import CustomClientManager\n",
        "from common.strategy import FedAvgTraces\n",
        "from common.client_utils import (\n",
        "    get_network_generator_cnn,\n",
        "    get_model_parameters,\n",
        "    aggregate_weighted_average,\n",
        "    get_federated_evaluation_function,\n",
        "    get_default_test_config,\n",
        "    get_default_train_config,\n",
        "    get_device,\n",
        ")"
      ]
    },
    {
      "cell_type": "markdown",
      "metadata": {
        "id": "esYTgkRSmSCx"
      },
      "source": [
        "## Extract system traces\n"
      ]
    },
    {
      "cell_type": "markdown",
      "metadata": {
        "id": "0hmoZgo6mSCx"
      },
      "source": [
        "To model system heterogeneity, we will use a collection of actual device traces and capabilities extracted by another FL framework: [FedScale](https://github.com/SymbioticLab/FedScale). Unfortunately, these traces are not directly coupled to the FEMNIST dataset we have been using. As such, they cannot represent an intrinsic relation between data and system characteristics; we have to devise a mapping scheme between them. Generally, the pervasive lack of datasets synced to hardware characteristics in Federated Learning makes simulations unreliable as a source of guidance for production scenarios.\n",
        "\n",
        "A complete description of this data is available in [FedScale's](https://arxiv.org/abs/2105.11367) [paper](https://arxiv.org/abs/2105.11367) Sec. 3.2. Also, inside the folder you will download, there is a `README.md` file containing the minimal description of the files inside the folder.\n",
        "\n",
        "The first type of trace represents device communication and computation as floating point numbers. They can calculate a theoretical computation speed for each client for the given model, batch size and the number of batches.\n",
        "\n",
        "```\n",
        "{\n",
        "  'computation': FP32,\n",
        "  'communication': FP32,\n",
        "}\n",
        "```\n",
        "\n",
        "The inherent assumption of the formula we shall use is that the relative ordering of devices does not change according to the task. Even if performance changes between tasks by orders of magnitude---and recent papers indicate that it can---as long as the ordering is conserved, we can adjust the thresholds of our experiments and obtain broadly consistent results. Explicitly, we assume that if one device performed inference faster than another in the original benchmark, it should do so for any model and data combination. However, this is not guaranteed to hold in a modern hardware landscape, and we would ideally need regularly updated system traces for every kind of data---e.g. image, text.\n",
        "\n",
        "A second type of trace contains data on client activity and is used to determine when it can be selected for training.\n",
        "\n",
        "```\n",
        "{\n",
        "  'duration': INT,\n",
        "  'inactive': [INT],\n",
        "  'finish_time': INT,\n",
        "  'active': [INT],\n",
        "  'model': STRING\n",
        "}\n",
        "```\n"
      ]
    },
    {
      "cell_type": "code",
      "execution_count": 8,
      "metadata": {
        "colab": {
          "base_uri": "https://localhost:8080/"
        },
        "id": "n82bqNhCmSCx",
        "outputId": "0c0dcfe3-2e1b-410d-afd9-e29a51297644"
      },
      "outputs": [
        {
          "output_type": "stream",
          "name": "stderr",
          "text": [
            "Downloading...\n",
            "From: https://drive.google.com/uc?export=download&confirm=pbef&id=1-9_C33KbSiuai9XJ6Cl4N-nmPltf5D6p\n",
            "To: /content/device_info.tar.gz\n",
            "100%|██████████| 27.1M/27.1M [00:00<00:00, 183MB/s]\n",
            "INFO flwr 2024-02-20 10:23:03,118 | <ipython-input-8-71b845600caf>:11 | Devices' info extracted in /content/device_info\n",
            "INFO:flwr:Devices' info extracted in /content/device_info\n"
          ]
        }
      ],
      "source": [
        "# Download compressed dataset\n",
        "if not (home_dir / \"device_info.tar.gz\").exists():\n",
        "    id = \"1-9_C33KbSiuai9XJ6Cl4N-nmPltf5D6p\"\n",
        "    gdown.download(\n",
        "        f\"https://drive.google.com/uc?export=download&confirm=pbef&id={id}\",\n",
        "        str(home_dir / \"device_info.tar.gz\"),\n",
        "    )\n",
        "# Decompress dataset\n",
        "if not devices_info_dir.exists():\n",
        "    !tar -xf {str(home_dir)}/device_info.tar.gz -C {str(home_dir)} 2> /dev/null\n",
        "    log(INFO, \"Devices' info extracted in %s\", devices_info_dir)"
      ]
    },
    {
      "cell_type": "markdown",
      "metadata": {
        "id": "znAQLwX7mSCx"
      },
      "source": [
        "We will implement three functions which will help us in the following discussion.\n",
        "\n",
        "1. The first `get_devices_info` can be used to put the info we just downloaded into `pandas` `DataFrame` structures.\n",
        "2. The second `is_active` can compute whether a client is active, given its device traces and the virtual clock.\n",
        "3. Finally, the third function `get_client_completion_time` is just computing the estimates for communication time and computation time of the client with the assumptions outlined above while incorporating a correction factor.\n"
      ]
    },
    {
      "cell_type": "code",
      "execution_count": 9,
      "metadata": {
        "id": "an8QeXjxmSCx"
      },
      "outputs": [],
      "source": [
        "def get_devices_info(\n",
        "    root_dir: Path,\n",
        ") -> tuple[pd.DataFrame, pd.DataFrame]:\n",
        "    \"\"\"Retrieve two pandas data frames with traces and capabilities of clients' devices.\n",
        "\n",
        "    Args:\n",
        "        root_dir (Path): path to the folder containing such traces.\n",
        "\n",
        "    Returns\n",
        "    -------\n",
        "        tuple[pd.DataFrame, pd.DataFrame]: couple of dataframes containing the\n",
        "            requested info\n",
        "    \"\"\"\n",
        "    cbt_path = root_dir / \"client_behave_trace\"\n",
        "    cdc_path = root_dir / \"client_device_capacity\"\n",
        "    with open(cbt_path, \"rb\") as f:\n",
        "        client_behave_trace = pd.DataFrame(pickle.load(f)).transpose()\n",
        "    with open(cdc_path, \"rb\") as f:\n",
        "        client_device_capacity = pd.DataFrame(pickle.load(f)).transpose()\n",
        "    return client_behave_trace, client_device_capacity"
      ]
    },
    {
      "cell_type": "markdown",
      "metadata": {
        "id": "ZkrXB2AKkMoz"
      },
      "source": [
        "Determining whether a client is active requires considering the cyclical behaviour described above. Specifically, our clock is defined by the `finish_time` integer inside the traces' data frame; the next cycle begins once the finish time is exceeded. We normalise all times by this `finish_time` value using the modulo operator. This normalised time allows us to maintain a virtual clock for client synchronisation in FL.\n",
        "\n",
        "Given the normalised time, each client is a sequence of active and inactive periods that wraps back at the end. The first inactive period is always chronologically after the first active period. However, not all the traces start at time 0. For consistency, we have considered the period between 0 and the beginning of the first active period to be **inactive**. This convention fits the idea that a client must join the federation before they can become active within it.\n",
        "\n",
        "A given client is considered active at the **start of a round** if its most recent active period before the current time is later than its most recent inactive period.\n",
        "\n",
        "> **IMPORTANT**: Activity at the start of the round **does not imply activity throughout the round**.\n"
      ]
    },
    {
      "cell_type": "code",
      "execution_count": 10,
      "metadata": {
        "id": "Kras9RyHmSCx"
      },
      "outputs": [],
      "source": [
        "def is_active(\n",
        "    single_client_traces: dict[str, Any],\n",
        "    current_clock_time: int,\n",
        ") -> bool:\n",
        "    \"\"\"Return a boolean describing whether the client is active or not.\n",
        "\n",
        "    It returns True when `single_client_traces` are not given.\n",
        "    The current (virtual) clock time must pass as a parameter.\n",
        "\n",
        "    Args:\n",
        "        single_client_traces (dict[str, Any]): dict describing client device traces.\n",
        "        current_clock_time (int): parameter that describes current (virtual) clock time.\n",
        "\n",
        "    Returns\n",
        "    -------\n",
        "        bool: True is the client is active, False elsewhere.\n",
        "    \"\"\"\n",
        "    # If no traces are given, return True\n",
        "    if single_client_traces is None:\n",
        "        return True\n",
        "    # Get the normalized time when the `current_clock_time` is\n",
        "    # greater than `single_client_traces['finish_time']`, nothing\n",
        "    # happens if `current_clock_time` < `single_client_traces['finish_time']`\n",
        "    normalized_time = current_clock_time % single_client_traces[\"finish_time\"]\n",
        "    # Get the highest single_client_traces['active'] occurrence\n",
        "    # that is lower than `normalized_time`\n",
        "    single_client_traces[\"active\"].sort()\n",
        "    active_time = -1\n",
        "    for t in single_client_traces[\"active\"]:\n",
        "        active_time = t if t <= normalized_time else active_time\n",
        "    # print(f\"Highest active time: {active_time}\")\n",
        "    # Get the highest single_client_traces['inactive'] occurrence\n",
        "    # that is lower than `normalized_time`\n",
        "    single_client_traces[\"inactive\"].sort()\n",
        "    inactive_time = -1\n",
        "    for t in single_client_traces[\"inactive\"]:\n",
        "        inactive_time = t if t <= normalized_time else inactive_time\n",
        "    # print(f\"Highest inactive time: {inactive_time}\")\n",
        "\n",
        "    return active_time > inactive_time"
      ]
    },
    {
      "cell_type": "markdown",
      "metadata": {
        "id": "i3BPsUrtkMoz"
      },
      "source": [
        "Estimating a given client's time to finish the workload is more straightforward, given our assumption of universal computation performance **across** tasks. However, one relevant detail is the need to double-count communication costs in the equation as the model needs to be transmitted both forwards and backwards. Please do not concern yourself with the normalisation of compute nor the scaling `augmentation_factor` unless you consider it necessary for a future experiment.\n",
        "\n",
        "One variable which will require tuning is `model_size_scale_factor`, as it allows us to model how the computation-communication trade-off changes when we increase or decrease the size of an actual ML model. For the rest of this lab the size of the model shall be assumed to be in MB.\n"
      ]
    },
    {
      "cell_type": "code",
      "execution_count": 11,
      "metadata": {
        "id": "71ltPemfmSCy"
      },
      "outputs": [],
      "source": [
        "def get_client_completion_time(\n",
        "    single_client_device_capacity: dict[str, Any],\n",
        "    batch_size: int,\n",
        "    n_batches: int,\n",
        "    model_size: float,\n",
        "    augmentation_factor: float = 3.0,\n",
        "    model_size_scale_factor: float = 1.0,\n",
        ") -> dict[str, float]:\n",
        "    \"\"\"Compute the computation and communication latency of the client.\n",
        "\n",
        "    These values are computed as follows:\n",
        "    - Computation latency: `single_client_device_capacity['computation']` is the\n",
        "        inference latency of models (ms/sample). We compute the computation latency as\n",
        "        the inference latency times the number of samples processed. As reported in\n",
        "        many papers, backward-pass takes around 2x the latency, so we multiply it by 3x.\n",
        "    - Communication latency: `single_client_device_capacity['communication']` represents\n",
        "        the bandwidth of the device (kB/s). We then compute the communication latency as\n",
        "        the ratio between twice the size of the model and the bandwidth of the device.\n",
        "\n",
        "    Args:\n",
        "        single_client_device_capacity (dict[str, Any]): dictionary containing info about\n",
        "            device capabilities.\n",
        "        batch_size (int): batch size used during local client training.\n",
        "        n_batches (int): number of batches trained by the client.\n",
        "        model_size (float): an estimate of the size of the model in MB.\n",
        "        augmentation_factor (float, optional): multiplicative augmentation factor for\n",
        "            the computation latency. Defaults to 3.0.\n",
        "        model_size_scale_factor (float, optional): multiplicative augmentation factor\n",
        "            for the communication latency. Defaults to 1.0.\n",
        "\n",
        "    Returns\n",
        "    -------\n",
        "        Dict[str, float]: dictionary containing estimates for time spent by the client\n",
        "            in computation and communication.\n",
        "    \"\"\"\n",
        "    return {\n",
        "        \"computation\": augmentation_factor\n",
        "        * batch_size\n",
        "        * n_batches\n",
        "        * float(single_client_device_capacity[\"computation\"])\n",
        "        / 1000.0,\n",
        "        \"communication\": 2\n",
        "        * model_size_scale_factor\n",
        "        * model_size\n",
        "        * 1000\n",
        "        / float(single_client_device_capacity[\"communication\"]),\n",
        "    }"
      ]
    },
    {
      "cell_type": "code",
      "execution_count": 12,
      "metadata": {
        "id": "cAaSFZYHkMoz"
      },
      "outputs": [],
      "source": [
        "client_behave_trace, client_device_capacity = get_devices_info(devices_info_dir)"
      ]
    },
    {
      "cell_type": "markdown",
      "metadata": {
        "id": "CUCWOwKVmSCy"
      },
      "source": [
        "### Analyse what's inside these traces\n"
      ]
    },
    {
      "cell_type": "markdown",
      "metadata": {
        "id": "qJ-mkQH9kMo0"
      },
      "source": [
        "In the following few cells, we will analyse the traces regarding the distributions of the overall population.\n",
        "The quantities we are primarily interested in are the `duration` and `finish_time` from `client_behave_trace`.\n"
      ]
    },
    {
      "cell_type": "markdown",
      "metadata": {
        "id": "rQAbYDUakMo0"
      },
      "source": [
        "If we plot the duration of training for clients, the distribution should resemble the first plot we saw in this notebook. This `duration` value is the sum of the periods of time in which each device is active. Although, we will interpret it as the client execution time that can be computed as the sum of the outputs of `get_client_completion_time`. FedScale's authors used the `duration` value as the initial estimate for the client completion time. We will use it in this section as the client completion time for “standard” values of `batch_size` and `num_batches`.\n"
      ]
    },
    {
      "cell_type": "code",
      "execution_count": 13,
      "metadata": {
        "colab": {
          "base_uri": "https://localhost:8080/",
          "height": 448
        },
        "id": "12ms9fFUmSCy",
        "outputId": "90a520aa-eaca-4359-c1c4-bb266e4229c6"
      },
      "outputs": [
        {
          "output_type": "display_data",
          "data": {
            "text/plain": [
              "<Figure size 640x480 with 1 Axes>"
            ],
            "image/png": "[encoded data removed]"
          },
          "metadata": {}
        }
      ],
      "source": [
        "client_behave_trace.duration.hist(bins=\"auto\")\n",
        "plt.show()"
      ]
    },
    {
      "cell_type": "markdown",
      "metadata": {
        "id": "IpkTnZwVkMo0"
      },
      "source": [
        "The subsequent distribution should show us how different the activity cycles recorded in the traces are. Due to the considerable variation in finish times, it was necessary to use the `finish_time` as a normalisation factor above to simulate devices operating in the same period.\n"
      ]
    },
    {
      "cell_type": "code",
      "execution_count": 14,
      "metadata": {
        "colab": {
          "base_uri": "https://localhost:8080/",
          "height": 448
        },
        "id": "ognZeZMYkMo0",
        "outputId": "b70f2c4e-e84d-46fb-8e5d-81121e7596be"
      },
      "outputs": [
        {
          "output_type": "display_data",
          "data": {
            "text/plain": [
              "<Figure size 640x480 with 1 Axes>"
            ],
            "image/png": "[encoded data removed]"
          },
          "metadata": {}
        }
      ],
      "source": [
        "client_behave_trace.finish_time.hist(bins=\"auto\")\n",
        "plt.show()"
      ]
    },
    {
      "cell_type": "markdown",
      "metadata": {
        "id": "-3DbuYinwQXf"
      },
      "source": [
        "One of the choices we had to make when modelling client activity concerned handling the period between 0 and when a client first becomes active; we can now inspect the motivating factors behind treating that period as inactive.\n",
        "\n",
        "Our choice was theoretically justifiable and practical given the start-times distribution we see below. The peak around 0 is natural, given that this was when the recording started. However, it may create difficulties during FL simulations as it would allow many clients to be available immediately for the first few rounds. Additionally, as all clients would be right at the beginning of their active period for the first round, it would create a scenario with minimal drop-out rates.\n",
        "\n",
        "> By treating everyone who starts later than 0 as inactive at the start, we lower the potential bias towards the early rounds that a simulation may have.\n"
      ]
    },
    {
      "cell_type": "code",
      "execution_count": 15,
      "metadata": {
        "colab": {
          "base_uri": "https://localhost:8080/",
          "height": 430
        },
        "id": "ZetFsdEml6KZ",
        "outputId": "04d430ab-4efe-44e7-f275-079bf472dd74"
      },
      "outputs": [
        {
          "output_type": "display_data",
          "data": {
            "text/plain": [
              "<Figure size 640x480 with 1 Axes>"
            ],
            "image/png": "[encoded data removed]"
          },
          "metadata": {}
        }
      ],
      "source": [
        "# New column containing the start time of\n",
        "# each client defined as the beginning\n",
        "# of their first active period\n",
        "client_behave_trace[\"first_active\"] = client_behave_trace[\"active\"].map(lambda x: x[0])\n",
        "client_behave_trace.first_active.hist(bins=\"auto\")\n",
        "plt.show()"
      ]
    },
    {
      "cell_type": "markdown",
      "metadata": {
        "id": "AHYwXHoUkMo1"
      },
      "source": [
        "**Question 5 (Part II ✅ | Part III/MPhil ✅):**\n",
        "\n",
        "(You need to provide the answer with **code** and **plots** for this question. A short written argumentation is recommended.)\n",
        "\n",
        "1. Randomly sample 100 behavioural traces from `client_behave_trace`. Sample without replacement. Plot the total number of active and inactive clients over time for 600000 seconds using steps of 10 seconds.\n",
        "2. Sort `client_behave_trace` by `finish_time` in **ascending** order. Call it `ft_sorted_client_behave`. Repeat point (1) using `ft_sorted_client_behave` instead of `client_behave_trace`. Replace the random sampling with a sampling of the first 100 traces.\n",
        "3. Sort `client_behave_trace` by `duration` in **descending** order. Call it `dur_sorted_client_behave`. Repeat point (1) using `dur_sorted_client_behave` instead of `client_behave_trace`. Replace the random sampling with a sampling of the first 100 traces.\n",
        "4. Compare the three plots. What do you observe? What are the implications of performing FL with such populations?\n"
      ]
    },
    {
      "cell_type": "code",
      "source": [
        "def get_time_series(data):\n",
        "  time_a = {t:[0,0] for t in np.arange(0,600000,10)}\n",
        "  sd = data.to_dict(orient='records')\n",
        "  for row in sd:\n",
        "    for t in time_a:\n",
        "      time_a[t][int(is_active(row, t))] += 1\n",
        "  return time_a\n",
        "\n",
        "def plot_time_series(ts):\n",
        "  plt.plot(ts.keys(), [x[0] for x in ts.values()], label=\"inactive\")\n",
        "  plt.plot(ts.keys(), [x[1] for x in ts.values()], label=\"active\")\n",
        "  plt.legend()\n",
        "  plt.show()"
      ],
      "metadata": {
        "id": "ybzs7M1PKYuT"
      },
      "execution_count": 16,
      "outputs": []
    },
    {
      "cell_type": "code",
      "source": [
        "s = client_behave_trace.sample(n=100, replace=False)\n",
        "ts1 = get_time_series(s)\n",
        "plot_time_series(ts1)"
      ],
      "metadata": {
        "id": "P4F7hQXeI6ty",
        "colab": {
          "base_uri": "https://localhost:8080/",
          "height": 430
        },
        "outputId": "aa4b807c-6ba7-43e1-8be7-aa92fa845869"
      },
      "execution_count": 17,
      "outputs": [
        {
          "output_type": "display_data",
          "data": {
            "text/plain": [
              "<Figure size 640x480 with 1 Axes>"
            ],
            "image/png": "[encoded data removed]"
          },
          "metadata": {}
        }
      ]
    },
    {
      "cell_type": "code",
      "source": [
        "ft_sorted_client_behave = client_behave_trace.sort_values('finish_time')\n",
        "s = ft_sorted_client_behave.iloc[:100]\n",
        "ts2 = get_time_series(s)\n",
        "plot_time_series(ts2)"
      ],
      "metadata": {
        "id": "CclwfRWX-Bk0",
        "colab": {
          "base_uri": "https://localhost:8080/",
          "height": 430
        },
        "outputId": "ff5721f3-8b94-4aa6-e850-8c6e5a59145b"
      },
      "execution_count": 18,
      "outputs": [
        {
          "output_type": "display_data",
          "data": {
            "text/plain": [
              "<Figure size 640x480 with 1 Axes>"
            ],
            "image/png": "[encoded data removed]"
          },
          "metadata": {}
        }
      ]
    },
    {
      "cell_type": "code",
      "source": [
        "dur_sorted_client_behave = client_behave_trace.sort_values('duration', ascending=False)\n",
        "s = dur_sorted_client_behave.iloc[:100]\n",
        "ts3 = get_time_series(s)\n",
        "plot_time_series(ts3)"
      ],
      "metadata": {
        "colab": {
          "base_uri": "https://localhost:8080/",
          "height": 430
        },
        "id": "XvBt-obSAFFS",
        "outputId": "7b1c29af-eebd-45c7-df18-3a73fdc51e89"
      },
      "execution_count": 19,
      "outputs": [
        {
          "output_type": "display_data",
          "data": {
            "text/plain": [
              "<Figure size 640x480 with 1 Axes>"
            ],
            "image/png": "[encoded data removed]"
          },
          "metadata": {}
        }
      ]
    },
    {
      "cell_type": "markdown",
      "source": [
        "Our first plot is a random sample, and as such, trends in the number of active / inactive devices are relatively muted, as we are averaging over such a large, disparate population. The overall number of active clients is quite low. Our second plot displays the 100 clients which finish first. We can see an obvious trend in activity, with a consistent period. This corresponds to the idea that these early finishers are all fairly well-behaved and also that their behaviour is correlated with each other. Out third plot shows the 100 clients with the longest durations. We see much higher levels of activity (a majority of the clients are active, where in the previous plot, a majority were inactive). We also see similar sawtooth trend to before in terms of active clients, but it is superimposed on a longer period trend. These clients correspond to the long tail in our earlier duration histogram, so it makes sense that each of the clients behaves differently. As these are the clients have the longest durations, it makes sense that there is much more activity.\n",
        "\n",
        "FL on the second population: more regular and predictable activity rates, higher highs and lower lows in number of active clients \\\\\n",
        "FL on the third population: longer thresholds required for these clients given the longer durations, but also more available active clients as the durations are sums of active periods.\n",
        "\n",
        "<!-- The implications of FL with such a population are that we will need to mitigate the effects of the wide heterogeneity in the client systems. Most notably, the biases that can occur, favouring clients which are more available, and downweighting clients which take longer to train. We have previously seen modifications to FL which attempt to address these issues. In this case, where the population and variance is so large, it may be most suitable to treat groups of client types as separate tasks to learn, and then transfer knowledge between the ensemble, to maximise performance. -->\n"
      ],
      "metadata": {
        "id": "97j9w_iq1Nrw"
      }
    },
    {
      "cell_type": "markdown",
      "metadata": {
        "id": "A9Fb96C19e2a"
      },
      "source": [
        "**Question 6 (Part III/MPhil ✅):**\n",
        "\n",
        "(This is meant to be a conceptual question. You should provide a written answer to this. **No more than 3 sentences each**. **No code** is needed)\n",
        "\n",
        "1. In light of your consideration about question (5) above, what do you think could happen when reverting the ordering in point (2) and point (3)? Focus on the plots.\n",
        "2. What are the implications of the FL training with such populations? Refer to populations with reverse ordering in point (2) and point (3).\n"
      ]
    },
    {
      "cell_type": "markdown",
      "source": [
        "1. Reverting the finish time plot would result in the clients which finish their activity last. This is a long tail and disparate group of clients. We can expect less active clients. Reverting the duration plot gives us the clients with the shortest duration, and therefore very low activity levels throughout.\n",
        "2. For the reversed finish time plot, we would may have similar behaviour to a random sample, but with a lower number of active clients, given that the finish time just corresponds to the last activity in the simulation, and therfore produces relatively uncorrelated clients. For the reversed duration plot, we can expect very slow training as we would have a very low number of active clients."
      ],
      "metadata": {
        "id": "plao_CQxC9XI"
      }
    },
    {
      "cell_type": "code",
      "source": [
        "client_behave_trace, client_device_capacity = get_devices_info(devices_info_dir)\n",
        "s = client_behave_trace.sample(n=100, replace=False)\n",
        "ft_sorted_client_behave = client_behave_trace.sort_values('finish_time', ascending=False)\n",
        "s = ft_sorted_client_behave.iloc[:100]\n",
        "ts2 = get_time_series(s)\n",
        "plot_time_series(ts2)"
      ],
      "metadata": {
        "id": "6PaoT-vR47ad",
        "outputId": "6bf4ee4f-a89c-4679-e76a-72bc45d40656",
        "colab": {
          "base_uri": "https://localhost:8080/",
          "height": 430
        }
      },
      "execution_count": 20,
      "outputs": [
        {
          "output_type": "display_data",
          "data": {
            "text/plain": [
              "<Figure size 640x480 with 1 Axes>"
            ],
            "image/png": "[encoded data removed]"
          },
          "metadata": {}
        }
      ]
    },
    {
      "cell_type": "code",
      "source": [
        "dur_sorted_client_behave = client_behave_trace.sort_values('duration', ascending=True)\n",
        "s = dur_sorted_client_behave.iloc[:100]\n",
        "ts3 = get_time_series(s)\n",
        "plot_time_series(ts3)"
      ],
      "metadata": {
        "id": "X4diXi1o44nU",
        "outputId": "3808b204-9501-405b-bb9b-c0c473402abe",
        "colab": {
          "base_uri": "https://localhost:8080/",
          "height": 430
        }
      },
      "execution_count": 21,
      "outputs": [
        {
          "output_type": "display_data",
          "data": {
            "text/plain": [
              "<Figure size 640x480 with 1 Axes>"
            ],
            "image/png": "[encoded data removed]"
          },
          "metadata": {}
        }
      ]
    },
    {
      "cell_type": "markdown",
      "metadata": {
        "id": "xKSr0evy97X4"
      },
      "source": [
        "### Analyse what's inside device capabilities\n"
      ]
    },
    {
      "cell_type": "markdown",
      "metadata": {
        "id": "ssx7BRGG-LR0"
      },
      "source": [
        "In the next few cells, we will analyse the content of `client_device_trace`.\n",
        "Primarily, we will focus on the distribution of `computation` and `communication` on the clients and the afferent trade-off between the two, given a specific model size.\n"
      ]
    },
    {
      "cell_type": "markdown",
      "metadata": {
        "id": "GBVxtIFokMo0"
      },
      "source": [
        "As we could have imagined, the devices' computational capabilities are highly heterogeneous. For example, despite the consistent peak at around 25 ms/sample, there is a relevant part of the population of devices with values 6 to 8 times higher. Suppose such heterogeneity in computation was related to factors influencing the data distribution. In that case, it could induce significant bias in the model training procedure, which would have to be considered by the developer.\n"
      ]
    },
    {
      "cell_type": "code",
      "execution_count": 22,
      "metadata": {
        "id": "O_02l1kakMo0",
        "colab": {
          "base_uri": "https://localhost:8080/",
          "height": 430
        },
        "outputId": "f95eb176-85da-49fb-fc82-99709337311b"
      },
      "outputs": [
        {
          "output_type": "display_data",
          "data": {
            "text/plain": [
              "<Figure size 640x480 with 1 Axes>"
            ],
            "image/png": "[encoded data removed]"
          },
          "metadata": {}
        }
      ],
      "source": [
        "client_device_capacity.computation.hist(bins=\"auto\")\n",
        "plt.show()"
      ]
    },
    {
      "cell_type": "markdown",
      "metadata": {
        "id": "EOuygWirkMo0"
      },
      "source": [
        "The communication capabilities are also very heterogeneous, as expected. Despite the distribution having a more apparent peak with a shorter tail, some devices have communication capabilities orders of magnitude higher than the peak of the distribution.\n",
        "\n",
        "Geographic variance in network speed is non-uniform and related to the data a given client may contain.\n"
      ]
    },
    {
      "cell_type": "code",
      "execution_count": 23,
      "metadata": {
        "id": "L2jyeza-kMo0",
        "colab": {
          "base_uri": "https://localhost:8080/",
          "height": 430
        },
        "outputId": "cf76bbe6-9555-451b-a9d1-9fae6665cbbe"
      },
      "outputs": [
        {
          "output_type": "display_data",
          "data": {
            "text/plain": [
              "<Figure size 640x480 with 1 Axes>"
            ],
            "image/png": "[encoded data removed]"
          },
          "metadata": {}
        }
      ],
      "source": [
        "client_device_capacity.communication.hist(bins=\"auto\")\n",
        "plt.show()"
      ]
    },
    {
      "cell_type": "code",
      "execution_count": 24,
      "metadata": {
        "id": "MKgeroBhp8bo",
        "colab": {
          "base_uri": "https://localhost:8080/"
        },
        "outputId": "abd06855-74b1-4a0e-aaac-32c7091a5591"
      },
      "outputs": [
        {
          "output_type": "execute_result",
          "data": {
            "text/plain": [
              "13736.140238980068"
            ]
          },
          "metadata": {},
          "execution_count": 24
        }
      ],
      "source": [
        "client_device_capacity.communication.mean()"
      ]
    },
    {
      "cell_type": "markdown",
      "metadata": {
        "id": "gwXXCVbmLGva"
      },
      "source": [
        "As you may have previously noticed, the traces for the device compute capabilities and the traces for availability are uncorrelated. This is due to a lack of datasets in FL which synchronously cover both.\n",
        "\n",
        "In the following question you will be asked to numerically verify this lack of correlation."
      ]
    },
    {
      "cell_type": "markdown",
      "metadata": {
        "id": "FQC-l65_08cW"
      },
      "source": [
        "**Question 7 (Part II ✅):**\n",
        "\n",
        "(You need to provide the answer with **code** and **plots** for this question. A short written argumentation is recommended.)\n",
        "\n",
        "Looking carefully at the number in the y-axis, some of you may have noticed that the number of samples retrieved from `client_behave_trace` is not the same as that retrieved from `client_device_capacity`. Given this fact, we may wish to investigate if they are drawn from the same population of devices.\n",
        "\n",
        "1. Plot communication and computation mapped one-to-one using the entirety of `client_device_capacity`.\n",
        "\n",
        "- Do you notice any correlation between the two traces as given?\n",
        "\n",
        "2. Fix two different thresholds for computation, and plot the histogram of communication costs from the previous mapping using only traces whose computation falls below the given threshold.\n",
        "\n",
        "- Do these histograms look different from one another?\n",
        "- Do they look different from the overall communication histogram?\n",
        "\n",
        "3. Fix two communication thresholds and plot the histograms of computation costs of traces with communication values falling below the thresholds.\n",
        "\n",
        "- Do these histograms look different from one another?\n",
        "- Do they look different from the overall computation histogram?\n"
      ]
    },
    {
      "cell_type": "markdown",
      "metadata": {
        "id": "I6vjl2zFkMo0"
      },
      "source": [
        "The mismatch between the two types of traces is because the authors of FedScale have combined two separate datasets to construct the files. They used [AI benchmark](https://arxiv.org/abs/1910.06663) to obtain the performance capabilities of mobile devices and [MobiPerf](https://www.measurementlab.net/tests/mobiperf/) to gather the availability traces.\n",
        "\n",
        "Similarly to the mismatch between traces and data we have previously discussed, experiments using performance and availability traces collected from separate devices may not generalise to the real world. However, since we do not yet have the large-scale datasets necessary to model FL systems accurately, we will have to accept this inconsistency.\n"
      ]
    },
    {
      "cell_type": "code",
      "execution_count": 25,
      "metadata": {
        "id": "IFVCdY_8kMo1",
        "colab": {
          "base_uri": "https://localhost:8080/"
        },
        "outputId": "634f72be-0176-4137-eaba-c02c3c1b91f6"
      },
      "outputs": [
        {
          "output_type": "stream",
          "name": "stderr",
          "text": [
            "INFO flwr 2024-02-20 10:26:59,809 | <ipython-input-25-b3d6a2c4e440>:1 | The number of samples in `client_behave_trace` is 107749\n",
            "INFO:flwr:The number of samples in `client_behave_trace` is 107749\n",
            "INFO flwr 2024-02-20 10:26:59,813 | <ipython-input-25-b3d6a2c4e440>:6 | The number of samples in `client_device_capacity` is 500000\n",
            "INFO:flwr:The number of samples in `client_device_capacity` is 500000\n"
          ]
        }
      ],
      "source": [
        "log(\n",
        "    INFO,\n",
        "    \"The number of samples in `client_behave_trace` is %s\",\n",
        "    len(client_behave_trace),\n",
        ")\n",
        "log(\n",
        "    INFO,\n",
        "    \"The number of samples in `client_device_capacity` is %s\",\n",
        "    len(client_device_capacity),\n",
        ")"
      ]
    },
    {
      "cell_type": "markdown",
      "metadata": {
        "id": "RtWt7x2QkMo1"
      },
      "source": [
        "Because the clients do not come from the same population, we need to devise a method for synchronising them.\n",
        "The most straightforward procedure we can devise is to sample `len (client_behave_trace)` data points from `client_device_capacity` uniformly. Many other methods that can extract distributions with particular characteristics are possible, but we will do this for brevity.\n"
      ]
    },
    {
      "cell_type": "code",
      "execution_count": 26,
      "metadata": {
        "id": "4x5gU32_kMo1",
        "colab": {
          "base_uri": "https://localhost:8080/"
        },
        "outputId": "6005f3f8-293e-4273-adaf-b5e2a8d3f620"
      },
      "outputs": [
        {
          "output_type": "stream",
          "name": "stderr",
          "text": [
            "INFO flwr 2024-02-20 10:26:59,874 | <ipython-input-26-edc9e15b8942>:4 | The `client_device_capacity` obtained is         computation  communication\n",
            "47207         193.0   69699.145846\n",
            "461140        183.0    2839.221328\n",
            "142018         25.0    2691.448988\n",
            "87018         143.0   19808.991593\n",
            "141996         18.0   23756.694131\n",
            "...             ...            ...\n",
            "49123          50.0   13702.634065\n",
            "177902        149.0    3958.580828\n",
            "118303         74.0    1696.431054\n",
            "222990         64.0   31429.813032\n",
            "257504        150.0   15228.423300\n",
            "\n",
            "[107749 rows x 2 columns]\n",
            "INFO:flwr:The `client_device_capacity` obtained is         computation  communication\n",
            "47207         193.0   69699.145846\n",
            "461140        183.0    2839.221328\n",
            "142018         25.0    2691.448988\n",
            "87018         143.0   19808.991593\n",
            "141996         18.0   23756.694131\n",
            "...             ...            ...\n",
            "49123          50.0   13702.634065\n",
            "177902        149.0    3958.580828\n",
            "118303         74.0    1696.431054\n",
            "222990         64.0   31429.813032\n",
            "257504        150.0   15228.423300\n",
            "\n",
            "[107749 rows x 2 columns]\n"
          ]
        }
      ],
      "source": [
        "client_device_capacity = client_device_capacity.sample(\n",
        "    len(client_behave_trace), replace=False, random_state=Seeds.DEFAULT\n",
        ")\n",
        "log(\n",
        "    INFO,\n",
        "    \"The `client_device_capacity` obtained is %s\",\n",
        "    client_device_capacity,\n",
        ")"
      ]
    },
    {
      "cell_type": "markdown",
      "metadata": {
        "id": "1Sff3LPFkMo1"
      },
      "source": [
        "We can plot the distributions from `client_device_capacity` to see if the sampling procedure has succeeded before we apply it in our experiments.\n"
      ]
    },
    {
      "cell_type": "code",
      "execution_count": 27,
      "metadata": {
        "id": "GDLgodTwp8bp",
        "colab": {
          "base_uri": "https://localhost:8080/",
          "height": 844
        },
        "outputId": "bfb7d123-7d13-49f9-ce12-1e2c43a3da2f"
      },
      "outputs": [
        {
          "output_type": "display_data",
          "data": {
            "text/plain": [
              "<Figure size 640x480 with 1 Axes>"
            ],
            "image/png": "[encoded data removed]"
          },
          "metadata": {}
        },
        {
          "output_type": "display_data",
          "data": {
            "text/plain": [
              "<Figure size 640x480 with 1 Axes>"
            ],
            "image/png": "[encoded data removed]"
          },
          "metadata": {}
        }
      ],
      "source": [
        "client_device_capacity.computation.hist(bins=\"auto\")\n",
        "plt.show()\n",
        "client_device_capacity.communication.hist(bins=\"auto\")\n",
        "plt.show()"
      ]
    },
    {
      "cell_type": "markdown",
      "metadata": {
        "id": "_oADe4R4sF96"
      },
      "source": [
        "For later experiments, you will have to use a computation threshold to select clients. The following plot is likely the most revealing if you wish to understand better the impact a particular computation threshold will have on the number of clients that may be included in a given round. Pay particular attention to the sharp increase at the start of the plot.\n"
      ]
    },
    {
      "cell_type": "code",
      "execution_count": 28,
      "metadata": {
        "id": "Ono9HL-jsA2l",
        "colab": {
          "base_uri": "https://localhost:8080/",
          "height": 430
        },
        "outputId": "540f41a6-71ab-491b-be33-32cbaa965ed1"
      },
      "outputs": [
        {
          "output_type": "display_data",
          "data": {
            "text/plain": [
              "<Figure size 640x480 with 1 Axes>"
            ],
            "image/png": "[encoded data removed]"
          },
          "metadata": {}
        }
      ],
      "source": [
        "client_device_capacity.computation.hist(bins=\"auto\", cumulative=True, density=True)\n",
        "plt.show()"
      ]
    },
    {
      "cell_type": "markdown",
      "metadata": {
        "id": "hal8zjei_fUL"
      },
      "source": [
        "**Question 8 (Part II ✅):**\n",
        "\n",
        "(You need to provide the answer with **code** and **plots** for this question. A short written argumentation is recommended.)\n",
        "\n",
        "We have just extracted and analysed the device capabilities of our population and obtained some idea about how communication and computation capabilities are distributed. However, the exact trade-off depends on `model_size`, `batch_size` and `n_batches`. Since `batch_size*n_batches` is fixed to equal the local dataset size, `model_size` requires closer attention for our modelling of FL systems to be informative. Specifically, we want both communication and computation to have detectable impacts on your FL experiments and their interaction shifts as you scale a network.\n",
        "\n",
        "Our function `get_client_completion_time` can help us observe the trade-off between computation and communication without running costly FL experiments. For the following question, assume that `batch_size=32`, `n_batches=64` stay fixed.\n",
        "\n",
        "1. Compute the average client completion time for different values of `model_size`. The average is intended to be over the population described by `client_device_capacity`. Choose at least 100 different values of the `model_size` in the interval `[0,2000] MB`.\n",
        "2. Plot your results from (1) as explained here: from (1) you will have the average communication latency (`a`), the average computation latency (`b`), and you can compute their sum (`c`). Then, plot those three curves (`a`, `b`, and `c`) in the same graph VS model size. The intersection point between `a` and `b` must be visible. What does it represent?\n",
        "3. Extract the model size from the intersection point in (2).\n",
        "\n",
        "> **You are required** to use the intersection parameter throughout the rest of this work.\n"
      ]
    },
    {
      "cell_type": "markdown",
      "metadata": {
        "id": "41vY3KUBmSC0"
      },
      "source": [
        "# 4. Implementing system traces in the simulation\n"
      ]
    },
    {
      "cell_type": "markdown",
      "metadata": {
        "id": "bZxm5U12mSC0"
      },
      "source": [
        "To implement our system traces into the Flower simulator to model a real FL federation, we need to extend the abstraction of `FlowerRayClient`. The new version of the abstraction shall include the information we have extracted from the traces. Achieving this will require creating a new class `FlowerRayClientTraces`, which inherits from `FlowerRayClient`.\n",
        "\n",
        "The new class will have minimal new attributes and functions needed to model the actual system accurately. We will simulate clients dropping out of the federation by throwing exceptions and allowing Flower to accept failures.\n",
        "\n",
        "The `get_flower_client_generator` function will be modified to return a generator of `FlowerRayClientTraces` instead of `FlowerRayClient`. In addition, we will pass the traces that must be coupled to the clients as parameters.\n"
      ]
    },
    {
      "cell_type": "markdown",
      "metadata": {
        "id": "n7w3rIsemSC0"
      },
      "source": [
        "## Implementation\n"
      ]
    },
    {
      "cell_type": "markdown",
      "metadata": {
        "id": "vaqmSf5Up8bp"
      },
      "source": [
        "We will also use previously unrevealed Flower features, such as client properties and criteria, so pay attention to those details. In short, clients can return properties to a criterion after they have been instantiated. The criterion then decides if the client should be included in the next federated round based on those properties.\n"
      ]
    },
    {
      "cell_type": "code",
      "execution_count": 29,
      "metadata": {
        "id": "tAw468w6kMo2"
      },
      "outputs": [],
      "source": [
        "class FlowerClientTraces(FlowerClient):\n",
        "    \"\"\"Extend the FlowerClient class to include traces and device capabilities.\"\"\"\n",
        "\n",
        "    def __init__(\n",
        "        self,\n",
        "        cid: int,\n",
        "        data_dir: Path,\n",
        "        partition_dir: Path,\n",
        "        model_generator: Callable[[], Module],\n",
        "        single_client_device_capacity: dict[str, Any],\n",
        "        single_client_traces: dict[str, Any],\n",
        "        verbose: bool = False,\n",
        "    ) -> None:\n",
        "        \"\"\"Initialise the client.\n",
        "\n",
        "        A Client is given a unique id and the directory from which it can load its data.\n",
        "        Device capabilities and traces are also passed to the client.\n",
        "\n",
        "        Args:\n",
        "            data_dir (Path): path to the dataset folder.\n",
        "            cid (int): Unique client id for a client used to map it to its data\n",
        "                partition\n",
        "            partition_dir (Path): The directory containing data for each client/client\n",
        "                id\n",
        "            model_generator (Callable[[], Module]): The model generator function\n",
        "            single_client_device_capacity (dict[str, Any]): dictionary containing info\n",
        "                about device capabilities.\n",
        "            single_client_traces (dict[str, Any]): dictionary describing client device\n",
        "                traces.\n",
        "            verbose (bool): boolean describing whether the client should print or not.\n",
        "        \"\"\"\n",
        "        super().__init__(cid, partition_dir, model_generator, data_dir)\n",
        "        self.device_capacity = single_client_device_capacity\n",
        "        self.trace = single_client_traces\n",
        "        self.verbose = verbose\n",
        "        self.properties: dict[str, Scalar] = {\n",
        "            \"tensor_type\": \"numpy.ndarray\",\n",
        "            \"cid\": self.cid,\n",
        "            \"device_capacity\": self.device_capacity,\n",
        "            \"traces\": self.trace,\n",
        "        }\n",
        "\n",
        "    def fit(\n",
        "        self, parameters: NDArrays, config: dict[str, Scalar], **kwargs\n",
        "    ) -> tuple[NDArrays, int, dict]:\n",
        "        \"\"\"Receive and train a model on the local client data.\n",
        "\n",
        "        Also, the function checks if the client is active at the current time step.\n",
        "\n",
        "        Args:\n",
        "            net (NDArrays): Pytorch model parameters\n",
        "            config (Dict[str, Scalar]): Dictionary describing the training parameters\n",
        "\n",
        "        Returns\n",
        "        -------\n",
        "            tuple[NDArrays, int, dict]: Returns the updated model, the size of the\n",
        "                local dataset and other metrics\n",
        "        \"\"\"\n",
        "        # We need to include model size to compute communications costs as part of our\n",
        "        # systems-aware simulation. Importantly, since Flower now accepts failures this\n",
        "        # will only cause the client to return a failure\n",
        "        if \"model_size\" not in config:\n",
        "            raise Exception(\"Model size not found in config\")\n",
        "\n",
        "        # We need to compute the number of samples in the training set\n",
        "        # As such we set n_batches to the number of batches which the set contains\n",
        "        completion_time = get_client_completion_time(\n",
        "            single_client_device_capacity=self.device_capacity,\n",
        "            batch_size=int(config[\"batch_size\"]),\n",
        "            n_batches=int(\n",
        "                int(config[\"epochs\"])\n",
        "                * self.get_train_set_size()\n",
        "                / int(config[\"batch_size\"])\n",
        "            ),\n",
        "            model_size=float(config[\"model_size\"]),\n",
        "        )\n",
        "        # Add up the communication and computation times\n",
        "        total_time = completion_time[\"communication\"] + completion_time[\"computation\"]\n",
        "\n",
        "        # Store the result in the trace\n",
        "        self.trace[\"duration\"] = total_time\n",
        "\n",
        "        if self.verbose:\n",
        "            log(\n",
        "                INFO,\n",
        "                \"Client %s\\n--------\\n\\t\\t\"\n",
        "                \"Current virtual clock time: %s\\n\\t\\t\"\n",
        "                \"Duration: %s\\n\\t\\t\"\n",
        "                \"Traces: %s\\n\\t\\t\"\n",
        "                \"Predicted completion: %s\\n\\t\\t\"\n",
        "                \"Active: %s\\n--------\\n\",\n",
        "                self.cid,\n",
        "                config[\"current_virtual_clock\"],\n",
        "                total_time,\n",
        "                self.trace,\n",
        "                int(config[\"current_virtual_clock\"]) + int(total_time),\n",
        "                is_active(\n",
        "                    self.trace, int(config[\"current_virtual_clock\"]) + int(total_time)\n",
        "                ),\n",
        "            )\n",
        "        if \"current_virtual_clock\" not in config:\n",
        "            raise IntentionalDropoutError(\"Current virtual clock not found in config\")\n",
        "        if not is_active(\n",
        "            self.trace, int(config[\"current_virtual_clock\"]) + int(total_time)\n",
        "        ):\n",
        "            raise IntentionalDropoutError(\n",
        "                f\"Client {self.cid} is not active at the current time step\"\n",
        "            )\n",
        "\n",
        "        n_samples = len(self._create_data_loader(config, \"train\"))\n",
        "\n",
        "        # NOTE: We do not need to train for this experiments\n",
        "        # params, n_samples, results = super().fit(parameters, config)\n",
        "        results = {\n",
        "            \"client_completion_time\": total_time,\n",
        "            \"computation\": self.device_capacity[\"computation\"],\n",
        "            \"communication\": self.device_capacity[\"communication\"],\n",
        "            \"num_samples\": n_samples,\n",
        "            \"cid\": self.cid,\n",
        "        }\n",
        "\n",
        "        return parameters, n_samples, results\n",
        "\n",
        "    def evaluate(\n",
        "        self, parameters: NDArrays, config: dict[str, Scalar], **kwargs\n",
        "    ) -> tuple[float, int, dict]:\n",
        "        \"\"\"Receive and test a model on the local client data.\n",
        "\n",
        "        Also, the function checks if the client is active at the current time step.\n",
        "\n",
        "        Args:\n",
        "            net (NDArrays): Pytorch model parameters\n",
        "            config (Dict[str, Scalar]): Dictionary describing the testing parameters\n",
        "\n",
        "        Returns\n",
        "        -------\n",
        "            tuple[float, int, dict]: Returns the loss accumulate during testing, the\n",
        "                size of the local dataset and other metrics such as accuracy\n",
        "        \"\"\"\n",
        "        if \"model_size\" not in config:\n",
        "            raise Exception(\"Model size not found in config\")\n",
        "\n",
        "        # Estimate time based on number of batches in dataset\n",
        "        completion_time = get_client_completion_time(\n",
        "            single_client_device_capacity=self.device_capacity,\n",
        "            batch_size=int(config[\"batch_size\"]),\n",
        "            n_batches=int(self.get_test_set_size() / int(config[\"batch_size\"])),\n",
        "            model_size=float(config[\"model_size\"]),\n",
        "        )\n",
        "\n",
        "        # Compute total time\n",
        "        total_time = completion_time[\"communication\"] + completion_time[\"computation\"]\n",
        "\n",
        "        # Store result in trace\n",
        "        self.trace[\"duration\"] = total_time\n",
        "        if self.verbose:\n",
        "            log(\n",
        "                INFO,\n",
        "                \"Client %s\\n--------\\n\\t\\t\"\n",
        "                \"Current virtual clock time: %s\\n\\t\\t\"\n",
        "                \"Duration: %s\\n\\t\\t\"\n",
        "                \"Traces: %s\\n\\t\\t\"\n",
        "                \"Predicted completion: %s\\n\\t\\t\"\n",
        "                \"Active: %s\\n--------\\n\",\n",
        "                self.cid,\n",
        "                config[\"current_virtual_clock\"],\n",
        "                total_time,\n",
        "                self.trace,\n",
        "                int(config[\"current_virtual_clock\"]) + int(total_time),\n",
        "                is_active(\n",
        "                    self.trace, int(config[\"current_virtual_clock\"]) + int(total_time)\n",
        "                ),\n",
        "            )\n",
        "        if \"current_virtual_clock\" not in config:\n",
        "            raise IntentionalDropoutError(\"Current virtual clock not found in config\")\n",
        "        if not is_active(\n",
        "            self.trace, int(config[\"current_virtual_clock\"]) + int(total_time)\n",
        "        ):\n",
        "            raise IntentionalDropoutError(\n",
        "                f\"Client {self.cid} is not active at the current time step\"\n",
        "            )\n",
        "\n",
        "        n_samples = len(self._create_data_loader(config, \"test\"))\n",
        "\n",
        "        # NOTE: We do not need to train for this experiments\n",
        "        # params, n_samples, results = super().fit(parameters, config)\n",
        "        results = {\n",
        "            \"client_completion_time\": total_time,\n",
        "            \"computation\": self.device_capacity[\"computation\"],\n",
        "            \"communication\": self.device_capacity[\"communication\"],\n",
        "            \"num_samples\": n_samples,\n",
        "            \"cid\": self.cid,\n",
        "        }\n",
        "\n",
        "        return 0.0, n_samples, results"
      ]
    },
    {
      "cell_type": "code",
      "execution_count": 30,
      "metadata": {
        "id": "ppY8wuyGmSC0"
      },
      "outputs": [],
      "source": [
        "def get_flower_client_with_traces_generator(\n",
        "    clients_device_capacity: list[dict[str, Any]],\n",
        "    clients_traces: list[dict[str, Any]],\n",
        "    model_generator: Callable[[], Module],\n",
        "    data_dir: Path,\n",
        "    partition_dir: Path,\n",
        "    mapping_fn: Callable[[int], int] | None = None,\n",
        ") -> Callable[[str], FlowerClient]:\n",
        "    \"\"\"Wrap the client instance generator.\n",
        "\n",
        "    This provides the client generator with a model generator function.\n",
        "    Also, the partition directory must be passed.\n",
        "    A mapping function could be used for filtering/ordering clients.\n",
        "\n",
        "    Args:\n",
        "        clients_device_capacity (list[dict[str, Any]]): list containing the clients\n",
        "            device capabilities.\n",
        "        clients_traces (list[dict[str, Any]]): list containing the clients traces.\n",
        "        data_dir (Path): path to the datasßet folder.\n",
        "        model_generator (Callable[[], Module]): model generator function.\n",
        "        partition_dir (Path): directory containing the partition.\n",
        "        mapping_fn (Callable[[int], int] | None): function mapping sorted/filtered\n",
        "            ids to real cid.\n",
        "\n",
        "    Returns\n",
        "    -------\n",
        "        Callable[[str], FlowerClient]: client instance.\n",
        "    \"\"\"\n",
        "\n",
        "    def client_fn(cid: str) -> FlowerClientTraces:\n",
        "        \"\"\"Create a single client instance given the client id `cid`.\n",
        "\n",
        "        Args:\n",
        "            cid (str): client id, Flower requires this to of type str.\n",
        "\n",
        "        Returns\n",
        "        -------\n",
        "            FlowerRayClientTraces: client instance.\n",
        "        \"\"\"\n",
        "        log(INFO, \"Getting client with id %s\", cid)\n",
        "        client = FlowerClientTraces(\n",
        "            # NOTE: passing the called `cid` here to allow for different mapping between\n",
        "            # data and devices\n",
        "            single_client_device_capacity=clients_device_capacity[int(cid)],\n",
        "            single_client_traces=clients_traces[int(cid)],\n",
        "            # NOTE: the mapping is only applied here, this is due to control the data\n",
        "            # mapping\n",
        "            cid=(mapping_fn(int(cid)) if mapping_fn is not None else int(cid)),\n",
        "            data_dir=data_dir,\n",
        "            partition_dir=partition_dir,\n",
        "            model_generator=model_generator,\n",
        "            # NOTE: you may want to comment out the following line or to set the\n",
        "            # verbosity to False\n",
        "            verbose=False,\n",
        "        )\n",
        "\n",
        "        client.device = get_device()\n",
        "        return client\n",
        "\n",
        "    return client_fn"
      ]
    },
    {
      "cell_type": "markdown",
      "metadata": {
        "id": "8dj2MmIZmSC0"
      },
      "source": [
        "# 5. Setting up selection criteria\n"
      ]
    },
    {
      "cell_type": "markdown",
      "metadata": {
        "id": "sFh0IFK1mSC0"
      },
      "source": [
        "Selection criteria in FL may be varied; examples of such criteria include:\n",
        "\n",
        "1. The client's hardware capabilities; if they cannot train a given model (i.e., they lack a necessary accelerator), they should not be selected.\n",
        "2. Network and battery conditions; if the client is a phone which lacks access to power and free Wi-Fi, it should not be selected.\n",
        "3. Statistical utility; if a client seems likely to have data which interests us---based on previous selection or other characteristics such as provenance region---it should be selected to the detriment of other clients.\n",
        "\n",
        "> This lab shall focus on the first type of criteria. However, we shall build correlations between statistical utility and computational ability throughout to test how their inter-connection **could** impact FL under various assumptions.\n"
      ]
    },
    {
      "cell_type": "markdown",
      "metadata": {
        "id": "U2j_E6y-mSC0"
      },
      "source": [
        "## Implement selection criteria using the Criterion object\n"
      ]
    },
    {
      "cell_type": "markdown",
      "metadata": {
        "id": "0HD30tfcp8c4"
      },
      "source": [
        "In the following cell, an example of a `Criterion` object is provided.\n",
        "Note that this does not discriminate between clients beyond checking their availabilities, but it is still helpful to understand how it functions. For later questions, you may desire to impose a selection criterion in your client selection based on this template.\n",
        "\n",
        "Be aware that using one of these objects implies additional communication between the client and the server. However, we will assume in our modelling that this communication is near-immediate (constant relative to the client dataset size) and is not affecting the federation by any means.\n",
        "\n",
        "It is worth mentioning that the potential design space of criteria in Flower is limited by the requirement of only communicating once with the client and only being able to receive data from the client's properties. These constraints make it impossible for the server to communicate data to the client at the criterion level so that the client may make dynamic decisions regarding participation. Furthermore, without a persistent communication channel, the criterion may become false before the round begins, and the client has no means of informing the server.\n",
        "\n",
        "To overcome these limitations, it would be valuable to expand and enhance the current implementation that Flower has under the hood for a potential Part II project.\n"
      ]
    },
    {
      "cell_type": "code",
      "execution_count": 31,
      "metadata": {
        "id": "3ku1QX69mSC0"
      },
      "outputs": [],
      "source": [
        "class TemplateCriterion(Criterion):\n",
        "    \"\"\"Implements the Template criterion.\"\"\"\n",
        "\n",
        "    def __init__(self, **kwargs: Any) -> None:\n",
        "        \"\"\"Initialize the Template criterion.\n",
        "\n",
        "        Args:\n",
        "            **kwargs (Any): additional arguments.\n",
        "        \"\"\"\n",
        "        super().__init__(**kwargs)\n",
        "\n",
        "        \"\"\"\n",
        "            Put here the logic to set global parameters\n",
        "            for selection, s.a. thresholds.\n",
        "        \"\"\"\n",
        "\n",
        "    def select(self, client: ClientProxy) -> bool:\n",
        "        \"\"\"Select the client that receives.\n",
        "\n",
        "        Before selecting it, the function gets the `properties` of the client.\n",
        "\n",
        "        Args:\n",
        "            client (ClientProxy): client proxy to select.\n",
        "\n",
        "        Returns\n",
        "        -------\n",
        "            bool: True if the client is selected, False otherwise.\n",
        "        \"\"\"\n",
        "        request_properties: Config = {\n",
        "            # Here goes the template of the client properties\n",
        "            \"tensor_type\": \"str\",\n",
        "            \"cid\": \"str\",\n",
        "            \"device_capacity\": \"Dict[str, Any]\",\n",
        "            \"traces\": \"Dict[str, Any]\",\n",
        "        }\n",
        "        ins: GetPropertiesIns = GetPropertiesIns(config=request_properties)\n",
        "        # NOTE: This `value` contains the client properties\n",
        "        value: GetPropertiesRes = client.get_properties(ins, timeout=None)\n",
        "        # NOTE: This object receives the current virtual clock from the server\n",
        "        # in the CustomClientManager\n",
        "        log(\n",
        "            INFO,\n",
        "            \"TemplateCriterion.select: current clock is %s\",\n",
        "            self.current_virtual_clock,\n",
        "        )\n",
        "\n",
        "        \"\"\"\n",
        "            Put here the logic to select the client.\n",
        "        \"\"\"\n",
        "\n",
        "        return True"
      ]
    },
    {
      "cell_type": "markdown",
      "metadata": {
        "id": "aWkif5hJQK_5"
      },
      "source": [
        "Here follows the implementation of `ActivityCriterion`, a `Criterion` object that selects clients based on their activity evaluated at the selection time.\n",
        "\n",
        "> Selecting clients using this does not guarantee they will not drop out during the local training phase.\n"
      ]
    },
    {
      "cell_type": "code",
      "execution_count": 32,
      "metadata": {
        "id": "N4b-jlflQK_5"
      },
      "outputs": [],
      "source": [
        "class ActivityCriterion(Criterion):\n",
        "    \"\"\"Implements the a criterion based on the Activity.\"\"\"\n",
        "\n",
        "    def __init__(self) -> None:\n",
        "        \"\"\"Initialize the Template criterion.\"\"\"\n",
        "        self.current_virtual_clock = 0\n",
        "\n",
        "    def select(self, client: ClientProxy) -> bool:\n",
        "        \"\"\"Select the client that receives if it is active.\n",
        "\n",
        "        Before selecting it, the function gets the `properties` of the client.\n",
        "\n",
        "        Args:\n",
        "            client (ClientProxy): client proxy to select.\n",
        "\n",
        "        Returns\n",
        "        -------\n",
        "            bool: True if the client is selected, False otherwise.\n",
        "        \"\"\"\n",
        "        request_properties: Config = {\n",
        "            # Here goes the template of the client properties\n",
        "            \"tensor_type\": \"str\",\n",
        "            \"cid\": \"str\",\n",
        "            \"device_capacity\": \"Dict[str, Any]\",\n",
        "            \"traces\": \"Dict[str, Any]\",\n",
        "        }\n",
        "        ins: GetPropertiesIns = GetPropertiesIns(config=request_properties)\n",
        "        # NOTE: This contains the client properties\n",
        "        value: GetPropertiesRes = client.get_properties(ins, timeout=None)\n",
        "        # NOTE: here we use `is_active` to check if the client is active at the current\n",
        "        # time step\n",
        "        return is_active(value.properties[\"traces\"], self.current_virtual_clock)"
      ]
    },
    {
      "cell_type": "markdown",
      "metadata": {
        "id": "w1zEhkkSnttl"
      },
      "source": [
        "The following cell is meant to initialise the model.\n"
      ]
    },
    {
      "cell_type": "code",
      "execution_count": 33,
      "metadata": {
        "id": "zG4I-uALkMo2"
      },
      "outputs": [],
      "source": [
        "torch.manual_seed(Seeds.DEFAULT)\n",
        "network_generator_cnn = get_network_generator_cnn()\n",
        "seed_net_cnn = network_generator_cnn()\n",
        "seed_model_cnn_params: NDArrays = get_model_parameters(seed_net_cnn)"
      ]
    },
    {
      "cell_type": "markdown",
      "metadata": {
        "id": "cflS3GvdqI57"
      },
      "source": [
        "Given that you have determined the intersection point within the traces we use, it is reasonable to consider the actual size of our model in MB. For this, we shall use the `torchsummary` package.\n",
        "\n",
        "> **KEEP USING THE INTERSECTION MB VALUE DETERMINED ABOVE**\n"
      ]
    },
    {
      "cell_type": "code",
      "execution_count": 34,
      "metadata": {
        "id": "94nLEl7PqSVZ",
        "colab": {
          "base_uri": "https://localhost:8080/"
        },
        "outputId": "60c00448-82a6-49b1-8613-90d795b65cc0"
      },
      "outputs": [
        {
          "output_type": "stream",
          "name": "stdout",
          "text": [
            "----------------------------------------------------------------\n",
            "        Layer (type)               Output Shape         Param #\n",
            "================================================================\n",
            "            Conv2d-1            [-1, 6, 24, 24]             156\n",
            "         MaxPool2d-2            [-1, 6, 12, 12]               0\n",
            "            Conv2d-3             [-1, 16, 8, 8]           2,416\n",
            "         MaxPool2d-4             [-1, 16, 4, 4]               0\n",
            "            Linear-5                  [-1, 120]          30,840\n",
            "            Linear-6                   [-1, 84]          10,164\n",
            "            Linear-7                   [-1, 62]           5,270\n",
            "================================================================\n",
            "Total params: 48,846\n",
            "Trainable params: 48,846\n",
            "Non-trainable params: 0\n",
            "----------------------------------------------------------------\n",
            "Input size (MB): 0.00\n",
            "Forward/backward pass size (MB): 0.04\n",
            "Params size (MB): 0.19\n",
            "Estimated Total Size (MB): 0.23\n",
            "----------------------------------------------------------------\n"
          ]
        }
      ],
      "source": [
        "import torchsummary\n",
        "\n",
        "torchsummary.summary(\n",
        "    seed_net_cnn.to(device if (device := get_device()) != \"mps\" else \"cpu\"),\n",
        "    (1, 28, 28),\n",
        "    device=device if (device := get_device()) != \"mps\" else \"cpu\",\n",
        ")"
      ]
    },
    {
      "cell_type": "markdown",
      "metadata": {
        "id": "9ZA3-tl_qZMs"
      },
      "source": [
        "As we can see, the network we have selected for demonstration purposes in this lab is tiny and should thus result in meagre communication costs relative to computation. However, the balance between computation and communication would likely not be so one-sided in a production system.\n",
        "\n",
        "Thus far, we have treated the two costs as equivalent in terms of their impact on the overall training time of the FL system. However, the two are not always symmetrical in terms of costs. For example, if the entity running the federation does not own nor pay for the resources of the underlying devices---as is the case in many scenarios involving smartphones---then computation on-edge incurs zero monetary costs. At the same time, models' storage and transmission scales with the size and number of networks. Furthermore, while we only account for model size in the communication costs, a larger model requires more operations per training step and more training steps overall to train.\n",
        "\n",
        "All of these factors guide FL to be biased towards using architectures with a lower footprint, reducing model size via quantisation, and clustering clients into small groups that have similar data---which a small network can quickly learn from.\n"
      ]
    },
    {
      "cell_type": "markdown",
      "metadata": {
        "id": "jqjfmMxloHgM"
      },
      "source": [
        "Here the function to generate clients is provided. Note that if you want to use a different `client_device_capacity` or `client_behave_trace`, you need to change the parameters here and re-execute the cell.\n"
      ]
    },
    {
      "cell_type": "code",
      "execution_count": 35,
      "metadata": {
        "id": "nTJt_W4LkMo3"
      },
      "outputs": [],
      "source": [
        "# NOTE: we are using here the `get_flower_client_with_traces_generator`\n",
        "num_total_clients = 3229\n",
        "sampled_cdc = client_device_capacity.sample(\n",
        "    num_total_clients, replace=False, random_state=Seeds.DEFAULT\n",
        ")\n",
        "sampled_cbt = client_behave_trace.sample(\n",
        "    num_total_clients, replace=False, random_state=Seeds.DEFAULT\n",
        ")\n",
        "\n",
        "flower_client_with_traces_generator: Callable[\n",
        "    [str], FlowerClient\n",
        "] = get_flower_client_with_traces_generator(\n",
        "    clients_device_capacity=sampled_cdc.to_dict(\"records\"),\n",
        "    clients_traces=sampled_cbt.to_dict(\"records\"),\n",
        "    model_generator=network_generator_cnn,\n",
        "    data_dir=data_dir,\n",
        "    partition_dir=federated_partition,\n",
        ")"
      ]
    },
    {
      "cell_type": "markdown",
      "metadata": {
        "id": "ynfJhLwloyUk"
      },
      "source": [
        "The following cell contains the vast majority of the hyperparameters for the FL training. Notice the addition of a model size and virtual clock in the configs and the `accept_failures` = True` parameter.\n"
      ]
    },
    {
      "cell_type": "code",
      "execution_count": 36,
      "metadata": {
        "id": "aVuQziUckMo3",
        "colab": {
          "base_uri": "https://localhost:8080/"
        },
        "outputId": "4912145c-cf51-4474-ca2c-ffd59eccccd2"
      },
      "outputs": [
        {
          "output_type": "stream",
          "name": "stderr",
          "text": [
            "WARNING flwr 2024-02-20 10:27:02,504 | fedavg.py:117 | \n",
            "Setting `min_available_clients` lower than `min_fit_clients` or\n",
            "`min_evaluate_clients` can cause the server to fail when there are too few clients\n",
            "connected to the server. `min_available_clients` must be set to a value larger\n",
            "than or equal to the values of `min_fit_clients` and `min_evaluate_clients`.\n",
            "\n",
            "WARNING:flwr:\n",
            "Setting `min_available_clients` lower than `min_fit_clients` or\n",
            "`min_evaluate_clients` can cause the server to fail when there are too few clients\n",
            "connected to the server. `min_available_clients` must be set to a value larger\n",
            "than or equal to the values of `min_fit_clients` and `min_evaluate_clients`.\n",
            "\n"
          ]
        }
      ],
      "source": [
        "train_config = get_default_train_config()\n",
        "train_config.update(\n",
        "    {\n",
        "        \"model_size\": 1000,\n",
        "        \"current_virtual_clock\": 0.0,\n",
        "    }\n",
        ")\n",
        "test_config = get_default_test_config()\n",
        "test_config.update(\n",
        "    {\n",
        "        \"model_size\": 1000,\n",
        "        \"current_virtual_clock\": 0.0,\n",
        "    }\n",
        ")\n",
        "\n",
        "\n",
        "def _on_fit_config_fn(server_round: int) -> dict[str, Scalar]:\n",
        "    return train_config | {\"server_round\": server_round}\n",
        "\n",
        "\n",
        "def _on_evaluate_config_fn(server_round: int) -> dict[str, Scalar]:\n",
        "    return test_config | {\"server_round\": server_round}\n",
        "\n",
        "\n",
        "num_clients_per_round: int = 3\n",
        "num_evaluate_clients: int = 1\n",
        "fraction_fit = sys.float_info.min\n",
        "fraction_evaluate = sys.float_info.min\n",
        "accept_failures = True\n",
        "min_fit_clients = num_clients_per_round\n",
        "min_available_clients = num_evaluate_clients\n",
        "initial_parameters: Parameters = ndarrays_to_parameters(seed_model_cnn_params)\n",
        "\n",
        "strategy = FedAvgTraces(\n",
        "    fraction_fit=fraction_fit,\n",
        "    fraction_evaluate=fraction_evaluate,\n",
        "    min_fit_clients=min_fit_clients,\n",
        "    min_available_clients=min_available_clients,\n",
        "    on_fit_config_fn=_on_fit_config_fn,\n",
        "    on_evaluate_config_fn=_on_evaluate_config_fn,\n",
        "    initial_parameters=initial_parameters,\n",
        "    accept_failures=accept_failures,\n",
        "    evaluate_fn=None,\n",
        "    fit_metrics_aggregation_fn=aggregate_weighted_average,\n",
        "    evaluate_metrics_aggregation_fn=aggregate_weighted_average,\n",
        ")"
      ]
    },
    {
      "cell_type": "markdown",
      "metadata": {
        "id": "fJqYeUZwpIOw"
      },
      "source": [
        "Since we have introduced a `Criterion` object, we need to use both a `Server` and a `ClientManager`. The `Server` orchestrates training over selected clients while the `ClientManager` is tasked with providing it with the lists of clients used for a given round. Consequently, they will wrap our `Criterion` with all the utilities to let the FL simulation use it.\n"
      ]
    },
    {
      "cell_type": "code",
      "execution_count": 37,
      "metadata": {
        "id": "5GknkM_TkMo3"
      },
      "outputs": [],
      "source": [
        "criterion = ActivityCriterion()\n",
        "custom_client_manager = CustomClientManager(criterion=criterion, seed=Seeds.DEFAULT)\n",
        "server = Server(\n",
        "    client_manager=custom_client_manager,\n",
        "    strategy=strategy,\n",
        ")"
      ]
    },
    {
      "cell_type": "markdown",
      "metadata": {
        "id": "6CLoTEdEpnwc"
      },
      "source": [
        "We may finally launch the simulation with enhanced abilities to select clients based on traces and to have them drop out according to their activity and execution duration.\n"
      ]
    },
    {
      "cell_type": "code",
      "execution_count": 38,
      "metadata": {
        "id": "MAQilC1ukMo3",
        "colab": {
          "base_uri": "https://localhost:8080/"
        },
        "outputId": "e8d00546-c82c-4096-ee09-6b83f3207b3d"
      },
      "outputs": [
        {
          "output_type": "stream",
          "name": "stderr",
          "text": [
            "WARNING flwr 2024-02-20 10:27:02,527 | app.py:213 | Both server and strategy were provided, ignoring strategy\n",
            "WARNING:flwr:Both server and strategy were provided, ignoring strategy\n",
            "INFO flwr 2024-02-20 10:27:02,531 | app.py:149 | Starting Flower simulation, config: ServerConfig(num_rounds=10, round_timeout=None)\n",
            "INFO:flwr:Starting Flower simulation, config: ServerConfig(num_rounds=10, round_timeout=None)\n",
            "INFO flwr 2024-02-20 10:27:02,565 | server_returns_parameters.py:81 | Initializing global parameters\n",
            "INFO:flwr:Initializing global parameters\n",
            "INFO flwr 2024-02-20 10:27:02,570 | server_returns_parameters.py:273 | Using initial parameters provided by strategy\n",
            "INFO:flwr:Using initial parameters provided by strategy\n",
            "INFO flwr 2024-02-20 10:27:02,576 | server_returns_parameters.py:84 | Evaluating initial parameters\n",
            "INFO:flwr:Evaluating initial parameters\n",
            "INFO flwr 2024-02-20 10:27:02,582 | server_returns_parameters.py:97 | FL starting\n",
            "INFO:flwr:FL starting\n",
            "INFO flwr 2024-02-20 10:27:02,589 | client_manager.py:47 | Sampling using <__main__.ActivityCriterion object at 0x7ec798b4e6b0>\n",
            "INFO:flwr:Sampling using <__main__.ActivityCriterion object at 0x7ec798b4e6b0>\n",
            "INFO flwr 2024-02-20 10:27:02,596 | <ipython-input-30-875a800ac84b>:40 | Getting client with id 2530\n",
            "INFO:flwr:Getting client with id 2530\n",
            "INFO flwr 2024-02-20 10:27:02,598 | client.py:57 | Creating client with cid: 2530\n",
            "INFO:flwr:Creating client with cid: 2530\n",
            "INFO flwr 2024-02-20 10:27:02,601 | <ipython-input-30-875a800ac84b>:40 | Getting client with id 2184\n",
            "INFO:flwr:Getting client with id 2184\n",
            "INFO flwr 2024-02-20 10:27:02,603 | client.py:57 | Creating client with cid: 2184\n",
            "INFO:flwr:Creating client with cid: 2184\n",
            "INFO flwr 2024-02-20 10:27:02,605 | <ipython-input-30-875a800ac84b>:40 | Getting client with id 2907\n",
            "INFO:flwr:Getting client with id 2907\n",
            "INFO flwr 2024-02-20 10:27:02,607 | client.py:57 | Creating client with cid: 2907\n",
            "INFO:flwr:Creating client with cid: 2907\n",
            "INFO flwr 2024-02-20 10:27:02,609 | <ipython-input-30-875a800ac84b>:40 | Getting client with id 1498\n",
            "INFO:flwr:Getting client with id 1498\n",
            "INFO flwr 2024-02-20 10:27:02,611 | client.py:57 | Creating client with cid: 1498\n",
            "INFO:flwr:Creating client with cid: 1498\n",
            "INFO flwr 2024-02-20 10:27:02,614 | <ipython-input-30-875a800ac84b>:40 | Getting client with id 2338\n",
            "INFO:flwr:Getting client with id 2338\n",
            "INFO flwr 2024-02-20 10:27:02,616 | client.py:57 | Creating client with cid: 2338\n",
            "INFO:flwr:Creating client with cid: 2338\n",
            "INFO flwr 2024-02-20 10:27:02,618 | <ipython-input-30-875a800ac84b>:40 | Getting client with id 2399\n",
            "INFO:flwr:Getting client with id 2399\n",
            "INFO flwr 2024-02-20 10:27:02,620 | client.py:57 | Creating client with cid: 2399\n",
            "INFO:flwr:Creating client with cid: 2399\n",
            "INFO flwr 2024-02-20 10:27:02,623 | <ipython-input-30-875a800ac84b>:40 | Getting client with id 2997\n",
            "INFO:flwr:Getting client with id 2997\n",
            "INFO flwr 2024-02-20 10:27:02,625 | client.py:57 | Creating client with cid: 2997\n",
            "INFO:flwr:Creating client with cid: 2997\n",
            "INFO flwr 2024-02-20 10:27:02,627 | <ipython-input-30-875a800ac84b>:40 | Getting client with id 678\n",
            "INFO:flwr:Getting client with id 678\n",
            "INFO flwr 2024-02-20 10:27:02,630 | client.py:57 | Creating client with cid: 678\n",
            "INFO:flwr:Creating client with cid: 678\n",
            "INFO flwr 2024-02-20 10:27:02,632 | client_manager.py:68 | Sampled the following clients: ['2907', '2338', '678']\n",
            "INFO:flwr:Sampled the following clients: ['2907', '2338', '678']\n",
            "DEBUG flwr 2024-02-20 10:27:02,635 | server_returns_parameters.py:223 | fit_round 1: strategy sampled 3 clients (out of 3229)\n",
            "DEBUG:flwr:fit_round 1: strategy sampled 3 clients (out of 3229)\n",
            "INFO flwr 2024-02-20 10:27:02,638 | <ipython-input-30-875a800ac84b>:40 | Getting client with id 2907\n",
            "INFO:flwr:Getting client with id 2907\n",
            "INFO flwr 2024-02-20 10:27:02,644 | <ipython-input-30-875a800ac84b>:40 | Getting client with id 678\n",
            "INFO:flwr:Getting client with id 678\n",
            "INFO flwr 2024-02-20 10:27:02,638 | <ipython-input-30-875a800ac84b>:40 | Getting client with id 2338\n",
            "INFO flwr 2024-02-20 10:27:02,651 | client.py:57 | Creating client with cid: 678\n",
            "INFO:flwr:Getting client with id 2338\n",
            "INFO:flwr:Creating client with cid: 678\n",
            "INFO flwr 2024-02-20 10:27:02,652 | client.py:57 | Creating client with cid: 2338\n",
            "INFO:flwr:Creating client with cid: 2338\n",
            "INFO flwr 2024-02-20 10:27:02,649 | client.py:57 | Creating client with cid: 2907\n",
            "INFO:flwr:Creating client with cid: 2907\n",
            "DEBUG flwr 2024-02-20 10:27:02,701 | server_returns_parameters.py:237 | fit_round 1 received 2 results and 1 failures\n",
            "DEBUG:flwr:fit_round 1 received 2 results and 1 failures\n",
            "INFO flwr 2024-02-20 10:27:02,703 | strategy.py:159 | IntentionalDropoutError: Client 2338 is not active at the current time step\n",
            "INFO:flwr:IntentionalDropoutError: Client 2338 is not active at the current time step\n",
            "INFO flwr 2024-02-20 10:27:02,706 | strategy.py:188 | Completion times of clients: [511.7667562372511, 1087.5163560740814]\n",
            "INFO:flwr:Completion times of clients: [511.7667562372511, 1087.5163560740814]\n",
            "INFO flwr 2024-02-20 10:27:02,708 | strategy.py:190 | Maximum completion time of clients: 1087.5163560740814\n",
            "INFO:flwr:Maximum completion time of clients: 1087.5163560740814\n",
            "DEBUG flwr 2024-02-20 10:27:02,711 | fedavgm.py:140 | Failures: [IntentionalDropoutError('Client 2338 is not active at the current time step')]\n",
            "DEBUG:flwr:Failures: [IntentionalDropoutError('Client 2338 is not active at the current time step')]\n",
            "INFO flwr 2024-02-20 10:27:02,723 | client_manager.py:47 | Sampling using <__main__.ActivityCriterion object at 0x7ec798b4e6b0>\n",
            "INFO:flwr:Sampling using <__main__.ActivityCriterion object at 0x7ec798b4e6b0>\n",
            "INFO flwr 2024-02-20 10:27:02,731 | <ipython-input-30-875a800ac84b>:40 | Getting client with id 2530\n",
            "INFO:flwr:Getting client with id 2530\n",
            "INFO flwr 2024-02-20 10:27:02,734 | client.py:57 | Creating client with cid: 2530\n",
            "INFO:flwr:Creating client with cid: 2530\n",
            "INFO flwr 2024-02-20 10:27:02,736 | <ipython-input-30-875a800ac84b>:40 | Getting client with id 2184\n",
            "INFO:flwr:Getting client with id 2184\n",
            "INFO flwr 2024-02-20 10:27:02,739 | client.py:57 | Creating client with cid: 2184\n",
            "INFO:flwr:Creating client with cid: 2184\n",
            "INFO flwr 2024-02-20 10:27:02,741 | <ipython-input-30-875a800ac84b>:40 | Getting client with id 2907\n",
            "INFO:flwr:Getting client with id 2907\n",
            "INFO flwr 2024-02-20 10:27:02,743 | client.py:57 | Creating client with cid: 2907\n",
            "INFO:flwr:Creating client with cid: 2907\n",
            "INFO flwr 2024-02-20 10:27:02,791 | <ipython-input-30-875a800ac84b>:40 | Getting client with id 1498\n",
            "INFO:flwr:Getting client with id 1498\n",
            "INFO flwr 2024-02-20 10:27:02,794 | client.py:57 | Creating client with cid: 1498\n",
            "INFO:flwr:Creating client with cid: 1498\n",
            "INFO flwr 2024-02-20 10:27:02,796 | <ipython-input-30-875a800ac84b>:40 | Getting client with id 2338\n",
            "INFO:flwr:Getting client with id 2338\n",
            "INFO flwr 2024-02-20 10:27:02,798 | client.py:57 | Creating client with cid: 2338\n",
            "INFO:flwr:Creating client with cid: 2338\n",
            "INFO flwr 2024-02-20 10:27:02,801 | <ipython-input-30-875a800ac84b>:40 | Getting client with id 2399\n",
            "INFO:flwr:Getting client with id 2399\n",
            "INFO flwr 2024-02-20 10:27:02,803 | client.py:57 | Creating client with cid: 2399\n",
            "INFO:flwr:Creating client with cid: 2399\n",
            "INFO flwr 2024-02-20 10:27:02,805 | <ipython-input-30-875a800ac84b>:40 | Getting client with id 2997\n",
            "INFO:flwr:Getting client with id 2997\n",
            "INFO flwr 2024-02-20 10:27:02,808 | client.py:57 | Creating client with cid: 2997\n",
            "INFO:flwr:Creating client with cid: 2997\n",
            "INFO flwr 2024-02-20 10:27:02,810 | <ipython-input-30-875a800ac84b>:40 | Getting client with id 678\n",
            "INFO:flwr:Getting client with id 678\n",
            "INFO flwr 2024-02-20 10:27:02,812 | client.py:57 | Creating client with cid: 678\n",
            "INFO:flwr:Creating client with cid: 678\n",
            "INFO flwr 2024-02-20 10:27:02,815 | client_manager.py:68 | Sampled the following clients: ['2907', '678']\n",
            "INFO:flwr:Sampled the following clients: ['2907', '678']\n",
            "DEBUG flwr 2024-02-20 10:27:02,818 | server_returns_parameters.py:173 | evaluate_round 1: strategy sampled 2 clients (out of 3229)\n",
            "DEBUG:flwr:evaluate_round 1: strategy sampled 2 clients (out of 3229)\n",
            "INFO flwr 2024-02-20 10:27:02,831 | <ipython-input-30-875a800ac84b>:40 | Getting client with id 2907\n",
            "INFO:flwr:Getting client with id 2907\n",
            "INFO flwr 2024-02-20 10:27:02,835 | client.py:57 | Creating client with cid: 2907\n",
            "INFO:flwr:Creating client with cid: 2907\n",
            "INFO flwr 2024-02-20 10:27:02,844 | <ipython-input-30-875a800ac84b>:40 | Getting client with id 678\n",
            "INFO:flwr:Getting client with id 678\n",
            "INFO flwr 2024-02-20 10:27:02,857 | client.py:57 | Creating client with cid: 678\n",
            "INFO:flwr:Creating client with cid: 678\n",
            "DEBUG flwr 2024-02-20 10:27:02,865 | server_returns_parameters.py:187 | evaluate_round 1 received 2 results and 0 failures\n",
            "DEBUG:flwr:evaluate_round 1 received 2 results and 0 failures\n",
            "INFO flwr 2024-02-20 10:27:02,868 | strategy.py:188 | Completion times of clients: [987.1963560740813, 28.69475623725114]\n",
            "INFO:flwr:Completion times of clients: [987.1963560740813, 28.69475623725114]\n",
            "INFO flwr 2024-02-20 10:27:02,870 | strategy.py:190 | Maximum completion time of clients: 987.1963560740813\n",
            "INFO:flwr:Maximum completion time of clients: 987.1963560740813\n",
            "INFO flwr 2024-02-20 10:27:02,880 | client_manager.py:47 | Sampling using <__main__.ActivityCriterion object at 0x7ec798b4e6b0>\n",
            "INFO:flwr:Sampling using <__main__.ActivityCriterion object at 0x7ec798b4e6b0>\n",
            "INFO flwr 2024-02-20 10:27:02,883 | <ipython-input-30-875a800ac84b>:40 | Getting client with id 1573\n",
            "INFO:flwr:Getting client with id 1573\n",
            "INFO flwr 2024-02-20 10:27:02,886 | client.py:57 | Creating client with cid: 1573\n",
            "INFO:flwr:Creating client with cid: 1573\n",
            "INFO flwr 2024-02-20 10:27:02,889 | <ipython-input-30-875a800ac84b>:40 | Getting client with id 2992\n",
            "INFO:flwr:Getting client with id 2992\n",
            "INFO flwr 2024-02-20 10:27:02,891 | client.py:57 | Creating client with cid: 2992\n",
            "INFO:flwr:Creating client with cid: 2992\n",
            "INFO flwr 2024-02-20 10:27:02,894 | <ipython-input-30-875a800ac84b>:40 | Getting client with id 2286\n",
            "INFO:flwr:Getting client with id 2286\n",
            "INFO flwr 2024-02-20 10:27:02,896 | client.py:57 | Creating client with cid: 2286\n",
            "INFO:flwr:Creating client with cid: 2286\n",
            "INFO flwr 2024-02-20 10:27:02,899 | <ipython-input-30-875a800ac84b>:40 | Getting client with id 2763\n",
            "INFO:flwr:Getting client with id 2763\n",
            "INFO flwr 2024-02-20 10:27:02,902 | client.py:57 | Creating client with cid: 2763\n",
            "INFO:flwr:Creating client with cid: 2763\n",
            "INFO flwr 2024-02-20 10:27:02,904 | <ipython-input-30-875a800ac84b>:40 | Getting client with id 1616\n",
            "INFO:flwr:Getting client with id 1616\n",
            "INFO flwr 2024-02-20 10:27:02,906 | client.py:57 | Creating client with cid: 1616\n",
            "INFO:flwr:Creating client with cid: 1616\n",
            "INFO flwr 2024-02-20 10:27:02,910 | <ipython-input-30-875a800ac84b>:40 | Getting client with id 194\n",
            "INFO:flwr:Getting client with id 194\n",
            "INFO flwr 2024-02-20 10:27:02,912 | client.py:57 | Creating client with cid: 194\n",
            "INFO:flwr:Creating client with cid: 194\n",
            "INFO flwr 2024-02-20 10:27:02,914 | <ipython-input-30-875a800ac84b>:40 | Getting client with id 75\n",
            "INFO:flwr:Getting client with id 75\n",
            "INFO flwr 2024-02-20 10:27:02,916 | client.py:57 | Creating client with cid: 75\n",
            "INFO:flwr:Creating client with cid: 75\n",
            "INFO flwr 2024-02-20 10:27:02,919 | <ipython-input-30-875a800ac84b>:40 | Getting client with id 1746\n",
            "INFO:flwr:Getting client with id 1746\n",
            "INFO flwr 2024-02-20 10:27:02,921 | client.py:57 | Creating client with cid: 1746\n",
            "INFO:flwr:Creating client with cid: 1746\n",
            "INFO flwr 2024-02-20 10:27:02,923 | <ipython-input-30-875a800ac84b>:40 | Getting client with id 796\n",
            "INFO:flwr:Getting client with id 796\n",
            "INFO flwr 2024-02-20 10:27:02,925 | client.py:57 | Creating client with cid: 796\n",
            "INFO:flwr:Creating client with cid: 796\n",
            "INFO flwr 2024-02-20 10:27:02,927 | <ipython-input-30-875a800ac84b>:40 | Getting client with id 1274\n",
            "INFO:flwr:Getting client with id 1274\n",
            "INFO flwr 2024-02-20 10:27:02,929 | client.py:57 | Creating client with cid: 1274\n",
            "INFO:flwr:Creating client with cid: 1274\n",
            "INFO flwr 2024-02-20 10:27:02,931 | <ipython-input-30-875a800ac84b>:40 | Getting client with id 1444\n",
            "INFO:flwr:Getting client with id 1444\n",
            "INFO flwr 2024-02-20 10:27:02,934 | client.py:57 | Creating client with cid: 1444\n",
            "INFO:flwr:Creating client with cid: 1444\n",
            "INFO flwr 2024-02-20 10:27:02,936 | <ipython-input-30-875a800ac84b>:40 | Getting client with id 2035\n",
            "INFO:flwr:Getting client with id 2035\n",
            "INFO flwr 2024-02-20 10:27:02,938 | client.py:57 | Creating client with cid: 2035\n",
            "INFO:flwr:Creating client with cid: 2035\n",
            "INFO flwr 2024-02-20 10:27:02,940 | client_manager.py:68 | Sampled the following clients: ['75', '796', '2035']\n",
            "INFO:flwr:Sampled the following clients: ['75', '796', '2035']\n",
            "DEBUG flwr 2024-02-20 10:27:02,943 | server_returns_parameters.py:223 | fit_round 2: strategy sampled 3 clients (out of 3229)\n",
            "DEBUG:flwr:fit_round 2: strategy sampled 3 clients (out of 3229)\n",
            "INFO flwr 2024-02-20 10:27:02,945 | <ipython-input-30-875a800ac84b>:40 | Getting client with id 75\n",
            "INFO:flwr:Getting client with id 75\n",
            "INFO flwr 2024-02-20 10:27:02,946 | <ipython-input-30-875a800ac84b>:40 | Getting client with id 796\n",
            "INFO:flwr:Getting client with id 796\n",
            "INFO flwr 2024-02-20 10:27:02,949 | client.py:57 | Creating client with cid: 75\n",
            "INFO flwr 2024-02-20 10:27:02,951 | client.py:57 | Creating client with cid: 796\n",
            "INFO:flwr:Creating client with cid: 75\n",
            "INFO:flwr:Creating client with cid: 796\n",
            "INFO flwr 2024-02-20 10:27:02,958 | <ipython-input-30-875a800ac84b>:40 | Getting client with id 2035\n",
            "INFO:flwr:Getting client with id 2035\n",
            "INFO flwr 2024-02-20 10:27:02,975 | client.py:57 | Creating client with cid: 2035\n",
            "INFO:flwr:Creating client with cid: 2035\n",
            "DEBUG flwr 2024-02-20 10:27:03,002 | server_returns_parameters.py:237 | fit_round 2 received 3 results and 0 failures\n",
            "DEBUG:flwr:fit_round 2 received 3 results and 0 failures\n",
            "INFO flwr 2024-02-20 10:27:03,004 | strategy.py:188 | Completion times of clients: [296.5387975793243, 104.8773233736289, 2934.0096853169944]\n",
            "INFO:flwr:Completion times of clients: [296.5387975793243, 104.8773233736289, 2934.0096853169944]\n",
            "INFO flwr 2024-02-20 10:27:03,006 | strategy.py:190 | Maximum completion time of clients: 2934.0096853169944\n",
            "INFO:flwr:Maximum completion time of clients: 2934.0096853169944\n",
            "INFO flwr 2024-02-20 10:27:03,037 | client_manager.py:47 | Sampling using <__main__.ActivityCriterion object at 0x7ec798b4e6b0>\n",
            "INFO:flwr:Sampling using <__main__.ActivityCriterion object at 0x7ec798b4e6b0>\n",
            "INFO flwr 2024-02-20 10:27:03,047 | <ipython-input-30-875a800ac84b>:40 | Getting client with id 1573\n",
            "INFO:flwr:Getting client with id 1573\n",
            "INFO flwr 2024-02-20 10:27:03,051 | client.py:57 | Creating client with cid: 1573\n",
            "INFO:flwr:Creating client with cid: 1573\n",
            "INFO flwr 2024-02-20 10:27:03,055 | <ipython-input-30-875a800ac84b>:40 | Getting client with id 2992\n",
            "INFO:flwr:Getting client with id 2992\n",
            "INFO flwr 2024-02-20 10:27:03,058 | client.py:57 | Creating client with cid: 2992\n",
            "INFO:flwr:Creating client with cid: 2992\n",
            "INFO flwr 2024-02-20 10:27:03,062 | <ipython-input-30-875a800ac84b>:40 | Getting client with id 2286\n",
            "INFO:flwr:Getting client with id 2286\n",
            "INFO flwr 2024-02-20 10:27:03,066 | client.py:57 | Creating client with cid: 2286\n",
            "INFO:flwr:Creating client with cid: 2286\n",
            "INFO flwr 2024-02-20 10:27:03,069 | <ipython-input-30-875a800ac84b>:40 | Getting client with id 2763\n",
            "INFO:flwr:Getting client with id 2763\n",
            "INFO flwr 2024-02-20 10:27:03,071 | client.py:57 | Creating client with cid: 2763\n",
            "INFO:flwr:Creating client with cid: 2763\n",
            "INFO flwr 2024-02-20 10:27:03,073 | <ipython-input-30-875a800ac84b>:40 | Getting client with id 1616\n",
            "INFO:flwr:Getting client with id 1616\n",
            "INFO flwr 2024-02-20 10:27:03,075 | client.py:57 | Creating client with cid: 1616\n",
            "INFO:flwr:Creating client with cid: 1616\n",
            "INFO flwr 2024-02-20 10:27:03,078 | <ipython-input-30-875a800ac84b>:40 | Getting client with id 194\n",
            "INFO:flwr:Getting client with id 194\n",
            "INFO flwr 2024-02-20 10:27:03,080 | client.py:57 | Creating client with cid: 194\n",
            "INFO:flwr:Creating client with cid: 194\n",
            "INFO flwr 2024-02-20 10:27:03,082 | <ipython-input-30-875a800ac84b>:40 | Getting client with id 75\n",
            "INFO:flwr:Getting client with id 75\n",
            "INFO flwr 2024-02-20 10:27:03,084 | client.py:57 | Creating client with cid: 75\n",
            "INFO:flwr:Creating client with cid: 75\n",
            "INFO flwr 2024-02-20 10:27:03,086 | <ipython-input-30-875a800ac84b>:40 | Getting client with id 1746\n",
            "INFO:flwr:Getting client with id 1746\n",
            "INFO flwr 2024-02-20 10:27:03,088 | client.py:57 | Creating client with cid: 1746\n",
            "INFO:flwr:Creating client with cid: 1746\n",
            "INFO flwr 2024-02-20 10:27:03,090 | <ipython-input-30-875a800ac84b>:40 | Getting client with id 796\n",
            "INFO:flwr:Getting client with id 796\n",
            "INFO flwr 2024-02-20 10:27:03,096 | client.py:57 | Creating client with cid: 796\n",
            "INFO:flwr:Creating client with cid: 796\n",
            "INFO flwr 2024-02-20 10:27:03,098 | client_manager.py:68 | Sampled the following clients: ['75', '796']\n",
            "INFO:flwr:Sampled the following clients: ['75', '796']\n",
            "DEBUG flwr 2024-02-20 10:27:03,102 | server_returns_parameters.py:173 | evaluate_round 2: strategy sampled 2 clients (out of 3229)\n",
            "DEBUG:flwr:evaluate_round 2: strategy sampled 2 clients (out of 3229)\n",
            "INFO flwr 2024-02-20 10:27:03,104 | <ipython-input-30-875a800ac84b>:40 | Getting client with id 75\n",
            "INFO:flwr:Getting client with id 75\n",
            "INFO flwr 2024-02-20 10:27:03,105 | <ipython-input-30-875a800ac84b>:40 | Getting client with id 796\n",
            "INFO:flwr:Getting client with id 796\n",
            "INFO flwr 2024-02-20 10:27:03,108 | client.py:57 | Creating client with cid: 75\n",
            "INFO flwr 2024-02-20 10:27:03,110 | client.py:57 | Creating client with cid: 796\n",
            "INFO:flwr:Creating client with cid: 75\n",
            "INFO:flwr:Creating client with cid: 796\n",
            "DEBUG flwr 2024-02-20 10:27:03,162 | server_returns_parameters.py:187 | evaluate_round 2 received 2 results and 0 failures\n",
            "DEBUG:flwr:evaluate_round 2 received 2 results and 0 failures\n",
            "INFO flwr 2024-02-20 10:27:03,164 | strategy.py:188 | Completion times of clients: [86.87479757932427, 1674.1056853169944]\n",
            "INFO:flwr:Completion times of clients: [86.87479757932427, 1674.1056853169944]\n",
            "INFO flwr 2024-02-20 10:27:03,166 | strategy.py:190 | Maximum completion time of clients: 1674.1056853169944\n",
            "INFO:flwr:Maximum completion time of clients: 1674.1056853169944\n",
            "INFO flwr 2024-02-20 10:27:03,182 | client_manager.py:47 | Sampling using <__main__.ActivityCriterion object at 0x7ec798b4e6b0>\n",
            "INFO:flwr:Sampling using <__main__.ActivityCriterion object at 0x7ec798b4e6b0>\n",
            "INFO flwr 2024-02-20 10:27:03,192 | <ipython-input-30-875a800ac84b>:40 | Getting client with id 2278\n",
            "INFO:flwr:Getting client with id 2278\n",
            "INFO flwr 2024-02-20 10:27:03,197 | client.py:57 | Creating client with cid: 2278\n",
            "INFO:flwr:Creating client with cid: 2278\n",
            "INFO flwr 2024-02-20 10:27:03,199 | <ipython-input-30-875a800ac84b>:40 | Getting client with id 185\n",
            "INFO:flwr:Getting client with id 185\n",
            "INFO flwr 2024-02-20 10:27:03,205 | client.py:57 | Creating client with cid: 185\n",
            "INFO:flwr:Creating client with cid: 185\n",
            "INFO flwr 2024-02-20 10:27:03,207 | <ipython-input-30-875a800ac84b>:40 | Getting client with id 2730\n",
            "INFO:flwr:Getting client with id 2730\n",
            "INFO flwr 2024-02-20 10:27:03,211 | client.py:57 | Creating client with cid: 2730\n",
            "INFO:flwr:Creating client with cid: 2730\n",
            "INFO flwr 2024-02-20 10:27:03,213 | <ipython-input-30-875a800ac84b>:40 | Getting client with id 2021\n",
            "INFO:flwr:Getting client with id 2021\n",
            "INFO flwr 2024-02-20 10:27:03,215 | client.py:57 | Creating client with cid: 2021\n",
            "INFO:flwr:Creating client with cid: 2021\n",
            "INFO flwr 2024-02-20 10:27:03,218 | <ipython-input-30-875a800ac84b>:40 | Getting client with id 2517\n",
            "INFO:flwr:Getting client with id 2517\n",
            "INFO flwr 2024-02-20 10:27:03,220 | client.py:57 | Creating client with cid: 2517\n",
            "INFO:flwr:Creating client with cid: 2517\n",
            "INFO flwr 2024-02-20 10:27:03,222 | <ipython-input-30-875a800ac84b>:40 | Getting client with id 1401\n",
            "INFO:flwr:Getting client with id 1401\n",
            "INFO flwr 2024-02-20 10:27:03,224 | client.py:57 | Creating client with cid: 1401\n",
            "INFO:flwr:Creating client with cid: 1401\n",
            "INFO flwr 2024-02-20 10:27:03,226 | <ipython-input-30-875a800ac84b>:40 | Getting client with id 537\n",
            "INFO:flwr:Getting client with id 537\n",
            "INFO flwr 2024-02-20 10:27:03,228 | client.py:57 | Creating client with cid: 537\n",
            "INFO:flwr:Creating client with cid: 537\n",
            "INFO flwr 2024-02-20 10:27:03,231 | <ipython-input-30-875a800ac84b>:40 | Getting client with id 276\n",
            "INFO:flwr:Getting client with id 276\n",
            "INFO flwr 2024-02-20 10:27:03,233 | client.py:57 | Creating client with cid: 276\n",
            "INFO:flwr:Creating client with cid: 276\n",
            "INFO flwr 2024-02-20 10:27:03,238 | <ipython-input-30-875a800ac84b>:40 | Getting client with id 466\n",
            "INFO:flwr:Getting client with id 466\n",
            "INFO flwr 2024-02-20 10:27:03,240 | client.py:57 | Creating client with cid: 466\n",
            "INFO:flwr:Creating client with cid: 466\n",
            "INFO flwr 2024-02-20 10:27:03,242 | <ipython-input-30-875a800ac84b>:40 | Getting client with id 2988\n",
            "INFO:flwr:Getting client with id 2988\n",
            "INFO flwr 2024-02-20 10:27:03,244 | client.py:57 | Creating client with cid: 2988\n",
            "INFO:flwr:Creating client with cid: 2988\n",
            "INFO flwr 2024-02-20 10:27:03,246 | client_manager.py:68 | Sampled the following clients: ['2517', '276', '2988']\n",
            "INFO:flwr:Sampled the following clients: ['2517', '276', '2988']\n",
            "DEBUG flwr 2024-02-20 10:27:03,249 | server_returns_parameters.py:223 | fit_round 3: strategy sampled 3 clients (out of 3229)\n",
            "DEBUG:flwr:fit_round 3: strategy sampled 3 clients (out of 3229)\n",
            "INFO flwr 2024-02-20 10:27:03,251 | <ipython-input-30-875a800ac84b>:40 | Getting client with id 2517\n",
            "INFO:flwr:Getting client with id 2517\n",
            "INFO flwr 2024-02-20 10:27:03,260 | client.py:57 | Creating client with cid: 2517\n",
            "INFO:flwr:Creating client with cid: 2517\n",
            "INFO flwr 2024-02-20 10:27:03,262 | <ipython-input-30-875a800ac84b>:40 | Getting client with id 276\n",
            "INFO:flwr:Getting client with id 276\n",
            "INFO flwr 2024-02-20 10:27:03,265 | <ipython-input-30-875a800ac84b>:40 | Getting client with id 2988\n",
            "INFO:flwr:Getting client with id 2988\n",
            "INFO flwr 2024-02-20 10:27:03,279 | client.py:57 | Creating client with cid: 276\n",
            "INFO:flwr:Creating client with cid: 276\n",
            "INFO flwr 2024-02-20 10:27:03,284 | client.py:57 | Creating client with cid: 2988\n",
            "INFO:flwr:Creating client with cid: 2988\n",
            "DEBUG flwr 2024-02-20 10:27:03,376 | server_returns_parameters.py:237 | fit_round 3 received 3 results and 0 failures\n",
            "DEBUG:flwr:fit_round 3 received 3 results and 0 failures\n",
            "INFO flwr 2024-02-20 10:27:03,378 | strategy.py:188 | Completion times of clients: [244.82024872989444, 674.7452167252973, 1953.979068498118]\n",
            "INFO:flwr:Completion times of clients: [244.82024872989444, 674.7452167252973, 1953.979068498118]\n",
            "INFO flwr 2024-02-20 10:27:03,380 | strategy.py:190 | Maximum completion time of clients: 1953.979068498118\n",
            "INFO:flwr:Maximum completion time of clients: 1953.979068498118\n",
            "INFO flwr 2024-02-20 10:27:03,418 | client_manager.py:47 | Sampling using <__main__.ActivityCriterion object at 0x7ec798b4e6b0>\n",
            "INFO:flwr:Sampling using <__main__.ActivityCriterion object at 0x7ec798b4e6b0>\n",
            "INFO flwr 2024-02-20 10:27:03,421 | <ipython-input-30-875a800ac84b>:40 | Getting client with id 2278\n",
            "INFO:flwr:Getting client with id 2278\n",
            "INFO flwr 2024-02-20 10:27:03,423 | client.py:57 | Creating client with cid: 2278\n",
            "INFO:flwr:Creating client with cid: 2278\n",
            "INFO flwr 2024-02-20 10:27:03,428 | <ipython-input-30-875a800ac84b>:40 | Getting client with id 185\n",
            "INFO:flwr:Getting client with id 185\n",
            "INFO flwr 2024-02-20 10:27:03,432 | client.py:57 | Creating client with cid: 185\n",
            "INFO:flwr:Creating client with cid: 185\n",
            "INFO flwr 2024-02-20 10:27:03,435 | <ipython-input-30-875a800ac84b>:40 | Getting client with id 2730\n",
            "INFO:flwr:Getting client with id 2730\n",
            "INFO flwr 2024-02-20 10:27:03,437 | client.py:57 | Creating client with cid: 2730\n",
            "INFO:flwr:Creating client with cid: 2730\n",
            "INFO flwr 2024-02-20 10:27:03,439 | <ipython-input-30-875a800ac84b>:40 | Getting client with id 2021\n",
            "INFO:flwr:Getting client with id 2021\n",
            "INFO flwr 2024-02-20 10:27:03,443 | client.py:57 | Creating client with cid: 2021\n",
            "INFO:flwr:Creating client with cid: 2021\n",
            "INFO flwr 2024-02-20 10:27:03,446 | <ipython-input-30-875a800ac84b>:40 | Getting client with id 2517\n",
            "INFO:flwr:Getting client with id 2517\n",
            "INFO flwr 2024-02-20 10:27:03,448 | client.py:57 | Creating client with cid: 2517\n",
            "INFO:flwr:Creating client with cid: 2517\n",
            "INFO flwr 2024-02-20 10:27:03,452 | <ipython-input-30-875a800ac84b>:40 | Getting client with id 1401\n",
            "INFO:flwr:Getting client with id 1401\n",
            "INFO flwr 2024-02-20 10:27:03,457 | client.py:57 | Creating client with cid: 1401\n",
            "INFO:flwr:Creating client with cid: 1401\n",
            "INFO flwr 2024-02-20 10:27:03,460 | <ipython-input-30-875a800ac84b>:40 | Getting client with id 537\n",
            "INFO:flwr:Getting client with id 537\n",
            "INFO flwr 2024-02-20 10:27:03,470 | client.py:57 | Creating client with cid: 537\n",
            "INFO:flwr:Creating client with cid: 537\n",
            "INFO flwr 2024-02-20 10:27:03,476 | <ipython-input-30-875a800ac84b>:40 | Getting client with id 276\n",
            "INFO:flwr:Getting client with id 276\n",
            "INFO flwr 2024-02-20 10:27:03,478 | client.py:57 | Creating client with cid: 276\n",
            "INFO:flwr:Creating client with cid: 276\n",
            "INFO flwr 2024-02-20 10:27:03,481 | client_manager.py:68 | Sampled the following clients: ['2517', '276']\n",
            "INFO:flwr:Sampled the following clients: ['2517', '276']\n",
            "DEBUG flwr 2024-02-20 10:27:03,483 | server_returns_parameters.py:173 | evaluate_round 3: strategy sampled 2 clients (out of 3229)\n",
            "DEBUG:flwr:evaluate_round 3: strategy sampled 2 clients (out of 3229)\n",
            "INFO flwr 2024-02-20 10:27:03,486 | <ipython-input-30-875a800ac84b>:40 | Getting client with id 2517\n",
            "INFO:flwr:Getting client with id 2517\n",
            "INFO flwr 2024-02-20 10:27:03,490 | <ipython-input-30-875a800ac84b>:40 | Getting client with id 276\n",
            "INFO flwr 2024-02-20 10:27:03,496 | client.py:57 | Creating client with cid: 2517\n",
            "INFO:flwr:Getting client with id 276\n",
            "INFO:flwr:Creating client with cid: 2517\n",
            "INFO flwr 2024-02-20 10:27:03,498 | client.py:57 | Creating client with cid: 276\n",
            "INFO:flwr:Creating client with cid: 276\n",
            "DEBUG flwr 2024-02-20 10:27:03,617 | server_returns_parameters.py:187 | evaluate_round 3 received 1 results and 1 failures\n",
            "DEBUG:flwr:evaluate_round 3 received 1 results and 1 failures\n",
            "INFO flwr 2024-02-20 10:27:03,621 | strategy.py:188 | Completion times of clients: [87.38024872989446]\n",
            "INFO:flwr:Completion times of clients: [87.38024872989446]\n",
            "INFO flwr 2024-02-20 10:27:03,625 | strategy.py:190 | Maximum completion time of clients: 87.38024872989446\n",
            "INFO:flwr:Maximum completion time of clients: 87.38024872989446\n",
            "INFO flwr 2024-02-20 10:27:03,669 | client_manager.py:47 | Sampling using <__main__.ActivityCriterion object at 0x7ec798b4e6b0>\n",
            "INFO:flwr:Sampling using <__main__.ActivityCriterion object at 0x7ec798b4e6b0>\n",
            "INFO flwr 2024-02-20 10:27:03,695 | <ipython-input-30-875a800ac84b>:40 | Getting client with id 1588\n",
            "INFO:flwr:Getting client with id 1588\n",
            "INFO flwr 2024-02-20 10:27:03,700 | client.py:57 | Creating client with cid: 1588\n",
            "INFO:flwr:Creating client with cid: 1588\n",
            "INFO flwr 2024-02-20 10:27:03,702 | <ipython-input-30-875a800ac84b>:40 | Getting client with id 1207\n",
            "INFO:flwr:Getting client with id 1207\n",
            "INFO flwr 2024-02-20 10:27:03,704 | client.py:57 | Creating client with cid: 1207\n",
            "INFO:flwr:Creating client with cid: 1207\n",
            "INFO flwr 2024-02-20 10:27:03,709 | <ipython-input-30-875a800ac84b>:40 | Getting client with id 2967\n",
            "INFO:flwr:Getting client with id 2967\n",
            "INFO flwr 2024-02-20 10:27:03,712 | client.py:57 | Creating client with cid: 2967\n",
            "INFO:flwr:Creating client with cid: 2967\n",
            "INFO flwr 2024-02-20 10:27:03,714 | <ipython-input-30-875a800ac84b>:40 | Getting client with id 3198\n",
            "INFO:flwr:Getting client with id 3198\n",
            "INFO flwr 2024-02-20 10:27:03,716 | client.py:57 | Creating client with cid: 3198\n",
            "INFO:flwr:Creating client with cid: 3198\n",
            "INFO flwr 2024-02-20 10:27:03,719 | <ipython-input-30-875a800ac84b>:40 | Getting client with id 144\n",
            "INFO:flwr:Getting client with id 144\n",
            "INFO flwr 2024-02-20 10:27:03,721 | client.py:57 | Creating client with cid: 144\n",
            "INFO:flwr:Creating client with cid: 144\n",
            "INFO flwr 2024-02-20 10:27:03,723 | <ipython-input-30-875a800ac84b>:40 | Getting client with id 367\n",
            "INFO:flwr:Getting client with id 367\n",
            "INFO flwr 2024-02-20 10:27:03,726 | client.py:57 | Creating client with cid: 367\n",
            "INFO:flwr:Creating client with cid: 367\n",
            "INFO flwr 2024-02-20 10:27:03,728 | <ipython-input-30-875a800ac84b>:40 | Getting client with id 1401\n",
            "INFO:flwr:Getting client with id 1401\n",
            "INFO flwr 2024-02-20 10:27:03,730 | client.py:57 | Creating client with cid: 1401\n",
            "INFO:flwr:Creating client with cid: 1401\n",
            "INFO flwr 2024-02-20 10:27:03,733 | <ipython-input-30-875a800ac84b>:40 | Getting client with id 1034\n",
            "INFO:flwr:Getting client with id 1034\n",
            "INFO flwr 2024-02-20 10:27:03,735 | client.py:57 | Creating client with cid: 1034\n",
            "INFO:flwr:Creating client with cid: 1034\n",
            "INFO flwr 2024-02-20 10:27:03,738 | <ipython-input-30-875a800ac84b>:40 | Getting client with id 2944\n",
            "INFO:flwr:Getting client with id 2944\n",
            "INFO flwr 2024-02-20 10:27:03,740 | client.py:57 | Creating client with cid: 2944\n",
            "INFO:flwr:Creating client with cid: 2944\n",
            "INFO flwr 2024-02-20 10:27:03,742 | <ipython-input-30-875a800ac84b>:40 | Getting client with id 2343\n",
            "INFO:flwr:Getting client with id 2343\n",
            "INFO flwr 2024-02-20 10:27:03,744 | client.py:57 | Creating client with cid: 2343\n",
            "INFO:flwr:Creating client with cid: 2343\n",
            "INFO flwr 2024-02-20 10:27:03,746 | <ipython-input-30-875a800ac84b>:40 | Getting client with id 66\n",
            "INFO:flwr:Getting client with id 66\n",
            "INFO flwr 2024-02-20 10:27:03,748 | client.py:57 | Creating client with cid: 66\n",
            "INFO:flwr:Creating client with cid: 66\n",
            "INFO flwr 2024-02-20 10:27:03,751 | <ipython-input-30-875a800ac84b>:40 | Getting client with id 1441\n",
            "INFO:flwr:Getting client with id 1441\n",
            "INFO flwr 2024-02-20 10:27:03,753 | client.py:57 | Creating client with cid: 1441\n",
            "INFO:flwr:Creating client with cid: 1441\n",
            "INFO flwr 2024-02-20 10:27:03,755 | <ipython-input-30-875a800ac84b>:40 | Getting client with id 2040\n",
            "INFO:flwr:Getting client with id 2040\n",
            "INFO flwr 2024-02-20 10:27:03,758 | client.py:57 | Creating client with cid: 2040\n",
            "INFO:flwr:Creating client with cid: 2040\n",
            "INFO flwr 2024-02-20 10:27:03,760 | client_manager.py:68 | Sampled the following clients: ['144', '367', '2040']\n",
            "INFO:flwr:Sampled the following clients: ['144', '367', '2040']\n",
            "DEBUG flwr 2024-02-20 10:27:03,763 | server_returns_parameters.py:223 | fit_round 4: strategy sampled 3 clients (out of 3229)\n",
            "DEBUG:flwr:fit_round 4: strategy sampled 3 clients (out of 3229)\n",
            "INFO flwr 2024-02-20 10:27:03,766 | <ipython-input-30-875a800ac84b>:40 | Getting client with id 144\n",
            "INFO:flwr:Getting client with id 144\n",
            "INFO flwr 2024-02-20 10:27:03,769 | <ipython-input-30-875a800ac84b>:40 | Getting client with id 367\n",
            "INFO:flwr:Getting client with id 367\n",
            "INFO flwr 2024-02-20 10:27:03,769 | <ipython-input-30-875a800ac84b>:40 | Getting client with id 2040\n",
            "INFO:flwr:Getting client with id 2040\n",
            "INFO flwr 2024-02-20 10:27:03,775 | client.py:57 | Creating client with cid: 144\n",
            "INFO flwr 2024-02-20 10:27:03,781 | client.py:57 | Creating client with cid: 2040\n",
            "INFO:flwr:Creating client with cid: 144\n",
            "INFO:flwr:Creating client with cid: 2040\n",
            "INFO flwr 2024-02-20 10:27:03,779 | client.py:57 | Creating client with cid: 367\n",
            "INFO:flwr:Creating client with cid: 367\n",
            "DEBUG flwr 2024-02-20 10:27:03,884 | server_returns_parameters.py:237 | fit_round 4 received 3 results and 0 failures\n",
            "DEBUG:flwr:fit_round 4 received 3 results and 0 failures\n",
            "INFO flwr 2024-02-20 10:27:03,888 | strategy.py:188 | Completion times of clients: [749.3616198100947, 1049.8973331279187, 1246.9791941327182]\n",
            "INFO:flwr:Completion times of clients: [749.3616198100947, 1049.8973331279187, 1246.9791941327182]\n",
            "INFO flwr 2024-02-20 10:27:03,890 | strategy.py:190 | Maximum completion time of clients: 1246.9791941327182\n",
            "INFO:flwr:Maximum completion time of clients: 1246.9791941327182\n",
            "INFO flwr 2024-02-20 10:27:03,923 | client_manager.py:47 | Sampling using <__main__.ActivityCriterion object at 0x7ec798b4e6b0>\n",
            "INFO:flwr:Sampling using <__main__.ActivityCriterion object at 0x7ec798b4e6b0>\n",
            "INFO flwr 2024-02-20 10:27:03,930 | <ipython-input-30-875a800ac84b>:40 | Getting client with id 1588\n",
            "INFO:flwr:Getting client with id 1588\n",
            "INFO flwr 2024-02-20 10:27:03,935 | client.py:57 | Creating client with cid: 1588\n",
            "INFO:flwr:Creating client with cid: 1588\n",
            "INFO flwr 2024-02-20 10:27:03,938 | <ipython-input-30-875a800ac84b>:40 | Getting client with id 1207\n",
            "INFO:flwr:Getting client with id 1207\n",
            "INFO flwr 2024-02-20 10:27:03,942 | client.py:57 | Creating client with cid: 1207\n",
            "INFO:flwr:Creating client with cid: 1207\n",
            "INFO flwr 2024-02-20 10:27:03,945 | <ipython-input-30-875a800ac84b>:40 | Getting client with id 2967\n",
            "INFO:flwr:Getting client with id 2967\n",
            "INFO flwr 2024-02-20 10:27:03,947 | client.py:57 | Creating client with cid: 2967\n",
            "INFO:flwr:Creating client with cid: 2967\n",
            "INFO flwr 2024-02-20 10:27:03,949 | <ipython-input-30-875a800ac84b>:40 | Getting client with id 3198\n",
            "INFO:flwr:Getting client with id 3198\n",
            "INFO flwr 2024-02-20 10:27:03,951 | client.py:57 | Creating client with cid: 3198\n",
            "INFO:flwr:Creating client with cid: 3198\n",
            "INFO flwr 2024-02-20 10:27:03,956 | <ipython-input-30-875a800ac84b>:40 | Getting client with id 144\n",
            "INFO:flwr:Getting client with id 144\n",
            "INFO flwr 2024-02-20 10:27:03,958 | client.py:57 | Creating client with cid: 144\n",
            "INFO:flwr:Creating client with cid: 144\n",
            "INFO flwr 2024-02-20 10:27:03,960 | client_manager.py:68 | Sampled the following clients: ['2967', '144']\n",
            "INFO:flwr:Sampled the following clients: ['2967', '144']\n",
            "DEBUG flwr 2024-02-20 10:27:03,962 | server_returns_parameters.py:173 | evaluate_round 4: strategy sampled 2 clients (out of 3229)\n",
            "DEBUG:flwr:evaluate_round 4: strategy sampled 2 clients (out of 3229)\n",
            "INFO flwr 2024-02-20 10:27:03,965 | <ipython-input-30-875a800ac84b>:40 | Getting client with id 2967\n",
            "INFO:flwr:Getting client with id 2967\n",
            "INFO flwr 2024-02-20 10:27:03,975 | <ipython-input-30-875a800ac84b>:40 | Getting client with id 144\n",
            "INFO flwr 2024-02-20 10:27:03,992 | client.py:57 | Creating client with cid: 2967\n",
            "INFO:flwr:Getting client with id 144\n",
            "INFO:flwr:Creating client with cid: 2967\n",
            "INFO flwr 2024-02-20 10:27:03,994 | client.py:57 | Creating client with cid: 144\n",
            "INFO:flwr:Creating client with cid: 144\n",
            "DEBUG flwr 2024-02-20 10:27:04,012 | server_returns_parameters.py:187 | evaluate_round 4 received 2 results and 0 failures\n",
            "DEBUG:flwr:evaluate_round 4 received 2 results and 0 failures\n",
            "INFO flwr 2024-02-20 10:27:04,015 | strategy.py:188 | Completion times of clients: [743.3631941327183, 23.152174914468052]\n",
            "INFO:flwr:Completion times of clients: [743.3631941327183, 23.152174914468052]\n",
            "INFO flwr 2024-02-20 10:27:04,017 | strategy.py:190 | Maximum completion time of clients: 743.3631941327183\n",
            "INFO:flwr:Maximum completion time of clients: 743.3631941327183\n",
            "INFO flwr 2024-02-20 10:27:04,047 | client_manager.py:47 | Sampling using <__main__.ActivityCriterion object at 0x7ec798b4e6b0>\n",
            "INFO:flwr:Sampling using <__main__.ActivityCriterion object at 0x7ec798b4e6b0>\n",
            "INFO flwr 2024-02-20 10:27:04,051 | <ipython-input-30-875a800ac84b>:40 | Getting client with id 3156\n",
            "INFO:flwr:Getting client with id 3156\n",
            "INFO flwr 2024-02-20 10:27:04,053 | client.py:57 | Creating client with cid: 3156\n",
            "INFO:flwr:Creating client with cid: 3156\n",
            "INFO flwr 2024-02-20 10:27:04,056 | <ipython-input-30-875a800ac84b>:40 | Getting client with id 3172\n",
            "INFO:flwr:Getting client with id 3172\n",
            "INFO flwr 2024-02-20 10:27:04,058 | client.py:57 | Creating client with cid: 3172\n",
            "INFO:flwr:Creating client with cid: 3172\n",
            "INFO flwr 2024-02-20 10:27:04,060 | <ipython-input-30-875a800ac84b>:40 | Getting client with id 2437\n",
            "INFO:flwr:Getting client with id 2437\n",
            "INFO flwr 2024-02-20 10:27:04,062 | client.py:57 | Creating client with cid: 2437\n",
            "INFO:flwr:Creating client with cid: 2437\n",
            "INFO flwr 2024-02-20 10:27:04,064 | <ipython-input-30-875a800ac84b>:40 | Getting client with id 843\n",
            "INFO:flwr:Getting client with id 843\n",
            "INFO flwr 2024-02-20 10:27:04,070 | client.py:57 | Creating client with cid: 843\n",
            "INFO:flwr:Creating client with cid: 843\n",
            "INFO flwr 2024-02-20 10:27:04,073 | <ipython-input-30-875a800ac84b>:40 | Getting client with id 2324\n",
            "INFO:flwr:Getting client with id 2324\n",
            "INFO flwr 2024-02-20 10:27:04,075 | client.py:57 | Creating client with cid: 2324\n",
            "INFO:flwr:Creating client with cid: 2324\n",
            "INFO flwr 2024-02-20 10:27:04,078 | <ipython-input-30-875a800ac84b>:40 | Getting client with id 1353\n",
            "INFO:flwr:Getting client with id 1353\n",
            "INFO flwr 2024-02-20 10:27:04,079 | client.py:57 | Creating client with cid: 1353\n",
            "INFO:flwr:Creating client with cid: 1353\n",
            "INFO flwr 2024-02-20 10:27:04,084 | <ipython-input-30-875a800ac84b>:40 | Getting client with id 2263\n",
            "INFO:flwr:Getting client with id 2263\n",
            "INFO flwr 2024-02-20 10:27:04,086 | client.py:57 | Creating client with cid: 2263\n",
            "INFO:flwr:Creating client with cid: 2263\n",
            "INFO flwr 2024-02-20 10:27:04,088 | <ipython-input-30-875a800ac84b>:40 | Getting client with id 2274\n",
            "INFO:flwr:Getting client with id 2274\n",
            "INFO flwr 2024-02-20 10:27:04,092 | client.py:57 | Creating client with cid: 2274\n",
            "INFO:flwr:Creating client with cid: 2274\n",
            "INFO flwr 2024-02-20 10:27:04,095 | <ipython-input-30-875a800ac84b>:40 | Getting client with id 610\n",
            "INFO:flwr:Getting client with id 610\n",
            "INFO flwr 2024-02-20 10:27:04,097 | client.py:57 | Creating client with cid: 610\n",
            "INFO:flwr:Creating client with cid: 610\n",
            "INFO flwr 2024-02-20 10:27:04,099 | <ipython-input-30-875a800ac84b>:40 | Getting client with id 1324\n",
            "INFO:flwr:Getting client with id 1324\n",
            "INFO flwr 2024-02-20 10:27:04,101 | client.py:57 | Creating client with cid: 1324\n",
            "INFO:flwr:Creating client with cid: 1324\n",
            "INFO flwr 2024-02-20 10:27:04,103 | <ipython-input-30-875a800ac84b>:40 | Getting client with id 301\n",
            "INFO:flwr:Getting client with id 301\n",
            "INFO flwr 2024-02-20 10:27:04,105 | client.py:57 | Creating client with cid: 301\n",
            "INFO:flwr:Creating client with cid: 301\n",
            "INFO flwr 2024-02-20 10:27:04,107 | <ipython-input-30-875a800ac84b>:40 | Getting client with id 3162\n",
            "INFO:flwr:Getting client with id 3162\n",
            "INFO flwr 2024-02-20 10:27:04,109 | client.py:57 | Creating client with cid: 3162\n",
            "INFO:flwr:Creating client with cid: 3162\n",
            "INFO flwr 2024-02-20 10:27:04,111 | <ipython-input-30-875a800ac84b>:40 | Getting client with id 2112\n",
            "INFO:flwr:Getting client with id 2112\n",
            "INFO flwr 2024-02-20 10:27:04,114 | client.py:57 | Creating client with cid: 2112\n",
            "INFO:flwr:Creating client with cid: 2112\n",
            "INFO flwr 2024-02-20 10:27:04,116 | client_manager.py:68 | Sampled the following clients: ['843', '1353', '2112']\n",
            "INFO:flwr:Sampled the following clients: ['843', '1353', '2112']\n",
            "DEBUG flwr 2024-02-20 10:27:04,119 | server_returns_parameters.py:223 | fit_round 5: strategy sampled 3 clients (out of 3229)\n",
            "DEBUG:flwr:fit_round 5: strategy sampled 3 clients (out of 3229)\n",
            "INFO flwr 2024-02-20 10:27:04,130 | <ipython-input-30-875a800ac84b>:40 | Getting client with id 843\n",
            "INFO:flwr:Getting client with id 843\n",
            "INFO flwr 2024-02-20 10:27:04,133 | client.py:57 | Creating client with cid: 843\n",
            "INFO:flwr:Creating client with cid: 843\n",
            "INFO flwr 2024-02-20 10:27:04,140 | <ipython-input-30-875a800ac84b>:40 | Getting client with id 1353\n",
            "INFO:flwr:Getting client with id 1353\n",
            "INFO flwr 2024-02-20 10:27:04,141 | <ipython-input-30-875a800ac84b>:40 | Getting client with id 2112\n",
            "INFO:flwr:Getting client with id 2112\n",
            "INFO flwr 2024-02-20 10:27:04,148 | client.py:57 | Creating client with cid: 1353\n",
            "INFO:flwr:Creating client with cid: 1353\n",
            "INFO flwr 2024-02-20 10:27:04,149 | client.py:57 | Creating client with cid: 2112\n",
            "INFO:flwr:Creating client with cid: 2112\n",
            "DEBUG flwr 2024-02-20 10:27:04,164 | server_returns_parameters.py:237 | fit_round 5 received 3 results and 0 failures\n",
            "DEBUG:flwr:fit_round 5 received 3 results and 0 failures\n",
            "INFO flwr 2024-02-20 10:27:04,166 | strategy.py:188 | Completion times of clients: [411.05910613354115, 1160.6477784499832, 224.2469138035991]\n",
            "INFO:flwr:Completion times of clients: [411.05910613354115, 1160.6477784499832, 224.2469138035991]\n",
            "INFO flwr 2024-02-20 10:27:04,168 | strategy.py:190 | Maximum completion time of clients: 1160.6477784499832\n",
            "INFO:flwr:Maximum completion time of clients: 1160.6477784499832\n",
            "INFO flwr 2024-02-20 10:27:04,204 | client_manager.py:47 | Sampling using <__main__.ActivityCriterion object at 0x7ec798b4e6b0>\n",
            "INFO:flwr:Sampling using <__main__.ActivityCriterion object at 0x7ec798b4e6b0>\n",
            "INFO flwr 2024-02-20 10:27:04,213 | <ipython-input-30-875a800ac84b>:40 | Getting client with id 3156\n",
            "INFO:flwr:Getting client with id 3156\n",
            "INFO flwr 2024-02-20 10:27:04,215 | client.py:57 | Creating client with cid: 3156\n",
            "INFO:flwr:Creating client with cid: 3156\n",
            "INFO flwr 2024-02-20 10:27:04,217 | <ipython-input-30-875a800ac84b>:40 | Getting client with id 3172\n",
            "INFO:flwr:Getting client with id 3172\n",
            "INFO flwr 2024-02-20 10:27:04,219 | client.py:57 | Creating client with cid: 3172\n",
            "INFO:flwr:Creating client with cid: 3172\n",
            "INFO flwr 2024-02-20 10:27:04,221 | <ipython-input-30-875a800ac84b>:40 | Getting client with id 2437\n",
            "INFO:flwr:Getting client with id 2437\n",
            "INFO flwr 2024-02-20 10:27:04,223 | client.py:57 | Creating client with cid: 2437\n",
            "INFO:flwr:Creating client with cid: 2437\n",
            "INFO flwr 2024-02-20 10:27:04,225 | <ipython-input-30-875a800ac84b>:40 | Getting client with id 843\n",
            "INFO:flwr:Getting client with id 843\n",
            "INFO flwr 2024-02-20 10:27:04,229 | client.py:57 | Creating client with cid: 843\n",
            "INFO:flwr:Creating client with cid: 843\n",
            "INFO flwr 2024-02-20 10:27:04,232 | <ipython-input-30-875a800ac84b>:40 | Getting client with id 2324\n",
            "INFO:flwr:Getting client with id 2324\n",
            "INFO flwr 2024-02-20 10:27:04,234 | client.py:57 | Creating client with cid: 2324\n",
            "INFO:flwr:Creating client with cid: 2324\n",
            "INFO flwr 2024-02-20 10:27:04,237 | <ipython-input-30-875a800ac84b>:40 | Getting client with id 1353\n",
            "INFO:flwr:Getting client with id 1353\n",
            "INFO flwr 2024-02-20 10:27:04,241 | client.py:57 | Creating client with cid: 1353\n",
            "INFO:flwr:Creating client with cid: 1353\n",
            "INFO flwr 2024-02-20 10:27:04,243 | client_manager.py:68 | Sampled the following clients: ['843', '1353']\n",
            "INFO:flwr:Sampled the following clients: ['843', '1353']\n",
            "DEBUG flwr 2024-02-20 10:27:04,246 | server_returns_parameters.py:173 | evaluate_round 5: strategy sampled 2 clients (out of 3229)\n",
            "DEBUG:flwr:evaluate_round 5: strategy sampled 2 clients (out of 3229)\n",
            "INFO flwr 2024-02-20 10:27:04,251 | <ipython-input-30-875a800ac84b>:40 | Getting client with id 843\n",
            "INFO:flwr:Getting client with id 843\n",
            "INFO flwr 2024-02-20 10:27:04,257 | client.py:57 | Creating client with cid: 843\n",
            "INFO:flwr:Creating client with cid: 843\n",
            "INFO flwr 2024-02-20 10:27:04,262 | <ipython-input-30-875a800ac84b>:40 | Getting client with id 1353\n",
            "INFO:flwr:Getting client with id 1353\n",
            "INFO flwr 2024-02-20 10:27:04,273 | client.py:57 | Creating client with cid: 1353\n",
            "INFO:flwr:Creating client with cid: 1353\n",
            "DEBUG flwr 2024-02-20 10:27:04,348 | server_returns_parameters.py:187 | evaluate_round 5 received 2 results and 0 failures\n",
            "DEBUG:flwr:evaluate_round 5 received 2 results and 0 failures\n",
            "INFO flwr 2024-02-20 10:27:04,351 | strategy.py:188 | Completion times of clients: [429.89577844998325, 135.44691380359913]\n",
            "INFO:flwr:Completion times of clients: [429.89577844998325, 135.44691380359913]\n",
            "INFO flwr 2024-02-20 10:27:04,353 | strategy.py:190 | Maximum completion time of clients: 429.89577844998325\n",
            "INFO:flwr:Maximum completion time of clients: 429.89577844998325\n",
            "INFO flwr 2024-02-20 10:27:04,390 | client_manager.py:47 | Sampling using <__main__.ActivityCriterion object at 0x7ec798b4e6b0>\n",
            "INFO:flwr:Sampling using <__main__.ActivityCriterion object at 0x7ec798b4e6b0>\n",
            "INFO flwr 2024-02-20 10:27:04,398 | <ipython-input-30-875a800ac84b>:40 | Getting client with id 843\n",
            "INFO:flwr:Getting client with id 843\n",
            "INFO flwr 2024-02-20 10:27:04,400 | client.py:57 | Creating client with cid: 843\n",
            "INFO:flwr:Creating client with cid: 843\n",
            "INFO flwr 2024-02-20 10:27:04,402 | <ipython-input-30-875a800ac84b>:40 | Getting client with id 3073\n",
            "INFO:flwr:Getting client with id 3073\n",
            "INFO flwr 2024-02-20 10:27:04,405 | client.py:57 | Creating client with cid: 3073\n",
            "INFO:flwr:Creating client with cid: 3073\n",
            "INFO flwr 2024-02-20 10:27:04,407 | <ipython-input-30-875a800ac84b>:40 | Getting client with id 1925\n",
            "INFO:flwr:Getting client with id 1925\n",
            "INFO flwr 2024-02-20 10:27:04,409 | client.py:57 | Creating client with cid: 1925\n",
            "INFO:flwr:Creating client with cid: 1925\n",
            "INFO flwr 2024-02-20 10:27:04,411 | <ipython-input-30-875a800ac84b>:40 | Getting client with id 2757\n",
            "INFO:flwr:Getting client with id 2757\n",
            "INFO flwr 2024-02-20 10:27:04,413 | client.py:57 | Creating client with cid: 2757\n",
            "INFO:flwr:Creating client with cid: 2757\n",
            "INFO flwr 2024-02-20 10:27:04,415 | client_manager.py:68 | Sampled the following clients: ['843', '1925', '2757']\n",
            "INFO:flwr:Sampled the following clients: ['843', '1925', '2757']\n",
            "DEBUG flwr 2024-02-20 10:27:04,418 | server_returns_parameters.py:223 | fit_round 6: strategy sampled 3 clients (out of 3229)\n",
            "DEBUG:flwr:fit_round 6: strategy sampled 3 clients (out of 3229)\n",
            "INFO flwr 2024-02-20 10:27:04,421 | <ipython-input-30-875a800ac84b>:40 | Getting client with id 843\n",
            "INFO:flwr:Getting client with id 843\n",
            "INFO flwr 2024-02-20 10:27:04,422 | <ipython-input-30-875a800ac84b>:40 | Getting client with id 1925\n",
            "INFO:flwr:Getting client with id 1925\n",
            "INFO flwr 2024-02-20 10:27:04,426 | <ipython-input-30-875a800ac84b>:40 | Getting client with id 2757\n",
            "INFO:flwr:Getting client with id 2757\n",
            "INFO flwr 2024-02-20 10:27:04,428 | client.py:57 | Creating client with cid: 843\n",
            "INFO flwr 2024-02-20 10:27:04,431 | client.py:57 | Creating client with cid: 1925\n",
            "INFO:flwr:Creating client with cid: 843\n",
            "INFO:flwr:Creating client with cid: 1925\n",
            "INFO flwr 2024-02-20 10:27:04,433 | client.py:57 | Creating client with cid: 2757\n",
            "INFO:flwr:Creating client with cid: 2757\n",
            "DEBUG flwr 2024-02-20 10:27:04,503 | server_returns_parameters.py:237 | fit_round 6 received 3 results and 0 failures\n",
            "DEBUG:flwr:fit_round 6 received 3 results and 0 failures\n",
            "INFO flwr 2024-02-20 10:27:04,505 | strategy.py:188 | Completion times of clients: [1977.5401397947521, 1160.6477784499832, 1066.0827001792834]\n",
            "INFO:flwr:Completion times of clients: [1977.5401397947521, 1160.6477784499832, 1066.0827001792834]\n",
            "INFO flwr 2024-02-20 10:27:04,508 | strategy.py:190 | Maximum completion time of clients: 1977.5401397947521\n",
            "INFO:flwr:Maximum completion time of clients: 1977.5401397947521\n",
            "INFO flwr 2024-02-20 10:27:04,548 | client_manager.py:47 | Sampling using <__main__.ActivityCriterion object at 0x7ec798b4e6b0>\n",
            "INFO:flwr:Sampling using <__main__.ActivityCriterion object at 0x7ec798b4e6b0>\n",
            "INFO flwr 2024-02-20 10:27:04,555 | <ipython-input-30-875a800ac84b>:40 | Getting client with id 843\n",
            "INFO:flwr:Getting client with id 843\n",
            "INFO flwr 2024-02-20 10:27:04,559 | client.py:57 | Creating client with cid: 843\n",
            "INFO:flwr:Creating client with cid: 843\n",
            "INFO flwr 2024-02-20 10:27:04,562 | <ipython-input-30-875a800ac84b>:40 | Getting client with id 3073\n",
            "INFO:flwr:Getting client with id 3073\n",
            "INFO flwr 2024-02-20 10:27:04,565 | client.py:57 | Creating client with cid: 3073\n",
            "INFO:flwr:Creating client with cid: 3073\n",
            "INFO flwr 2024-02-20 10:27:04,567 | <ipython-input-30-875a800ac84b>:40 | Getting client with id 1925\n",
            "INFO:flwr:Getting client with id 1925\n",
            "INFO flwr 2024-02-20 10:27:04,569 | client.py:57 | Creating client with cid: 1925\n",
            "INFO:flwr:Creating client with cid: 1925\n",
            "INFO flwr 2024-02-20 10:27:04,571 | <ipython-input-30-875a800ac84b>:40 | Getting client with id 2757\n",
            "INFO:flwr:Getting client with id 2757\n",
            "INFO flwr 2024-02-20 10:27:04,584 | client.py:57 | Creating client with cid: 2757\n",
            "INFO:flwr:Creating client with cid: 2757\n",
            "INFO flwr 2024-02-20 10:27:04,593 | client_manager.py:68 | Sampled the following clients: ['1925', '2757']\n",
            "INFO:flwr:Sampled the following clients: ['1925', '2757']\n",
            "DEBUG flwr 2024-02-20 10:27:04,599 | server_returns_parameters.py:173 | evaluate_round 6: strategy sampled 2 clients (out of 3229)\n",
            "DEBUG:flwr:evaluate_round 6: strategy sampled 2 clients (out of 3229)\n",
            "INFO flwr 2024-02-20 10:27:04,610 | <ipython-input-30-875a800ac84b>:40 | Getting client with id 1925\n",
            "INFO:flwr:Getting client with id 1925\n",
            "INFO flwr 2024-02-20 10:27:04,616 | <ipython-input-30-875a800ac84b>:40 | Getting client with id 2757\n",
            "INFO:flwr:Getting client with id 2757\n",
            "INFO flwr 2024-02-20 10:27:04,617 | client.py:57 | Creating client with cid: 1925\n",
            "INFO flwr 2024-02-20 10:27:04,622 | client.py:57 | Creating client with cid: 2757\n",
            "INFO:flwr:Creating client with cid: 1925\n",
            "INFO:flwr:Creating client with cid: 2757\n",
            "DEBUG flwr 2024-02-20 10:27:04,643 | server_returns_parameters.py:187 | evaluate_round 6 received 2 results and 0 failures\n",
            "DEBUG:flwr:evaluate_round 6 received 2 results and 0 failures\n",
            "INFO flwr 2024-02-20 10:27:04,646 | strategy.py:188 | Completion times of clients: [1858.5001397947522, 417.60270017928343]\n",
            "INFO:flwr:Completion times of clients: [1858.5001397947522, 417.60270017928343]\n",
            "INFO flwr 2024-02-20 10:27:04,650 | strategy.py:190 | Maximum completion time of clients: 1858.5001397947522\n",
            "INFO:flwr:Maximum completion time of clients: 1858.5001397947522\n",
            "INFO flwr 2024-02-20 10:27:04,692 | client_manager.py:47 | Sampling using <__main__.ActivityCriterion object at 0x7ec798b4e6b0>\n",
            "INFO:flwr:Sampling using <__main__.ActivityCriterion object at 0x7ec798b4e6b0>\n",
            "INFO flwr 2024-02-20 10:27:04,698 | <ipython-input-30-875a800ac84b>:40 | Getting client with id 2120\n",
            "INFO:flwr:Getting client with id 2120\n",
            "INFO flwr 2024-02-20 10:27:04,701 | client.py:57 | Creating client with cid: 2120\n",
            "INFO:flwr:Creating client with cid: 2120\n",
            "INFO flwr 2024-02-20 10:27:04,704 | <ipython-input-30-875a800ac84b>:40 | Getting client with id 2280\n",
            "INFO:flwr:Getting client with id 2280\n",
            "INFO flwr 2024-02-20 10:27:04,707 | client.py:57 | Creating client with cid: 2280\n",
            "INFO:flwr:Creating client with cid: 2280\n",
            "INFO flwr 2024-02-20 10:27:04,712 | <ipython-input-30-875a800ac84b>:40 | Getting client with id 1286\n",
            "INFO:flwr:Getting client with id 1286\n",
            "INFO flwr 2024-02-20 10:27:04,714 | client.py:57 | Creating client with cid: 1286\n",
            "INFO:flwr:Creating client with cid: 1286\n",
            "INFO flwr 2024-02-20 10:27:04,716 | <ipython-input-30-875a800ac84b>:40 | Getting client with id 2166\n",
            "INFO:flwr:Getting client with id 2166\n",
            "INFO flwr 2024-02-20 10:27:04,718 | client.py:57 | Creating client with cid: 2166\n",
            "INFO:flwr:Creating client with cid: 2166\n",
            "INFO flwr 2024-02-20 10:27:04,725 | <ipython-input-30-875a800ac84b>:40 | Getting client with id 1528\n",
            "INFO:flwr:Getting client with id 1528\n",
            "INFO flwr 2024-02-20 10:27:04,729 | client.py:57 | Creating client with cid: 1528\n",
            "INFO:flwr:Creating client with cid: 1528\n",
            "INFO flwr 2024-02-20 10:27:04,732 | <ipython-input-30-875a800ac84b>:40 | Getting client with id 2585\n",
            "INFO:flwr:Getting client with id 2585\n",
            "INFO flwr 2024-02-20 10:27:04,734 | client.py:57 | Creating client with cid: 2585\n",
            "INFO:flwr:Creating client with cid: 2585\n",
            "INFO flwr 2024-02-20 10:27:04,736 | <ipython-input-30-875a800ac84b>:40 | Getting client with id 1693\n",
            "INFO:flwr:Getting client with id 1693\n",
            "INFO flwr 2024-02-20 10:27:04,739 | client.py:57 | Creating client with cid: 1693\n",
            "INFO:flwr:Creating client with cid: 1693\n",
            "INFO flwr 2024-02-20 10:27:04,741 | <ipython-input-30-875a800ac84b>:40 | Getting client with id 1188\n",
            "INFO:flwr:Getting client with id 1188\n",
            "INFO flwr 2024-02-20 10:27:04,743 | client.py:57 | Creating client with cid: 1188\n",
            "INFO:flwr:Creating client with cid: 1188\n",
            "INFO flwr 2024-02-20 10:27:04,745 | <ipython-input-30-875a800ac84b>:40 | Getting client with id 2599\n",
            "INFO:flwr:Getting client with id 2599\n",
            "INFO flwr 2024-02-20 10:27:04,747 | client.py:57 | Creating client with cid: 2599\n",
            "INFO:flwr:Creating client with cid: 2599\n",
            "INFO flwr 2024-02-20 10:27:04,749 | <ipython-input-30-875a800ac84b>:40 | Getting client with id 948\n",
            "INFO:flwr:Getting client with id 948\n",
            "INFO flwr 2024-02-20 10:27:04,752 | client.py:57 | Creating client with cid: 948\n",
            "INFO:flwr:Creating client with cid: 948\n",
            "INFO flwr 2024-02-20 10:27:04,754 | <ipython-input-30-875a800ac84b>:40 | Getting client with id 1479\n",
            "INFO:flwr:Getting client with id 1479\n",
            "INFO flwr 2024-02-20 10:27:04,756 | client.py:57 | Creating client with cid: 1479\n",
            "INFO:flwr:Creating client with cid: 1479\n",
            "INFO flwr 2024-02-20 10:27:04,759 | <ipython-input-30-875a800ac84b>:40 | Getting client with id 3130\n",
            "INFO:flwr:Getting client with id 3130\n",
            "INFO flwr 2024-02-20 10:27:04,762 | client.py:57 | Creating client with cid: 3130\n",
            "INFO:flwr:Creating client with cid: 3130\n",
            "INFO flwr 2024-02-20 10:27:04,764 | <ipython-input-30-875a800ac84b>:40 | Getting client with id 1287\n",
            "INFO:flwr:Getting client with id 1287\n",
            "INFO flwr 2024-02-20 10:27:04,767 | client.py:57 | Creating client with cid: 1287\n",
            "INFO:flwr:Creating client with cid: 1287\n",
            "INFO flwr 2024-02-20 10:27:04,769 | <ipython-input-30-875a800ac84b>:40 | Getting client with id 1277\n",
            "INFO:flwr:Getting client with id 1277\n",
            "INFO flwr 2024-02-20 10:27:04,771 | client.py:57 | Creating client with cid: 1277\n",
            "INFO:flwr:Creating client with cid: 1277\n",
            "INFO flwr 2024-02-20 10:27:04,774 | client_manager.py:68 | Sampled the following clients: ['1286', '1479', '1277']\n",
            "INFO:flwr:Sampled the following clients: ['1286', '1479', '1277']\n",
            "DEBUG flwr 2024-02-20 10:27:04,777 | server_returns_parameters.py:223 | fit_round 7: strategy sampled 3 clients (out of 3229)\n",
            "DEBUG:flwr:fit_round 7: strategy sampled 3 clients (out of 3229)\n",
            "INFO flwr 2024-02-20 10:27:04,779 | <ipython-input-30-875a800ac84b>:40 | Getting client with id 1286\n",
            "INFO:flwr:Getting client with id 1286\n",
            "INFO flwr 2024-02-20 10:27:04,785 | client.py:57 | Creating client with cid: 1286\n",
            "INFO:flwr:Creating client with cid: 1286\n",
            "INFO flwr 2024-02-20 10:27:04,786 | <ipython-input-30-875a800ac84b>:40 | Getting client with id 1479\n",
            "INFO:flwr:Getting client with id 1479\n",
            "INFO flwr 2024-02-20 10:27:04,793 | <ipython-input-30-875a800ac84b>:40 | Getting client with id 1277\n",
            "INFO flwr 2024-02-20 10:27:04,803 | client.py:57 | Creating client with cid: 1479\n",
            "INFO:flwr:Getting client with id 1277\n",
            "INFO:flwr:Creating client with cid: 1479\n",
            "INFO flwr 2024-02-20 10:27:04,805 | client.py:57 | Creating client with cid: 1277\n",
            "INFO:flwr:Creating client with cid: 1277\n",
            "DEBUG flwr 2024-02-20 10:27:04,901 | server_returns_parameters.py:237 | fit_round 7 received 3 results and 0 failures\n",
            "DEBUG:flwr:fit_round 7 received 3 results and 0 failures\n",
            "INFO flwr 2024-02-20 10:27:04,904 | strategy.py:188 | Completion times of clients: [488.21023467750604, 366.0081576570953, 1259.7466655662938]\n",
            "INFO:flwr:Completion times of clients: [488.21023467750604, 366.0081576570953, 1259.7466655662938]\n",
            "INFO flwr 2024-02-20 10:27:04,908 | strategy.py:190 | Maximum completion time of clients: 1259.7466655662938\n",
            "INFO:flwr:Maximum completion time of clients: 1259.7466655662938\n",
            "INFO flwr 2024-02-20 10:27:04,970 | client_manager.py:47 | Sampling using <__main__.ActivityCriterion object at 0x7ec798b4e6b0>\n",
            "INFO:flwr:Sampling using <__main__.ActivityCriterion object at 0x7ec798b4e6b0>\n",
            "INFO flwr 2024-02-20 10:27:04,976 | <ipython-input-30-875a800ac84b>:40 | Getting client with id 2120\n",
            "INFO:flwr:Getting client with id 2120\n",
            "INFO flwr 2024-02-20 10:27:04,981 | client.py:57 | Creating client with cid: 2120\n",
            "INFO:flwr:Creating client with cid: 2120\n",
            "INFO flwr 2024-02-20 10:27:04,984 | <ipython-input-30-875a800ac84b>:40 | Getting client with id 2280\n",
            "INFO:flwr:Getting client with id 2280\n",
            "INFO flwr 2024-02-20 10:27:04,988 | client.py:57 | Creating client with cid: 2280\n",
            "INFO:flwr:Creating client with cid: 2280\n",
            "INFO flwr 2024-02-20 10:27:04,992 | <ipython-input-30-875a800ac84b>:40 | Getting client with id 1286\n",
            "INFO:flwr:Getting client with id 1286\n",
            "INFO flwr 2024-02-20 10:27:04,995 | client.py:57 | Creating client with cid: 1286\n",
            "INFO:flwr:Creating client with cid: 1286\n",
            "INFO flwr 2024-02-20 10:27:04,999 | <ipython-input-30-875a800ac84b>:40 | Getting client with id 2166\n",
            "INFO:flwr:Getting client with id 2166\n",
            "INFO flwr 2024-02-20 10:27:05,003 | client.py:57 | Creating client with cid: 2166\n",
            "INFO:flwr:Creating client with cid: 2166\n",
            "INFO flwr 2024-02-20 10:27:05,007 | <ipython-input-30-875a800ac84b>:40 | Getting client with id 1528\n",
            "INFO:flwr:Getting client with id 1528\n",
            "INFO flwr 2024-02-20 10:27:05,010 | client.py:57 | Creating client with cid: 1528\n",
            "INFO:flwr:Creating client with cid: 1528\n",
            "INFO flwr 2024-02-20 10:27:05,038 | <ipython-input-30-875a800ac84b>:40 | Getting client with id 2585\n",
            "INFO:flwr:Getting client with id 2585\n",
            "INFO flwr 2024-02-20 10:27:05,043 | client.py:57 | Creating client with cid: 2585\n",
            "INFO:flwr:Creating client with cid: 2585\n",
            "INFO flwr 2024-02-20 10:27:05,049 | <ipython-input-30-875a800ac84b>:40 | Getting client with id 1693\n",
            "INFO:flwr:Getting client with id 1693\n",
            "INFO flwr 2024-02-20 10:27:05,052 | client.py:57 | Creating client with cid: 1693\n",
            "INFO:flwr:Creating client with cid: 1693\n",
            "INFO flwr 2024-02-20 10:27:05,057 | <ipython-input-30-875a800ac84b>:40 | Getting client with id 1188\n",
            "INFO:flwr:Getting client with id 1188\n",
            "INFO flwr 2024-02-20 10:27:05,059 | client.py:57 | Creating client with cid: 1188\n",
            "INFO:flwr:Creating client with cid: 1188\n",
            "INFO flwr 2024-02-20 10:27:05,071 | <ipython-input-30-875a800ac84b>:40 | Getting client with id 2599\n",
            "INFO:flwr:Getting client with id 2599\n",
            "INFO flwr 2024-02-20 10:27:05,075 | client.py:57 | Creating client with cid: 2599\n",
            "INFO:flwr:Creating client with cid: 2599\n",
            "INFO flwr 2024-02-20 10:27:05,078 | <ipython-input-30-875a800ac84b>:40 | Getting client with id 948\n",
            "INFO:flwr:Getting client with id 948\n",
            "INFO flwr 2024-02-20 10:27:05,081 | client.py:57 | Creating client with cid: 948\n",
            "INFO:flwr:Creating client with cid: 948\n",
            "INFO flwr 2024-02-20 10:27:05,084 | <ipython-input-30-875a800ac84b>:40 | Getting client with id 1479\n",
            "INFO:flwr:Getting client with id 1479\n",
            "INFO flwr 2024-02-20 10:27:05,088 | client.py:57 | Creating client with cid: 1479\n",
            "INFO:flwr:Creating client with cid: 1479\n",
            "INFO flwr 2024-02-20 10:27:05,091 | client_manager.py:68 | Sampled the following clients: ['1286', '1479']\n",
            "INFO:flwr:Sampled the following clients: ['1286', '1479']\n",
            "DEBUG flwr 2024-02-20 10:27:05,095 | server_returns_parameters.py:173 | evaluate_round 7: strategy sampled 2 clients (out of 3229)\n",
            "DEBUG:flwr:evaluate_round 7: strategy sampled 2 clients (out of 3229)\n",
            "INFO flwr 2024-02-20 10:27:05,099 | <ipython-input-30-875a800ac84b>:40 | Getting client with id 1286\n",
            "INFO:flwr:Getting client with id 1286\n",
            "INFO flwr 2024-02-20 10:27:05,109 | <ipython-input-30-875a800ac84b>:40 | Getting client with id 1479\n",
            "INFO flwr 2024-02-20 10:27:05,112 | client.py:57 | Creating client with cid: 1286\n",
            "INFO:flwr:Getting client with id 1479\n",
            "INFO:flwr:Creating client with cid: 1286\n",
            "INFO flwr 2024-02-20 10:27:05,115 | client.py:57 | Creating client with cid: 1479\n",
            "INFO:flwr:Creating client with cid: 1479\n",
            "DEBUG flwr 2024-02-20 10:27:05,139 | server_returns_parameters.py:187 | evaluate_round 7 received 2 results and 0 failures\n",
            "DEBUG:flwr:evaluate_round 7 received 2 results and 0 failures\n",
            "INFO flwr 2024-02-20 10:27:05,146 | strategy.py:188 | Completion times of clients: [300.3441576570953, 331.44223467750606]\n",
            "INFO:flwr:Completion times of clients: [300.3441576570953, 331.44223467750606]\n",
            "INFO flwr 2024-02-20 10:27:05,149 | strategy.py:190 | Maximum completion time of clients: 331.44223467750606\n",
            "INFO:flwr:Maximum completion time of clients: 331.44223467750606\n",
            "INFO flwr 2024-02-20 10:27:05,199 | client_manager.py:47 | Sampling using <__main__.ActivityCriterion object at 0x7ec798b4e6b0>\n",
            "INFO:flwr:Sampling using <__main__.ActivityCriterion object at 0x7ec798b4e6b0>\n",
            "INFO flwr 2024-02-20 10:27:05,203 | <ipython-input-30-875a800ac84b>:40 | Getting client with id 58\n",
            "INFO:flwr:Getting client with id 58\n",
            "INFO flwr 2024-02-20 10:27:05,205 | client.py:57 | Creating client with cid: 58\n",
            "INFO:flwr:Creating client with cid: 58\n",
            "INFO flwr 2024-02-20 10:27:05,207 | <ipython-input-30-875a800ac84b>:40 | Getting client with id 2962\n",
            "INFO:flwr:Getting client with id 2962\n",
            "INFO flwr 2024-02-20 10:27:05,211 | client.py:57 | Creating client with cid: 2962\n",
            "INFO:flwr:Creating client with cid: 2962\n",
            "INFO flwr 2024-02-20 10:27:05,214 | <ipython-input-30-875a800ac84b>:40 | Getting client with id 2266\n",
            "INFO:flwr:Getting client with id 2266\n",
            "INFO flwr 2024-02-20 10:27:05,216 | client.py:57 | Creating client with cid: 2266\n",
            "INFO:flwr:Creating client with cid: 2266\n",
            "INFO flwr 2024-02-20 10:27:05,218 | <ipython-input-30-875a800ac84b>:40 | Getting client with id 2928\n",
            "INFO:flwr:Getting client with id 2928\n",
            "INFO flwr 2024-02-20 10:27:05,222 | client.py:57 | Creating client with cid: 2928\n",
            "INFO:flwr:Creating client with cid: 2928\n",
            "INFO flwr 2024-02-20 10:27:05,225 | <ipython-input-30-875a800ac84b>:40 | Getting client with id 260\n",
            "INFO:flwr:Getting client with id 260\n",
            "INFO flwr 2024-02-20 10:27:05,229 | client.py:57 | Creating client with cid: 260\n",
            "INFO:flwr:Creating client with cid: 260\n",
            "INFO flwr 2024-02-20 10:27:05,232 | <ipython-input-30-875a800ac84b>:40 | Getting client with id 911\n",
            "INFO:flwr:Getting client with id 911\n",
            "INFO flwr 2024-02-20 10:27:05,234 | client.py:57 | Creating client with cid: 911\n",
            "INFO:flwr:Creating client with cid: 911\n",
            "INFO flwr 2024-02-20 10:27:05,236 | <ipython-input-30-875a800ac84b>:40 | Getting client with id 3016\n",
            "INFO:flwr:Getting client with id 3016\n",
            "INFO flwr 2024-02-20 10:27:05,238 | client.py:57 | Creating client with cid: 3016\n",
            "INFO:flwr:Creating client with cid: 3016\n",
            "INFO flwr 2024-02-20 10:27:05,243 | <ipython-input-30-875a800ac84b>:40 | Getting client with id 1525\n",
            "INFO:flwr:Getting client with id 1525\n",
            "INFO flwr 2024-02-20 10:27:05,246 | client.py:57 | Creating client with cid: 1525\n",
            "INFO:flwr:Creating client with cid: 1525\n",
            "INFO flwr 2024-02-20 10:27:05,248 | client_manager.py:68 | Sampled the following clients: ['260', '3016', '1525']\n",
            "INFO:flwr:Sampled the following clients: ['260', '3016', '1525']\n",
            "DEBUG flwr 2024-02-20 10:27:05,250 | server_returns_parameters.py:223 | fit_round 8: strategy sampled 3 clients (out of 3229)\n",
            "DEBUG:flwr:fit_round 8: strategy sampled 3 clients (out of 3229)\n",
            "INFO flwr 2024-02-20 10:27:05,264 | <ipython-input-30-875a800ac84b>:40 | Getting client with id 260\n",
            "INFO:flwr:Getting client with id 260\n",
            "INFO flwr 2024-02-20 10:27:05,269 | <ipython-input-30-875a800ac84b>:40 | Getting client with id 3016\n",
            "INFO:flwr:Getting client with id 3016\n",
            "INFO flwr 2024-02-20 10:27:05,277 | client.py:57 | Creating client with cid: 260\n",
            "INFO flwr 2024-02-20 10:27:05,277 | <ipython-input-30-875a800ac84b>:40 | Getting client with id 1525\n",
            "INFO:flwr:Creating client with cid: 260\n",
            "INFO flwr 2024-02-20 10:27:05,318 | client.py:57 | Creating client with cid: 3016\n",
            "INFO:flwr:Getting client with id 1525\n",
            "INFO flwr 2024-02-20 10:27:05,330 | client.py:57 | Creating client with cid: 1525\n",
            "INFO:flwr:Creating client with cid: 3016\n",
            "INFO:flwr:Creating client with cid: 1525\n",
            "DEBUG flwr 2024-02-20 10:27:05,355 | server_returns_parameters.py:237 | fit_round 8 received 3 results and 0 failures\n",
            "DEBUG:flwr:fit_round 8 received 3 results and 0 failures\n",
            "INFO flwr 2024-02-20 10:27:05,357 | strategy.py:188 | Completion times of clients: [1402.9223304679922, 753.0051356540575, 546.1256719152932]\n",
            "INFO:flwr:Completion times of clients: [1402.9223304679922, 753.0051356540575, 546.1256719152932]\n",
            "INFO flwr 2024-02-20 10:27:05,359 | strategy.py:190 | Maximum completion time of clients: 1402.9223304679922\n",
            "INFO:flwr:Maximum completion time of clients: 1402.9223304679922\n",
            "INFO flwr 2024-02-20 10:27:05,396 | client_manager.py:47 | Sampling using <__main__.ActivityCriterion object at 0x7ec798b4e6b0>\n",
            "INFO:flwr:Sampling using <__main__.ActivityCriterion object at 0x7ec798b4e6b0>\n",
            "INFO flwr 2024-02-20 10:27:05,402 | <ipython-input-30-875a800ac84b>:40 | Getting client with id 58\n",
            "INFO:flwr:Getting client with id 58\n",
            "INFO flwr 2024-02-20 10:27:05,406 | client.py:57 | Creating client with cid: 58\n",
            "INFO:flwr:Creating client with cid: 58\n",
            "INFO flwr 2024-02-20 10:27:05,409 | <ipython-input-30-875a800ac84b>:40 | Getting client with id 2962\n",
            "INFO:flwr:Getting client with id 2962\n",
            "INFO flwr 2024-02-20 10:27:05,411 | client.py:57 | Creating client with cid: 2962\n",
            "INFO:flwr:Creating client with cid: 2962\n",
            "INFO flwr 2024-02-20 10:27:05,413 | <ipython-input-30-875a800ac84b>:40 | Getting client with id 2266\n",
            "INFO:flwr:Getting client with id 2266\n",
            "INFO flwr 2024-02-20 10:27:05,415 | client.py:57 | Creating client with cid: 2266\n",
            "INFO:flwr:Creating client with cid: 2266\n",
            "INFO flwr 2024-02-20 10:27:05,417 | <ipython-input-30-875a800ac84b>:40 | Getting client with id 2928\n",
            "INFO:flwr:Getting client with id 2928\n",
            "INFO flwr 2024-02-20 10:27:05,419 | client.py:57 | Creating client with cid: 2928\n",
            "INFO:flwr:Creating client with cid: 2928\n",
            "INFO flwr 2024-02-20 10:27:05,422 | <ipython-input-30-875a800ac84b>:40 | Getting client with id 260\n",
            "INFO:flwr:Getting client with id 260\n",
            "INFO flwr 2024-02-20 10:27:05,424 | client.py:57 | Creating client with cid: 260\n",
            "INFO:flwr:Creating client with cid: 260\n",
            "INFO flwr 2024-02-20 10:27:05,426 | client_manager.py:68 | Sampled the following clients: ['58', '260']\n",
            "INFO:flwr:Sampled the following clients: ['58', '260']\n",
            "DEBUG flwr 2024-02-20 10:27:05,428 | server_returns_parameters.py:173 | evaluate_round 8: strategy sampled 2 clients (out of 3229)\n",
            "DEBUG:flwr:evaluate_round 8: strategy sampled 2 clients (out of 3229)\n",
            "INFO flwr 2024-02-20 10:27:05,430 | <ipython-input-30-875a800ac84b>:40 | Getting client with id 58\n",
            "INFO:flwr:Getting client with id 58\n",
            "INFO flwr 2024-02-20 10:27:05,444 | <ipython-input-30-875a800ac84b>:40 | Getting client with id 260\n",
            "INFO:flwr:Getting client with id 260\n",
            "INFO flwr 2024-02-20 10:27:05,444 | client.py:57 | Creating client with cid: 58\n",
            "INFO:flwr:Creating client with cid: 58\n",
            "INFO flwr 2024-02-20 10:27:05,449 | client.py:57 | Creating client with cid: 260\n",
            "INFO:flwr:Creating client with cid: 260\n",
            "DEBUG flwr 2024-02-20 10:27:05,487 | server_returns_parameters.py:187 | evaluate_round 8 received 1 results and 1 failures\n",
            "DEBUG:flwr:evaluate_round 8 received 1 results and 1 failures\n",
            "INFO flwr 2024-02-20 10:27:05,490 | strategy.py:188 | Completion times of clients: [611.8851356540575]\n",
            "INFO:flwr:Completion times of clients: [611.8851356540575]\n",
            "INFO flwr 2024-02-20 10:27:05,493 | strategy.py:190 | Maximum completion time of clients: 611.8851356540575\n",
            "INFO:flwr:Maximum completion time of clients: 611.8851356540575\n",
            "INFO flwr 2024-02-20 10:27:05,546 | client_manager.py:47 | Sampling using <__main__.ActivityCriterion object at 0x7ec798b4e6b0>\n",
            "INFO:flwr:Sampling using <__main__.ActivityCriterion object at 0x7ec798b4e6b0>\n",
            "INFO flwr 2024-02-20 10:27:05,549 | <ipython-input-30-875a800ac84b>:40 | Getting client with id 1941\n",
            "INFO:flwr:Getting client with id 1941\n",
            "INFO flwr 2024-02-20 10:27:05,551 | client.py:57 | Creating client with cid: 1941\n",
            "INFO:flwr:Creating client with cid: 1941\n",
            "INFO flwr 2024-02-20 10:27:05,555 | <ipython-input-30-875a800ac84b>:40 | Getting client with id 1816\n",
            "INFO:flwr:Getting client with id 1816\n",
            "INFO flwr 2024-02-20 10:27:05,562 | client.py:57 | Creating client with cid: 1816\n",
            "INFO:flwr:Creating client with cid: 1816\n",
            "INFO flwr 2024-02-20 10:27:05,565 | <ipython-input-30-875a800ac84b>:40 | Getting client with id 1926\n",
            "INFO:flwr:Getting client with id 1926\n",
            "INFO flwr 2024-02-20 10:27:05,568 | client.py:57 | Creating client with cid: 1926\n",
            "INFO:flwr:Creating client with cid: 1926\n",
            "INFO flwr 2024-02-20 10:27:05,573 | <ipython-input-30-875a800ac84b>:40 | Getting client with id 2478\n",
            "INFO:flwr:Getting client with id 2478\n",
            "INFO flwr 2024-02-20 10:27:05,576 | client.py:57 | Creating client with cid: 2478\n",
            "INFO:flwr:Creating client with cid: 2478\n",
            "INFO flwr 2024-02-20 10:27:05,579 | <ipython-input-30-875a800ac84b>:40 | Getting client with id 1217\n",
            "INFO:flwr:Getting client with id 1217\n",
            "INFO flwr 2024-02-20 10:27:05,583 | client.py:57 | Creating client with cid: 1217\n",
            "INFO:flwr:Creating client with cid: 1217\n",
            "INFO flwr 2024-02-20 10:27:05,587 | <ipython-input-30-875a800ac84b>:40 | Getting client with id 584\n",
            "INFO:flwr:Getting client with id 584\n",
            "INFO flwr 2024-02-20 10:27:05,593 | client.py:57 | Creating client with cid: 584\n",
            "INFO:flwr:Creating client with cid: 584\n",
            "INFO flwr 2024-02-20 10:27:05,597 | <ipython-input-30-875a800ac84b>:40 | Getting client with id 155\n",
            "INFO:flwr:Getting client with id 155\n",
            "INFO flwr 2024-02-20 10:27:05,600 | client.py:57 | Creating client with cid: 155\n",
            "INFO:flwr:Creating client with cid: 155\n",
            "INFO flwr 2024-02-20 10:27:05,605 | client_manager.py:68 | Sampled the following clients: ['1926', '584', '155']\n",
            "INFO:flwr:Sampled the following clients: ['1926', '584', '155']\n",
            "DEBUG flwr 2024-02-20 10:27:05,610 | server_returns_parameters.py:223 | fit_round 9: strategy sampled 3 clients (out of 3229)\n",
            "DEBUG:flwr:fit_round 9: strategy sampled 3 clients (out of 3229)\n",
            "INFO flwr 2024-02-20 10:27:05,613 | <ipython-input-30-875a800ac84b>:40 | Getting client with id 1926\n",
            "INFO:flwr:Getting client with id 1926\n",
            "INFO flwr 2024-02-20 10:27:05,615 | <ipython-input-30-875a800ac84b>:40 | Getting client with id 584\n",
            "INFO flwr 2024-02-20 10:27:05,616 | <ipython-input-30-875a800ac84b>:40 | Getting client with id 155\n",
            "INFO:flwr:Getting client with id 584\n",
            "INFO:flwr:Getting client with id 155\n",
            "INFO flwr 2024-02-20 10:27:05,620 | client.py:57 | Creating client with cid: 1926\n",
            "INFO flwr 2024-02-20 10:27:05,623 | client.py:57 | Creating client with cid: 584\n",
            "INFO:flwr:Creating client with cid: 1926\n",
            "INFO:flwr:Creating client with cid: 584\n",
            "INFO flwr 2024-02-20 10:27:05,628 | client.py:57 | Creating client with cid: 155\n",
            "INFO:flwr:Creating client with cid: 155\n",
            "DEBUG flwr 2024-02-20 10:27:05,709 | server_returns_parameters.py:237 | fit_round 9 received 3 results and 0 failures\n",
            "DEBUG:flwr:fit_round 9 received 3 results and 0 failures\n",
            "INFO flwr 2024-02-20 10:27:05,714 | strategy.py:188 | Completion times of clients: [1570.0599198886118, 361.9187129121866, 1070.472050641516]\n",
            "INFO:flwr:Completion times of clients: [1570.0599198886118, 361.9187129121866, 1070.472050641516]\n",
            "INFO flwr 2024-02-20 10:27:05,718 | strategy.py:190 | Maximum completion time of clients: 1570.0599198886118\n",
            "INFO:flwr:Maximum completion time of clients: 1570.0599198886118\n",
            "INFO flwr 2024-02-20 10:27:05,763 | client_manager.py:47 | Sampling using <__main__.ActivityCriterion object at 0x7ec798b4e6b0>\n",
            "INFO:flwr:Sampling using <__main__.ActivityCriterion object at 0x7ec798b4e6b0>\n",
            "INFO flwr 2024-02-20 10:27:05,767 | <ipython-input-30-875a800ac84b>:40 | Getting client with id 1941\n",
            "INFO:flwr:Getting client with id 1941\n",
            "INFO flwr 2024-02-20 10:27:05,771 | client.py:57 | Creating client with cid: 1941\n",
            "INFO:flwr:Creating client with cid: 1941\n",
            "INFO flwr 2024-02-20 10:27:05,774 | <ipython-input-30-875a800ac84b>:40 | Getting client with id 1816\n",
            "INFO:flwr:Getting client with id 1816\n",
            "INFO flwr 2024-02-20 10:27:05,779 | client.py:57 | Creating client with cid: 1816\n",
            "INFO:flwr:Creating client with cid: 1816\n",
            "INFO flwr 2024-02-20 10:27:05,784 | <ipython-input-30-875a800ac84b>:40 | Getting client with id 1926\n",
            "INFO:flwr:Getting client with id 1926\n",
            "INFO flwr 2024-02-20 10:27:05,786 | client.py:57 | Creating client with cid: 1926\n",
            "INFO:flwr:Creating client with cid: 1926\n",
            "INFO flwr 2024-02-20 10:27:05,788 | <ipython-input-30-875a800ac84b>:40 | Getting client with id 2478\n",
            "INFO:flwr:Getting client with id 2478\n",
            "INFO flwr 2024-02-20 10:27:05,791 | client.py:57 | Creating client with cid: 2478\n",
            "INFO:flwr:Creating client with cid: 2478\n",
            "INFO flwr 2024-02-20 10:27:05,793 | <ipython-input-30-875a800ac84b>:40 | Getting client with id 1217\n",
            "INFO:flwr:Getting client with id 1217\n",
            "INFO flwr 2024-02-20 10:27:05,795 | client.py:57 | Creating client with cid: 1217\n",
            "INFO:flwr:Creating client with cid: 1217\n",
            "INFO flwr 2024-02-20 10:27:05,798 | <ipython-input-30-875a800ac84b>:40 | Getting client with id 584\n",
            "INFO:flwr:Getting client with id 584\n",
            "INFO flwr 2024-02-20 10:27:05,800 | client.py:57 | Creating client with cid: 584\n",
            "INFO:flwr:Creating client with cid: 584\n",
            "INFO flwr 2024-02-20 10:27:05,802 | client_manager.py:68 | Sampled the following clients: ['1926', '584']\n",
            "INFO:flwr:Sampled the following clients: ['1926', '584']\n",
            "DEBUG flwr 2024-02-20 10:27:05,804 | server_returns_parameters.py:173 | evaluate_round 9: strategy sampled 2 clients (out of 3229)\n",
            "DEBUG:flwr:evaluate_round 9: strategy sampled 2 clients (out of 3229)\n",
            "INFO flwr 2024-02-20 10:27:05,806 | <ipython-input-30-875a800ac84b>:40 | Getting client with id 1926\n",
            "INFO:flwr:Getting client with id 1926\n",
            "INFO flwr 2024-02-20 10:27:05,824 | <ipython-input-30-875a800ac84b>:40 | Getting client with id 584\n",
            "INFO:flwr:Getting client with id 584\n",
            "INFO flwr 2024-02-20 10:27:05,825 | client.py:57 | Creating client with cid: 1926\n",
            "INFO:flwr:Creating client with cid: 1926\n",
            "INFO flwr 2024-02-20 10:27:05,838 | client.py:57 | Creating client with cid: 584\n",
            "INFO:flwr:Creating client with cid: 584\n",
            "DEBUG flwr 2024-02-20 10:27:05,874 | server_returns_parameters.py:187 | evaluate_round 9 received 2 results and 0 failures\n",
            "DEBUG:flwr:evaluate_round 9 received 2 results and 0 failures\n",
            "INFO flwr 2024-02-20 10:27:05,879 | strategy.py:188 | Completion times of clients: [168.95871291218663, 422.76005064151593]\n",
            "INFO:flwr:Completion times of clients: [168.95871291218663, 422.76005064151593]\n",
            "INFO flwr 2024-02-20 10:27:05,883 | strategy.py:190 | Maximum completion time of clients: 422.76005064151593\n",
            "INFO:flwr:Maximum completion time of clients: 422.76005064151593\n",
            "INFO flwr 2024-02-20 10:27:05,951 | client_manager.py:47 | Sampling using <__main__.ActivityCriterion object at 0x7ec798b4e6b0>\n",
            "INFO:flwr:Sampling using <__main__.ActivityCriterion object at 0x7ec798b4e6b0>\n",
            "INFO flwr 2024-02-20 10:27:05,955 | <ipython-input-30-875a800ac84b>:40 | Getting client with id 305\n",
            "INFO:flwr:Getting client with id 305\n",
            "INFO flwr 2024-02-20 10:27:05,960 | client.py:57 | Creating client with cid: 305\n",
            "INFO:flwr:Creating client with cid: 305\n",
            "INFO flwr 2024-02-20 10:27:05,965 | <ipython-input-30-875a800ac84b>:40 | Getting client with id 2989\n",
            "INFO:flwr:Getting client with id 2989\n",
            "INFO flwr 2024-02-20 10:27:05,973 | client.py:57 | Creating client with cid: 2989\n",
            "INFO:flwr:Creating client with cid: 2989\n",
            "INFO flwr 2024-02-20 10:27:05,978 | <ipython-input-30-875a800ac84b>:40 | Getting client with id 1023\n",
            "INFO:flwr:Getting client with id 1023\n",
            "INFO flwr 2024-02-20 10:27:05,983 | client.py:57 | Creating client with cid: 1023\n",
            "INFO:flwr:Creating client with cid: 1023\n",
            "INFO flwr 2024-02-20 10:27:05,987 | <ipython-input-30-875a800ac84b>:40 | Getting client with id 2246\n",
            "INFO:flwr:Getting client with id 2246\n",
            "INFO flwr 2024-02-20 10:27:05,992 | client.py:57 | Creating client with cid: 2246\n",
            "INFO:flwr:Creating client with cid: 2246\n",
            "INFO flwr 2024-02-20 10:27:05,995 | <ipython-input-30-875a800ac84b>:40 | Getting client with id 524\n",
            "INFO:flwr:Getting client with id 524\n",
            "INFO flwr 2024-02-20 10:27:05,999 | client.py:57 | Creating client with cid: 524\n",
            "INFO:flwr:Creating client with cid: 524\n",
            "INFO flwr 2024-02-20 10:27:06,003 | client_manager.py:68 | Sampled the following clients: ['2989', '1023', '524']\n",
            "INFO:flwr:Sampled the following clients: ['2989', '1023', '524']\n",
            "DEBUG flwr 2024-02-20 10:27:06,007 | server_returns_parameters.py:223 | fit_round 10: strategy sampled 3 clients (out of 3229)\n",
            "DEBUG:flwr:fit_round 10: strategy sampled 3 clients (out of 3229)\n",
            "INFO flwr 2024-02-20 10:27:06,011 | <ipython-input-30-875a800ac84b>:40 | Getting client with id 2989\n",
            "INFO:flwr:Getting client with id 2989\n",
            "INFO flwr 2024-02-20 10:27:06,015 | client.py:57 | Creating client with cid: 2989\n",
            "INFO:flwr:Creating client with cid: 2989\n",
            "INFO flwr 2024-02-20 10:27:06,017 | <ipython-input-30-875a800ac84b>:40 | Getting client with id 1023\n",
            "INFO flwr 2024-02-20 10:27:06,026 | <ipython-input-30-875a800ac84b>:40 | Getting client with id 524\n",
            "INFO:flwr:Getting client with id 1023\n",
            "INFO flwr 2024-02-20 10:27:06,048 | client.py:57 | Creating client with cid: 1023\n",
            "INFO:flwr:Getting client with id 524\n",
            "INFO flwr 2024-02-20 10:27:06,050 | client.py:57 | Creating client with cid: 524\n",
            "INFO:flwr:Creating client with cid: 1023\n",
            "INFO:flwr:Creating client with cid: 524\n",
            "DEBUG flwr 2024-02-20 10:27:06,068 | server_returns_parameters.py:237 | fit_round 10 received 3 results and 0 failures\n",
            "DEBUG:flwr:fit_round 10 received 3 results and 0 failures\n",
            "INFO flwr 2024-02-20 10:27:06,070 | strategy.py:188 | Completion times of clients: [1437.5772466031758, 422.88326501655195, 458.0069138035991]\n",
            "INFO:flwr:Completion times of clients: [1437.5772466031758, 422.88326501655195, 458.0069138035991]\n",
            "INFO flwr 2024-02-20 10:27:06,073 | strategy.py:190 | Maximum completion time of clients: 1437.5772466031758\n",
            "INFO:flwr:Maximum completion time of clients: 1437.5772466031758\n",
            "INFO flwr 2024-02-20 10:27:06,118 | client_manager.py:47 | Sampling using <__main__.ActivityCriterion object at 0x7ec798b4e6b0>\n",
            "INFO:flwr:Sampling using <__main__.ActivityCriterion object at 0x7ec798b4e6b0>\n",
            "INFO flwr 2024-02-20 10:27:06,122 | <ipython-input-30-875a800ac84b>:40 | Getting client with id 305\n",
            "INFO:flwr:Getting client with id 305\n",
            "INFO flwr 2024-02-20 10:27:06,126 | client.py:57 | Creating client with cid: 305\n",
            "INFO:flwr:Creating client with cid: 305\n",
            "INFO flwr 2024-02-20 10:27:06,130 | <ipython-input-30-875a800ac84b>:40 | Getting client with id 2989\n",
            "INFO:flwr:Getting client with id 2989\n",
            "INFO flwr 2024-02-20 10:27:06,132 | client.py:57 | Creating client with cid: 2989\n",
            "INFO:flwr:Creating client with cid: 2989\n",
            "INFO flwr 2024-02-20 10:27:06,134 | <ipython-input-30-875a800ac84b>:40 | Getting client with id 1023\n",
            "INFO:flwr:Getting client with id 1023\n",
            "INFO flwr 2024-02-20 10:27:06,136 | client.py:57 | Creating client with cid: 1023\n",
            "INFO:flwr:Creating client with cid: 1023\n",
            "INFO flwr 2024-02-20 10:27:06,139 | client_manager.py:68 | Sampled the following clients: ['2989', '1023']\n",
            "INFO:flwr:Sampled the following clients: ['2989', '1023']\n",
            "DEBUG flwr 2024-02-20 10:27:06,141 | server_returns_parameters.py:173 | evaluate_round 10: strategy sampled 2 clients (out of 3229)\n",
            "DEBUG:flwr:evaluate_round 10: strategy sampled 2 clients (out of 3229)\n",
            "INFO flwr 2024-02-20 10:27:06,150 | <ipython-input-30-875a800ac84b>:40 | Getting client with id 2989\n",
            "INFO:flwr:Getting client with id 2989\n",
            "INFO flwr 2024-02-20 10:27:06,153 | client.py:57 | Creating client with cid: 2989\n",
            "INFO:flwr:Creating client with cid: 2989\n",
            "INFO flwr 2024-02-20 10:27:06,158 | <ipython-input-30-875a800ac84b>:40 | Getting client with id 1023\n",
            "INFO:flwr:Getting client with id 1023\n",
            "INFO flwr 2024-02-20 10:27:06,160 | client.py:57 | Creating client with cid: 1023\n",
            "INFO:flwr:Creating client with cid: 1023\n",
            "DEBUG flwr 2024-02-20 10:27:06,166 | server_returns_parameters.py:187 | evaluate_round 10 received 2 results and 0 failures\n",
            "DEBUG:flwr:evaluate_round 10 received 2 results and 0 failures\n",
            "INFO flwr 2024-02-20 10:27:06,169 | strategy.py:188 | Completion times of clients: [135.44691380359913, 941.4492466031759]\n",
            "INFO:flwr:Completion times of clients: [135.44691380359913, 941.4492466031759]\n",
            "INFO flwr 2024-02-20 10:27:06,171 | strategy.py:190 | Maximum completion time of clients: 941.4492466031759\n",
            "INFO:flwr:Maximum completion time of clients: 941.4492466031759\n",
            "INFO flwr 2024-02-20 10:27:06,173 | server_returns_parameters.py:150 | FL finished in 3.5883836760001486\n",
            "INFO:flwr:FL finished in 3.5883836760001486\n",
            "INFO flwr 2024-02-20 10:27:06,176 | app.py:250 | app_fit: losses_distributed [(1, 0.0), (2, 0.0), (3, 0.0), (4, 0.0), (5, 0.0), (6, 0.0), (7, 0.0), (8, 0.0), (9, 0.0), (10, 0.0)]\n",
            "INFO:flwr:app_fit: losses_distributed [(1, 0.0), (2, 0.0), (3, 0.0), (4, 0.0), (5, 0.0), (6, 0.0), (7, 0.0), (8, 0.0), (9, 0.0), (10, 0.0)]\n",
            "INFO flwr 2024-02-20 10:27:06,178 | app.py:251 | app_fit: metrics_distributed_fit {'client_completion_time': [(1, {'avg': 857.2165161393493, 'all': [(4, 511.7667562372511), (6, 1087.5163560740814)]}), (2, {'avg': 1264.782664487828, 'all': [(9, 296.5387975793243), (4, 104.8773233736289), (8, 2934.0096853169944)]}), (3, {'avg': 1270.842593201498, 'all': [(5, 244.82024872989444), (4, 674.7452167252973), (11, 1953.979068498118)]}), (4, {'avg': 1030.1942832872553, 'all': [(8, 749.3616198100947), (4, 1049.8973331279187), (10, 1246.9791941327182)]}), (5, {'avg': 641.8817670768059, 'all': [(4, 411.05910613354115), (5, 1160.6477784499832), (4, 224.2469138035991)]}), (6, {'avg': 1333.3491760292754, 'all': [(3, 1977.5401397947521), (5, 1160.6477784499832), (4, 1066.0827001792834)]}), (7, {'avg': 733.8075700844996, 'all': [(9, 488.21023467750604), (4, 366.0081576570953), (7, 1259.7466655662938)]}), (8, {'avg': 914.4763435950321, 'all': [(5, 1402.9223304679922), (6, 753.0051356540575), (4, 546.1256719152932)]}), (9, {'avg': 1062.9520445494907, 'all': [(11, 1570.0599198886118), (8, 361.9187129121866), (4, 1070.472050641516)]}), (10, {'avg': 638.1153384093433, 'all': [(4, 1437.5772466031758), (9, 422.88326501655195), (7, 458.0069138035991)]})], 'computation': [(1, {'avg': 70.6, 'all': [(4, 148.0), (6, 19.0)]}), (2, {'avg': 90.0952380952381, 'all': [(9, 28.0), (4, 24.0), (8, 193.0)]}), (3, {'avg': 37.3, 'all': [(5, 41.0), (4, 50.0), (11, 31.0)]}), (4, {'avg': 51.72727272727273, 'all': [(8, 54.0), (4, 24.0), (10, 61.0)]}), (5, {'avg': 80.6923076923077, 'all': [(4, 21.0), (5, 173.0), (4, 25.0)]}), (6, {'avg': 146.41666666666666, 'all': [(3, 40.0), (5, 173.0), (4, 193.0)]}), (7, {'avg': 65.75, 'all': [(9, 23.0), (4, 18.0), (7, 148.0)]}), (8, {'avg': 96.13333333333334, 'all': [(5, 138.0), (6, 30.0), (4, 143.0)]}), (9, {'avg': 114.17391304347827, 'all': [(11, 154.0), (8, 30.0), (4, 173.0)]}), (10, {'avg': 63.9, 'all': [(4, 136.0), (9, 38.0), (7, 56.0)]})], 'communication': [(1, {'avg': 29095.221982529474, 'all': [(4, 69699.14584615384), (6, 2025.9394067798967)]}), (2, {'avg': 35997.32542952776, 'all': [(9, 23756.694131470173), (4, 133144.06129563495), (8, 1194.6677067889516)]}), (3, {'avg': 7177.939380944396, 'all': [(5, 22888.467692307695), (4, 4022.9694115816483), (11, 1184.0519555475319)]}), (4, {'avg': 3373.121836152645, 'all': [(8, 4849.641475513536), (4, 2073.292264158739), (10, 2711.8379534614946)]}), (5, {'avg': 8183.848420138545, 'all': [(4, 6016.211775168499), (5, 4652.290392827601), (4, 14765.932599247273)]}), (6, {'avg': 3803.902165339092, 'all': [(3, 1076.136588410951), (5, 4652.290392827601), (4, 4789.241063674561)]}), (7, {'avg': 5621.355176136969, 'all': [(9, 6074.702413493102), (4, 6659.027482343811), (7, 4445.524553132318)]}), (8, {'avg': 10195.508068589726, 'all': [(5, 2290.9446288967583), (6, 3268.587327035091), (4, 30466.59348053789)]}), (9, {'avg': 10716.83945426315, 'all': [(11, 12078.759316621428), (8, 11837.211384531945), (4, 4730.815972240296)]}), (10, {'avg': 12098.698402397345, 'all': [(4, 2124.3843013483306), (9, 14457.211405313634), (7, 14765.932599247273)]})], 'num_samples': [(1, {'avg': 5.2, 'all': [(4, 4), (6, 6)]}), (2, {'avg': 7.666666666666667, 'all': [(9, 9), (4, 4), (8, 8)]}), (3, {'avg': 8.1, 'all': [(5, 5), (4, 4), (11, 11)]}), (4, {'avg': 8.181818181818182, 'all': [(8, 8), (4, 4), (10, 10)]}), (5, {'avg': 4.384615384615385, 'all': [(4, 4), (5, 5), (4, 4)]}), (6, {'avg': 4.166666666666667, 'all': [(3, 3), (5, 5), (4, 4)]}), (7, {'avg': 7.3, 'all': [(9, 9), (4, 4), (7, 7)]}), (8, {'avg': 5.133333333333334, 'all': [(5, 5), (6, 6), (4, 4)]}), (9, {'avg': 8.73913043478261, 'all': [(11, 11), (8, 8), (4, 4)]}), (10, {'avg': 7.3, 'all': [(4, 4), (9, 9), (7, 7)]})], 'cid': [(1, {'avg': 1569.6, 'all': [(4, 2907), (6, 678)]}), (2, {'avg': 757.3333333333334, 'all': [(9, 796), (4, 2035), (8, 75)]}), (3, {'avg': 1378.65, 'all': [(5, 2517), (4, 2988), (11, 276)]}), (4, {'avg': 569.8181818181819, 'all': [(8, 367), (4, 2040), (10, 144)]}), (5, {'avg': 1390.3846153846155, 'all': [(4, 2112), (5, 843), (4, 1353)]}), (6, {'avg': 1682.1666666666667, 'all': [(3, 2757), (5, 843), (4, 1925)]}), (7, {'avg': 1321.45, 'all': [(9, 1286), (4, 1479), (7, 1277)]}), (8, {'avg': 1516.0, 'all': [(5, 3016), (6, 260), (4, 1525)]}), (9, {'avg': 612.2173913043479, 'all': [(11, 155), (8, 584), (4, 1926)]}), (10, {'avg': 1191.65, 'all': [(4, 2989), (9, 524), (7, 1023)]})]}\n",
            "INFO:flwr:app_fit: metrics_distributed_fit {'client_completion_time': [(1, {'avg': 857.2165161393493, 'all': [(4, 511.7667562372511), (6, 1087.5163560740814)]}), (2, {'avg': 1264.782664487828, 'all': [(9, 296.5387975793243), (4, 104.8773233736289), (8, 2934.0096853169944)]}), (3, {'avg': 1270.842593201498, 'all': [(5, 244.82024872989444), (4, 674.7452167252973), (11, 1953.979068498118)]}), (4, {'avg': 1030.1942832872553, 'all': [(8, 749.3616198100947), (4, 1049.8973331279187), (10, 1246.9791941327182)]}), (5, {'avg': 641.8817670768059, 'all': [(4, 411.05910613354115), (5, 1160.6477784499832), (4, 224.2469138035991)]}), (6, {'avg': 1333.3491760292754, 'all': [(3, 1977.5401397947521), (5, 1160.6477784499832), (4, 1066.0827001792834)]}), (7, {'avg': 733.8075700844996, 'all': [(9, 488.21023467750604), (4, 366.0081576570953), (7, 1259.7466655662938)]}), (8, {'avg': 914.4763435950321, 'all': [(5, 1402.9223304679922), (6, 753.0051356540575), (4, 546.1256719152932)]}), (9, {'avg': 1062.9520445494907, 'all': [(11, 1570.0599198886118), (8, 361.9187129121866), (4, 1070.472050641516)]}), (10, {'avg': 638.1153384093433, 'all': [(4, 1437.5772466031758), (9, 422.88326501655195), (7, 458.0069138035991)]})], 'computation': [(1, {'avg': 70.6, 'all': [(4, 148.0), (6, 19.0)]}), (2, {'avg': 90.0952380952381, 'all': [(9, 28.0), (4, 24.0), (8, 193.0)]}), (3, {'avg': 37.3, 'all': [(5, 41.0), (4, 50.0), (11, 31.0)]}), (4, {'avg': 51.72727272727273, 'all': [(8, 54.0), (4, 24.0), (10, 61.0)]}), (5, {'avg': 80.6923076923077, 'all': [(4, 21.0), (5, 173.0), (4, 25.0)]}), (6, {'avg': 146.41666666666666, 'all': [(3, 40.0), (5, 173.0), (4, 193.0)]}), (7, {'avg': 65.75, 'all': [(9, 23.0), (4, 18.0), (7, 148.0)]}), (8, {'avg': 96.13333333333334, 'all': [(5, 138.0), (6, 30.0), (4, 143.0)]}), (9, {'avg': 114.17391304347827, 'all': [(11, 154.0), (8, 30.0), (4, 173.0)]}), (10, {'avg': 63.9, 'all': [(4, 136.0), (9, 38.0), (7, 56.0)]})], 'communication': [(1, {'avg': 29095.221982529474, 'all': [(4, 69699.14584615384), (6, 2025.9394067798967)]}), (2, {'avg': 35997.32542952776, 'all': [(9, 23756.694131470173), (4, 133144.06129563495), (8, 1194.6677067889516)]}), (3, {'avg': 7177.939380944396, 'all': [(5, 22888.467692307695), (4, 4022.9694115816483), (11, 1184.0519555475319)]}), (4, {'avg': 3373.121836152645, 'all': [(8, 4849.641475513536), (4, 2073.292264158739), (10, 2711.8379534614946)]}), (5, {'avg': 8183.848420138545, 'all': [(4, 6016.211775168499), (5, 4652.290392827601), (4, 14765.932599247273)]}), (6, {'avg': 3803.902165339092, 'all': [(3, 1076.136588410951), (5, 4652.290392827601), (4, 4789.241063674561)]}), (7, {'avg': 5621.355176136969, 'all': [(9, 6074.702413493102), (4, 6659.027482343811), (7, 4445.524553132318)]}), (8, {'avg': 10195.508068589726, 'all': [(5, 2290.9446288967583), (6, 3268.587327035091), (4, 30466.59348053789)]}), (9, {'avg': 10716.83945426315, 'all': [(11, 12078.759316621428), (8, 11837.211384531945), (4, 4730.815972240296)]}), (10, {'avg': 12098.698402397345, 'all': [(4, 2124.3843013483306), (9, 14457.211405313634), (7, 14765.932599247273)]})], 'num_samples': [(1, {'avg': 5.2, 'all': [(4, 4), (6, 6)]}), (2, {'avg': 7.666666666666667, 'all': [(9, 9), (4, 4), (8, 8)]}), (3, {'avg': 8.1, 'all': [(5, 5), (4, 4), (11, 11)]}), (4, {'avg': 8.181818181818182, 'all': [(8, 8), (4, 4), (10, 10)]}), (5, {'avg': 4.384615384615385, 'all': [(4, 4), (5, 5), (4, 4)]}), (6, {'avg': 4.166666666666667, 'all': [(3, 3), (5, 5), (4, 4)]}), (7, {'avg': 7.3, 'all': [(9, 9), (4, 4), (7, 7)]}), (8, {'avg': 5.133333333333334, 'all': [(5, 5), (6, 6), (4, 4)]}), (9, {'avg': 8.73913043478261, 'all': [(11, 11), (8, 8), (4, 4)]}), (10, {'avg': 7.3, 'all': [(4, 4), (9, 9), (7, 7)]})], 'cid': [(1, {'avg': 1569.6, 'all': [(4, 2907), (6, 678)]}), (2, {'avg': 757.3333333333334, 'all': [(9, 796), (4, 2035), (8, 75)]}), (3, {'avg': 1378.65, 'all': [(5, 2517), (4, 2988), (11, 276)]}), (4, {'avg': 569.8181818181819, 'all': [(8, 367), (4, 2040), (10, 144)]}), (5, {'avg': 1390.3846153846155, 'all': [(4, 2112), (5, 843), (4, 1353)]}), (6, {'avg': 1682.1666666666667, 'all': [(3, 2757), (5, 843), (4, 1925)]}), (7, {'avg': 1321.45, 'all': [(9, 1286), (4, 1479), (7, 1277)]}), (8, {'avg': 1516.0, 'all': [(5, 3016), (6, 260), (4, 1525)]}), (9, {'avg': 612.2173913043479, 'all': [(11, 155), (8, 584), (4, 1926)]}), (10, {'avg': 1191.65, 'all': [(4, 2989), (9, 524), (7, 1023)]})]}\n",
            "INFO flwr 2024-02-20 10:27:06,181 | app.py:252 | app_fit: metrics_distributed {'client_completion_time': [(1, {'avg': 507.9455561556662, 'all': [(1, 987.1963560740813), (1, 28.69475623725114)]}), (2, {'avg': 615.9517601585477, 'all': [(2, 86.87479757932427), (1, 1674.1056853169944)]}), (3, {'avg': 87.38024872989446, 'all': [(1, 87.38024872989446)]}), (4, {'avg': 503.2928543933015, 'all': [(2, 743.3631941327183), (1, 23.152174914468052)]}), (5, {'avg': 282.6713461267912, 'all': [(1, 429.89577844998325), (1, 135.44691380359913)]}), (6, {'avg': 1138.0514199870179, 'all': [(1, 1858.5001397947522), (1, 417.60270017928343)]}), (7, {'avg': 321.0762090040358, 'all': [(1, 300.3441576570953), (2, 331.44223467750606)]}), (8, {'avg': 611.8851356540575, 'all': [(1, 611.8851356540575)]}), (9, {'avg': 295.85938177685125, 'all': [(1, 168.95871291218663), (1, 422.76005064151593)]}), (10, {'avg': 538.4480802033875, 'all': [(1, 135.44691380359913), (1, 941.4492466031759)]})], 'computation': [(1, {'avg': 83.5, 'all': [(1, 19.0), (1, 148.0)]}), (2, {'avg': 83.0, 'all': [(2, 28.0), (1, 193.0)]}), (3, {'avg': 41.0, 'all': [(1, 41.0)]}), (4, {'avg': 47.666666666666664, 'all': [(2, 61.0), (1, 21.0)]}), (5, {'avg': 99.0, 'all': [(1, 173.0), (1, 25.0)]}), (6, {'avg': 116.5, 'all': [(1, 40.0), (1, 193.0)]}), (7, {'avg': 21.333333333333332, 'all': [(1, 18.0), (2, 23.0)]}), (8, {'avg': 30.0, 'all': [(1, 30.0)]}), (9, {'avg': 101.5, 'all': [(1, 30.0), (1, 173.0)]}), (10, {'avg': 96.0, 'all': [(1, 56.0), (1, 136.0)]})], 'communication': [(1, {'avg': 35862.54262646687, 'all': [(1, 2025.9394067798967), (1, 69699.14584615384)]}), (2, {'avg': 16236.018656576432, 'all': [(2, 23756.694131470173), (1, 1194.6677067889516)]}), (3, {'avg': 22888.467692307695, 'all': [(1, 22888.467692307695)]}), (4, {'avg': 30602.882898749103, 'all': [(2, 2711.8379534614946), (1, 86384.97278932433)]}), (5, {'avg': 9709.111496037436, 'all': [(1, 4652.290392827601), (1, 14765.932599247273)]}), (6, {'avg': 2932.688826042756, 'all': [(1, 1076.136588410951), (1, 4789.241063674561)]}), (7, {'avg': 6269.477436443339, 'all': [(1, 6659.027482343811), (2, 6074.702413493102)]}), (8, {'avg': 3268.587327035091, 'all': [(1, 3268.587327035091)]}), (9, {'avg': 8284.01367838612, 'all': [(1, 11837.211384531945), (1, 4730.815972240296)]}), (10, {'avg': 8445.158450297802, 'all': [(1, 14765.932599247273), (1, 2124.3843013483306)]})], 'num_samples': [(1, {'avg': 1.0, 'all': [(1, 1), (1, 1)]}), (2, {'avg': 1.6666666666666667, 'all': [(2, 2), (1, 1)]}), (3, {'avg': 1.0, 'all': [(1, 1)]}), (4, {'avg': 1.6666666666666667, 'all': [(2, 2), (1, 1)]}), (5, {'avg': 1.0, 'all': [(1, 1), (1, 1)]}), (6, {'avg': 1.0, 'all': [(1, 1), (1, 1)]}), (7, {'avg': 1.6666666666666667, 'all': [(1, 1), (2, 2)]}), (8, {'avg': 1.0, 'all': [(1, 1)]}), (9, {'avg': 1.0, 'all': [(1, 1), (1, 1)]}), (10, {'avg': 1.0, 'all': [(1, 1), (1, 1)]})], 'cid': [(1, {'avg': 1792.5, 'all': [(1, 678), (1, 2907)]}), (2, {'avg': 555.6666666666666, 'all': [(2, 796), (1, 75)]}), (3, {'avg': 2517.0, 'all': [(1, 2517)]}), (4, {'avg': 1085.0, 'all': [(2, 144), (1, 2967)]}), (5, {'avg': 1098.0, 'all': [(1, 843), (1, 1353)]}), (6, {'avg': 2341.0, 'all': [(1, 2757), (1, 1925)]}), (7, {'avg': 1350.3333333333333, 'all': [(1, 1479), (2, 1286)]}), (8, {'avg': 260.0, 'all': [(1, 260)]}), (9, {'avg': 1255.0, 'all': [(1, 584), (1, 1926)]}), (10, {'avg': 2006.0, 'all': [(1, 1023), (1, 2989)]})]}\n",
            "INFO:flwr:app_fit: metrics_distributed {'client_completion_time': [(1, {'avg': 507.9455561556662, 'all': [(1, 987.1963560740813), (1, 28.69475623725114)]}), (2, {'avg': 615.9517601585477, 'all': [(2, 86.87479757932427), (1, 1674.1056853169944)]}), (3, {'avg': 87.38024872989446, 'all': [(1, 87.38024872989446)]}), (4, {'avg': 503.2928543933015, 'all': [(2, 743.3631941327183), (1, 23.152174914468052)]}), (5, {'avg': 282.6713461267912, 'all': [(1, 429.89577844998325), (1, 135.44691380359913)]}), (6, {'avg': 1138.0514199870179, 'all': [(1, 1858.5001397947522), (1, 417.60270017928343)]}), (7, {'avg': 321.0762090040358, 'all': [(1, 300.3441576570953), (2, 331.44223467750606)]}), (8, {'avg': 611.8851356540575, 'all': [(1, 611.8851356540575)]}), (9, {'avg': 295.85938177685125, 'all': [(1, 168.95871291218663), (1, 422.76005064151593)]}), (10, {'avg': 538.4480802033875, 'all': [(1, 135.44691380359913), (1, 941.4492466031759)]})], 'computation': [(1, {'avg': 83.5, 'all': [(1, 19.0), (1, 148.0)]}), (2, {'avg': 83.0, 'all': [(2, 28.0), (1, 193.0)]}), (3, {'avg': 41.0, 'all': [(1, 41.0)]}), (4, {'avg': 47.666666666666664, 'all': [(2, 61.0), (1, 21.0)]}), (5, {'avg': 99.0, 'all': [(1, 173.0), (1, 25.0)]}), (6, {'avg': 116.5, 'all': [(1, 40.0), (1, 193.0)]}), (7, {'avg': 21.333333333333332, 'all': [(1, 18.0), (2, 23.0)]}), (8, {'avg': 30.0, 'all': [(1, 30.0)]}), (9, {'avg': 101.5, 'all': [(1, 30.0), (1, 173.0)]}), (10, {'avg': 96.0, 'all': [(1, 56.0), (1, 136.0)]})], 'communication': [(1, {'avg': 35862.54262646687, 'all': [(1, 2025.9394067798967), (1, 69699.14584615384)]}), (2, {'avg': 16236.018656576432, 'all': [(2, 23756.694131470173), (1, 1194.6677067889516)]}), (3, {'avg': 22888.467692307695, 'all': [(1, 22888.467692307695)]}), (4, {'avg': 30602.882898749103, 'all': [(2, 2711.8379534614946), (1, 86384.97278932433)]}), (5, {'avg': 9709.111496037436, 'all': [(1, 4652.290392827601), (1, 14765.932599247273)]}), (6, {'avg': 2932.688826042756, 'all': [(1, 1076.136588410951), (1, 4789.241063674561)]}), (7, {'avg': 6269.477436443339, 'all': [(1, 6659.027482343811), (2, 6074.702413493102)]}), (8, {'avg': 3268.587327035091, 'all': [(1, 3268.587327035091)]}), (9, {'avg': 8284.01367838612, 'all': [(1, 11837.211384531945), (1, 4730.815972240296)]}), (10, {'avg': 8445.158450297802, 'all': [(1, 14765.932599247273), (1, 2124.3843013483306)]})], 'num_samples': [(1, {'avg': 1.0, 'all': [(1, 1), (1, 1)]}), (2, {'avg': 1.6666666666666667, 'all': [(2, 2), (1, 1)]}), (3, {'avg': 1.0, 'all': [(1, 1)]}), (4, {'avg': 1.6666666666666667, 'all': [(2, 2), (1, 1)]}), (5, {'avg': 1.0, 'all': [(1, 1), (1, 1)]}), (6, {'avg': 1.0, 'all': [(1, 1), (1, 1)]}), (7, {'avg': 1.6666666666666667, 'all': [(1, 1), (2, 2)]}), (8, {'avg': 1.0, 'all': [(1, 1)]}), (9, {'avg': 1.0, 'all': [(1, 1), (1, 1)]}), (10, {'avg': 1.0, 'all': [(1, 1), (1, 1)]})], 'cid': [(1, {'avg': 1792.5, 'all': [(1, 678), (1, 2907)]}), (2, {'avg': 555.6666666666666, 'all': [(2, 796), (1, 75)]}), (3, {'avg': 2517.0, 'all': [(1, 2517)]}), (4, {'avg': 1085.0, 'all': [(2, 144), (1, 2967)]}), (5, {'avg': 1098.0, 'all': [(1, 843), (1, 1353)]}), (6, {'avg': 2341.0, 'all': [(1, 2757), (1, 1925)]}), (7, {'avg': 1350.3333333333333, 'all': [(1, 1479), (2, 1286)]}), (8, {'avg': 260.0, 'all': [(1, 260)]}), (9, {'avg': 1255.0, 'all': [(1, 584), (1, 1926)]}), (10, {'avg': 2006.0, 'all': [(1, 1023), (1, 2989)]})]}\n",
            "INFO flwr 2024-02-20 10:27:06,183 | app.py:253 | app_fit: losses_centralized []\n",
            "INFO:flwr:app_fit: losses_centralized []\n",
            "INFO flwr 2024-02-20 10:27:06,185 | app.py:254 | app_fit: metrics_centralized {}\n",
            "INFO:flwr:app_fit: metrics_centralized {}\n"
          ]
        }
      ],
      "source": [
        "model_params, hist = start_seeded_simulation(\n",
        "    client_fn=lambda cid: flower_client_with_traces_generator(cid).to_client(),\n",
        "    num_clients=num_total_clients,\n",
        "    config=ServerConfig(num_rounds=10),\n",
        "    server=server,\n",
        "    strategy=strategy,\n",
        "    name=\"activity_criterion\",\n",
        ")"
      ]
    },
    {
      "cell_type": "markdown",
      "metadata": {
        "id": "lSdZ_9uMp8br"
      },
      "source": [
        "Let us investigate the new history object you will use to determine the behaviour of your execution. Notice the addition of a completion time for each client, as they are meant to execute in parallel. The highest completion time represents the duration of a round. Our new strategy and criterion this principle to maintain the `current_virtual_clock`; you may investigate the implementation further by looking into the python files.\n"
      ]
    },
    {
      "cell_type": "code",
      "execution_count": 39,
      "metadata": {
        "id": "zx4M2o7V0dbd",
        "colab": {
          "base_uri": "https://localhost:8080/"
        },
        "outputId": "27260e6d-5cfe-4e29-ce1b-07971cbf6886"
      },
      "outputs": [
        {
          "output_type": "stream",
          "name": "stderr",
          "text": [
            "INFO flwr 2024-02-20 10:27:06,350 | <ipython-input-39-8050fabfcb21>:1 | Simulation results: History (loss, distributed):\n",
            "\tround 1: 0.0\n",
            "\tround 2: 0.0\n",
            "\tround 3: 0.0\n",
            "\tround 4: 0.0\n",
            "\tround 5: 0.0\n",
            "\tround 6: 0.0\n",
            "\tround 7: 0.0\n",
            "\tround 8: 0.0\n",
            "\tround 9: 0.0\n",
            "\tround 10: 0.0\n",
            "History (metrics, distributed, fit):\n",
            "{'client_completion_time': [(1, {'avg': 857.2165161393493, 'all': [(4, 511.7667562372511), (6, 1087.5163560740814)]}), (2, {'avg': 1264.782664487828, 'all': [(9, 296.5387975793243), (4, 104.8773233736289), (8, 2934.0096853169944)]}), (3, {'avg': 1270.842593201498, 'all': [(5, 244.82024872989444), (4, 674.7452167252973), (11, 1953.979068498118)]}), (4, {'avg': 1030.1942832872553, 'all': [(8, 749.3616198100947), (4, 1049.8973331279187), (10, 1246.9791941327182)]}), (5, {'avg': 641.8817670768059, 'all': [(4, 411.05910613354115), (5, 1160.6477784499832), (4, 224.2469138035991)]}), (6, {'avg': 1333.3491760292754, 'all': [(3, 1977.5401397947521), (5, 1160.6477784499832), (4, 1066.0827001792834)]}), (7, {'avg': 733.8075700844996, 'all': [(9, 488.21023467750604), (4, 366.0081576570953), (7, 1259.7466655662938)]}), (8, {'avg': 914.4763435950321, 'all': [(5, 1402.9223304679922), (6, 753.0051356540575), (4, 546.1256719152932)]}), (9, {'avg': 1062.9520445494907, 'all': [(11, 1570.0599198886118), (8, 361.9187129121866), (4, 1070.472050641516)]}), (10, {'avg': 638.1153384093433, 'all': [(4, 1437.5772466031758), (9, 422.88326501655195), (7, 458.0069138035991)]})], 'computation': [(1, {'avg': 70.6, 'all': [(4, 148.0), (6, 19.0)]}), (2, {'avg': 90.0952380952381, 'all': [(9, 28.0), (4, 24.0), (8, 193.0)]}), (3, {'avg': 37.3, 'all': [(5, 41.0), (4, 50.0), (11, 31.0)]}), (4, {'avg': 51.72727272727273, 'all': [(8, 54.0), (4, 24.0), (10, 61.0)]}), (5, {'avg': 80.6923076923077, 'all': [(4, 21.0), (5, 173.0), (4, 25.0)]}), (6, {'avg': 146.41666666666666, 'all': [(3, 40.0), (5, 173.0), (4, 193.0)]}), (7, {'avg': 65.75, 'all': [(9, 23.0), (4, 18.0), (7, 148.0)]}), (8, {'avg': 96.13333333333334, 'all': [(5, 138.0), (6, 30.0), (4, 143.0)]}), (9, {'avg': 114.17391304347827, 'all': [(11, 154.0), (8, 30.0), (4, 173.0)]}), (10, {'avg': 63.9, 'all': [(4, 136.0), (9, 38.0), (7, 56.0)]})], 'communication': [(1, {'avg': 29095.221982529474, 'all': [(4, 69699.14584615384), (6, 2025.9394067798967)]}), (2, {'avg': 35997.32542952776, 'all': [(9, 23756.694131470173), (4, 133144.06129563495), (8, 1194.6677067889516)]}), (3, {'avg': 7177.939380944396, 'all': [(5, 22888.467692307695), (4, 4022.9694115816483), (11, 1184.0519555475319)]}), (4, {'avg': 3373.121836152645, 'all': [(8, 4849.641475513536), (4, 2073.292264158739), (10, 2711.8379534614946)]}), (5, {'avg': 8183.848420138545, 'all': [(4, 6016.211775168499), (5, 4652.290392827601), (4, 14765.932599247273)]}), (6, {'avg': 3803.902165339092, 'all': [(3, 1076.136588410951), (5, 4652.290392827601), (4, 4789.241063674561)]}), (7, {'avg': 5621.355176136969, 'all': [(9, 6074.702413493102), (4, 6659.027482343811), (7, 4445.524553132318)]}), (8, {'avg': 10195.508068589726, 'all': [(5, 2290.9446288967583), (6, 3268.587327035091), (4, 30466.59348053789)]}), (9, {'avg': 10716.83945426315, 'all': [(11, 12078.759316621428), (8, 11837.211384531945), (4, 4730.815972240296)]}), (10, {'avg': 12098.698402397345, 'all': [(4, 2124.3843013483306), (9, 14457.211405313634), (7, 14765.932599247273)]})], 'num_samples': [(1, {'avg': 5.2, 'all': [(4, 4), (6, 6)]}), (2, {'avg': 7.666666666666667, 'all': [(9, 9), (4, 4), (8, 8)]}), (3, {'avg': 8.1, 'all': [(5, 5), (4, 4), (11, 11)]}), (4, {'avg': 8.181818181818182, 'all': [(8, 8), (4, 4), (10, 10)]}), (5, {'avg': 4.384615384615385, 'all': [(4, 4), (5, 5), (4, 4)]}), (6, {'avg': 4.166666666666667, 'all': [(3, 3), (5, 5), (4, 4)]}), (7, {'avg': 7.3, 'all': [(9, 9), (4, 4), (7, 7)]}), (8, {'avg': 5.133333333333334, 'all': [(5, 5), (6, 6), (4, 4)]}), (9, {'avg': 8.73913043478261, 'all': [(11, 11), (8, 8), (4, 4)]}), (10, {'avg': 7.3, 'all': [(4, 4), (9, 9), (7, 7)]})], 'cid': [(1, {'avg': 1569.6, 'all': [(4, 2907), (6, 678)]}), (2, {'avg': 757.3333333333334, 'all': [(9, 796), (4, 2035), (8, 75)]}), (3, {'avg': 1378.65, 'all': [(5, 2517), (4, 2988), (11, 276)]}), (4, {'avg': 569.8181818181819, 'all': [(8, 367), (4, 2040), (10, 144)]}), (5, {'avg': 1390.3846153846155, 'all': [(4, 2112), (5, 843), (4, 1353)]}), (6, {'avg': 1682.1666666666667, 'all': [(3, 2757), (5, 843), (4, 1925)]}), (7, {'avg': 1321.45, 'all': [(9, 1286), (4, 1479), (7, 1277)]}), (8, {'avg': 1516.0, 'all': [(5, 3016), (6, 260), (4, 1525)]}), (9, {'avg': 612.2173913043479, 'all': [(11, 155), (8, 584), (4, 1926)]}), (10, {'avg': 1191.65, 'all': [(4, 2989), (9, 524), (7, 1023)]})]}History (metrics, distributed, evaluate):\n",
            "{'client_completion_time': [(1, {'avg': 507.9455561556662, 'all': [(1, 987.1963560740813), (1, 28.69475623725114)]}), (2, {'avg': 615.9517601585477, 'all': [(2, 86.87479757932427), (1, 1674.1056853169944)]}), (3, {'avg': 87.38024872989446, 'all': [(1, 87.38024872989446)]}), (4, {'avg': 503.2928543933015, 'all': [(2, 743.3631941327183), (1, 23.152174914468052)]}), (5, {'avg': 282.6713461267912, 'all': [(1, 429.89577844998325), (1, 135.44691380359913)]}), (6, {'avg': 1138.0514199870179, 'all': [(1, 1858.5001397947522), (1, 417.60270017928343)]}), (7, {'avg': 321.0762090040358, 'all': [(1, 300.3441576570953), (2, 331.44223467750606)]}), (8, {'avg': 611.8851356540575, 'all': [(1, 611.8851356540575)]}), (9, {'avg': 295.85938177685125, 'all': [(1, 168.95871291218663), (1, 422.76005064151593)]}), (10, {'avg': 538.4480802033875, 'all': [(1, 135.44691380359913), (1, 941.4492466031759)]})], 'computation': [(1, {'avg': 83.5, 'all': [(1, 19.0), (1, 148.0)]}), (2, {'avg': 83.0, 'all': [(2, 28.0), (1, 193.0)]}), (3, {'avg': 41.0, 'all': [(1, 41.0)]}), (4, {'avg': 47.666666666666664, 'all': [(2, 61.0), (1, 21.0)]}), (5, {'avg': 99.0, 'all': [(1, 173.0), (1, 25.0)]}), (6, {'avg': 116.5, 'all': [(1, 40.0), (1, 193.0)]}), (7, {'avg': 21.333333333333332, 'all': [(1, 18.0), (2, 23.0)]}), (8, {'avg': 30.0, 'all': [(1, 30.0)]}), (9, {'avg': 101.5, 'all': [(1, 30.0), (1, 173.0)]}), (10, {'avg': 96.0, 'all': [(1, 56.0), (1, 136.0)]})], 'communication': [(1, {'avg': 35862.54262646687, 'all': [(1, 2025.9394067798967), (1, 69699.14584615384)]}), (2, {'avg': 16236.018656576432, 'all': [(2, 23756.694131470173), (1, 1194.6677067889516)]}), (3, {'avg': 22888.467692307695, 'all': [(1, 22888.467692307695)]}), (4, {'avg': 30602.882898749103, 'all': [(2, 2711.8379534614946), (1, 86384.97278932433)]}), (5, {'avg': 9709.111496037436, 'all': [(1, 4652.290392827601), (1, 14765.932599247273)]}), (6, {'avg': 2932.688826042756, 'all': [(1, 1076.136588410951), (1, 4789.241063674561)]}), (7, {'avg': 6269.477436443339, 'all': [(1, 6659.027482343811), (2, 6074.702413493102)]}), (8, {'avg': 3268.587327035091, 'all': [(1, 3268.587327035091)]}), (9, {'avg': 8284.01367838612, 'all': [(1, 11837.211384531945), (1, 4730.815972240296)]}), (10, {'avg': 8445.158450297802, 'all': [(1, 14765.932599247273), (1, 2124.3843013483306)]})], 'num_samples': [(1, {'avg': 1.0, 'all': [(1, 1), (1, 1)]}), (2, {'avg': 1.6666666666666667, 'all': [(2, 2), (1, 1)]}), (3, {'avg': 1.0, 'all': [(1, 1)]}), (4, {'avg': 1.6666666666666667, 'all': [(2, 2), (1, 1)]}), (5, {'avg': 1.0, 'all': [(1, 1), (1, 1)]}), (6, {'avg': 1.0, 'all': [(1, 1), (1, 1)]}), (7, {'avg': 1.6666666666666667, 'all': [(1, 1), (2, 2)]}), (8, {'avg': 1.0, 'all': [(1, 1)]}), (9, {'avg': 1.0, 'all': [(1, 1), (1, 1)]}), (10, {'avg': 1.0, 'all': [(1, 1), (1, 1)]})], 'cid': [(1, {'avg': 1792.5, 'all': [(1, 678), (1, 2907)]}), (2, {'avg': 555.6666666666666, 'all': [(2, 796), (1, 75)]}), (3, {'avg': 2517.0, 'all': [(1, 2517)]}), (4, {'avg': 1085.0, 'all': [(2, 144), (1, 2967)]}), (5, {'avg': 1098.0, 'all': [(1, 843), (1, 1353)]}), (6, {'avg': 2341.0, 'all': [(1, 2757), (1, 1925)]}), (7, {'avg': 1350.3333333333333, 'all': [(1, 1479), (2, 1286)]}), (8, {'avg': 260.0, 'all': [(1, 260)]}), (9, {'avg': 1255.0, 'all': [(1, 584), (1, 1926)]}), (10, {'avg': 2006.0, 'all': [(1, 1023), (1, 2989)]})]}\n",
            "INFO:flwr:Simulation results: History (loss, distributed):\n",
            "\tround 1: 0.0\n",
            "\tround 2: 0.0\n",
            "\tround 3: 0.0\n",
            "\tround 4: 0.0\n",
            "\tround 5: 0.0\n",
            "\tround 6: 0.0\n",
            "\tround 7: 0.0\n",
            "\tround 8: 0.0\n",
            "\tround 9: 0.0\n",
            "\tround 10: 0.0\n",
            "History (metrics, distributed, fit):\n",
            "{'client_completion_time': [(1, {'avg': 857.2165161393493, 'all': [(4, 511.7667562372511), (6, 1087.5163560740814)]}), (2, {'avg': 1264.782664487828, 'all': [(9, 296.5387975793243), (4, 104.8773233736289), (8, 2934.0096853169944)]}), (3, {'avg': 1270.842593201498, 'all': [(5, 244.82024872989444), (4, 674.7452167252973), (11, 1953.979068498118)]}), (4, {'avg': 1030.1942832872553, 'all': [(8, 749.3616198100947), (4, 1049.8973331279187), (10, 1246.9791941327182)]}), (5, {'avg': 641.8817670768059, 'all': [(4, 411.05910613354115), (5, 1160.6477784499832), (4, 224.2469138035991)]}), (6, {'avg': 1333.3491760292754, 'all': [(3, 1977.5401397947521), (5, 1160.6477784499832), (4, 1066.0827001792834)]}), (7, {'avg': 733.8075700844996, 'all': [(9, 488.21023467750604), (4, 366.0081576570953), (7, 1259.7466655662938)]}), (8, {'avg': 914.4763435950321, 'all': [(5, 1402.9223304679922), (6, 753.0051356540575), (4, 546.1256719152932)]}), (9, {'avg': 1062.9520445494907, 'all': [(11, 1570.0599198886118), (8, 361.9187129121866), (4, 1070.472050641516)]}), (10, {'avg': 638.1153384093433, 'all': [(4, 1437.5772466031758), (9, 422.88326501655195), (7, 458.0069138035991)]})], 'computation': [(1, {'avg': 70.6, 'all': [(4, 148.0), (6, 19.0)]}), (2, {'avg': 90.0952380952381, 'all': [(9, 28.0), (4, 24.0), (8, 193.0)]}), (3, {'avg': 37.3, 'all': [(5, 41.0), (4, 50.0), (11, 31.0)]}), (4, {'avg': 51.72727272727273, 'all': [(8, 54.0), (4, 24.0), (10, 61.0)]}), (5, {'avg': 80.6923076923077, 'all': [(4, 21.0), (5, 173.0), (4, 25.0)]}), (6, {'avg': 146.41666666666666, 'all': [(3, 40.0), (5, 173.0), (4, 193.0)]}), (7, {'avg': 65.75, 'all': [(9, 23.0), (4, 18.0), (7, 148.0)]}), (8, {'avg': 96.13333333333334, 'all': [(5, 138.0), (6, 30.0), (4, 143.0)]}), (9, {'avg': 114.17391304347827, 'all': [(11, 154.0), (8, 30.0), (4, 173.0)]}), (10, {'avg': 63.9, 'all': [(4, 136.0), (9, 38.0), (7, 56.0)]})], 'communication': [(1, {'avg': 29095.221982529474, 'all': [(4, 69699.14584615384), (6, 2025.9394067798967)]}), (2, {'avg': 35997.32542952776, 'all': [(9, 23756.694131470173), (4, 133144.06129563495), (8, 1194.6677067889516)]}), (3, {'avg': 7177.939380944396, 'all': [(5, 22888.467692307695), (4, 4022.9694115816483), (11, 1184.0519555475319)]}), (4, {'avg': 3373.121836152645, 'all': [(8, 4849.641475513536), (4, 2073.292264158739), (10, 2711.8379534614946)]}), (5, {'avg': 8183.848420138545, 'all': [(4, 6016.211775168499), (5, 4652.290392827601), (4, 14765.932599247273)]}), (6, {'avg': 3803.902165339092, 'all': [(3, 1076.136588410951), (5, 4652.290392827601), (4, 4789.241063674561)]}), (7, {'avg': 5621.355176136969, 'all': [(9, 6074.702413493102), (4, 6659.027482343811), (7, 4445.524553132318)]}), (8, {'avg': 10195.508068589726, 'all': [(5, 2290.9446288967583), (6, 3268.587327035091), (4, 30466.59348053789)]}), (9, {'avg': 10716.83945426315, 'all': [(11, 12078.759316621428), (8, 11837.211384531945), (4, 4730.815972240296)]}), (10, {'avg': 12098.698402397345, 'all': [(4, 2124.3843013483306), (9, 14457.211405313634), (7, 14765.932599247273)]})], 'num_samples': [(1, {'avg': 5.2, 'all': [(4, 4), (6, 6)]}), (2, {'avg': 7.666666666666667, 'all': [(9, 9), (4, 4), (8, 8)]}), (3, {'avg': 8.1, 'all': [(5, 5), (4, 4), (11, 11)]}), (4, {'avg': 8.181818181818182, 'all': [(8, 8), (4, 4), (10, 10)]}), (5, {'avg': 4.384615384615385, 'all': [(4, 4), (5, 5), (4, 4)]}), (6, {'avg': 4.166666666666667, 'all': [(3, 3), (5, 5), (4, 4)]}), (7, {'avg': 7.3, 'all': [(9, 9), (4, 4), (7, 7)]}), (8, {'avg': 5.133333333333334, 'all': [(5, 5), (6, 6), (4, 4)]}), (9, {'avg': 8.73913043478261, 'all': [(11, 11), (8, 8), (4, 4)]}), (10, {'avg': 7.3, 'all': [(4, 4), (9, 9), (7, 7)]})], 'cid': [(1, {'avg': 1569.6, 'all': [(4, 2907), (6, 678)]}), (2, {'avg': 757.3333333333334, 'all': [(9, 796), (4, 2035), (8, 75)]}), (3, {'avg': 1378.65, 'all': [(5, 2517), (4, 2988), (11, 276)]}), (4, {'avg': 569.8181818181819, 'all': [(8, 367), (4, 2040), (10, 144)]}), (5, {'avg': 1390.3846153846155, 'all': [(4, 2112), (5, 843), (4, 1353)]}), (6, {'avg': 1682.1666666666667, 'all': [(3, 2757), (5, 843), (4, 1925)]}), (7, {'avg': 1321.45, 'all': [(9, 1286), (4, 1479), (7, 1277)]}), (8, {'avg': 1516.0, 'all': [(5, 3016), (6, 260), (4, 1525)]}), (9, {'avg': 612.2173913043479, 'all': [(11, 155), (8, 584), (4, 1926)]}), (10, {'avg': 1191.65, 'all': [(4, 2989), (9, 524), (7, 1023)]})]}History (metrics, distributed, evaluate):\n",
            "{'client_completion_time': [(1, {'avg': 507.9455561556662, 'all': [(1, 987.1963560740813), (1, 28.69475623725114)]}), (2, {'avg': 615.9517601585477, 'all': [(2, 86.87479757932427), (1, 1674.1056853169944)]}), (3, {'avg': 87.38024872989446, 'all': [(1, 87.38024872989446)]}), (4, {'avg': 503.2928543933015, 'all': [(2, 743.3631941327183), (1, 23.152174914468052)]}), (5, {'avg': 282.6713461267912, 'all': [(1, 429.89577844998325), (1, 135.44691380359913)]}), (6, {'avg': 1138.0514199870179, 'all': [(1, 1858.5001397947522), (1, 417.60270017928343)]}), (7, {'avg': 321.0762090040358, 'all': [(1, 300.3441576570953), (2, 331.44223467750606)]}), (8, {'avg': 611.8851356540575, 'all': [(1, 611.8851356540575)]}), (9, {'avg': 295.85938177685125, 'all': [(1, 168.95871291218663), (1, 422.76005064151593)]}), (10, {'avg': 538.4480802033875, 'all': [(1, 135.44691380359913), (1, 941.4492466031759)]})], 'computation': [(1, {'avg': 83.5, 'all': [(1, 19.0), (1, 148.0)]}), (2, {'avg': 83.0, 'all': [(2, 28.0), (1, 193.0)]}), (3, {'avg': 41.0, 'all': [(1, 41.0)]}), (4, {'avg': 47.666666666666664, 'all': [(2, 61.0), (1, 21.0)]}), (5, {'avg': 99.0, 'all': [(1, 173.0), (1, 25.0)]}), (6, {'avg': 116.5, 'all': [(1, 40.0), (1, 193.0)]}), (7, {'avg': 21.333333333333332, 'all': [(1, 18.0), (2, 23.0)]}), (8, {'avg': 30.0, 'all': [(1, 30.0)]}), (9, {'avg': 101.5, 'all': [(1, 30.0), (1, 173.0)]}), (10, {'avg': 96.0, 'all': [(1, 56.0), (1, 136.0)]})], 'communication': [(1, {'avg': 35862.54262646687, 'all': [(1, 2025.9394067798967), (1, 69699.14584615384)]}), (2, {'avg': 16236.018656576432, 'all': [(2, 23756.694131470173), (1, 1194.6677067889516)]}), (3, {'avg': 22888.467692307695, 'all': [(1, 22888.467692307695)]}), (4, {'avg': 30602.882898749103, 'all': [(2, 2711.8379534614946), (1, 86384.97278932433)]}), (5, {'avg': 9709.111496037436, 'all': [(1, 4652.290392827601), (1, 14765.932599247273)]}), (6, {'avg': 2932.688826042756, 'all': [(1, 1076.136588410951), (1, 4789.241063674561)]}), (7, {'avg': 6269.477436443339, 'all': [(1, 6659.027482343811), (2, 6074.702413493102)]}), (8, {'avg': 3268.587327035091, 'all': [(1, 3268.587327035091)]}), (9, {'avg': 8284.01367838612, 'all': [(1, 11837.211384531945), (1, 4730.815972240296)]}), (10, {'avg': 8445.158450297802, 'all': [(1, 14765.932599247273), (1, 2124.3843013483306)]})], 'num_samples': [(1, {'avg': 1.0, 'all': [(1, 1), (1, 1)]}), (2, {'avg': 1.6666666666666667, 'all': [(2, 2), (1, 1)]}), (3, {'avg': 1.0, 'all': [(1, 1)]}), (4, {'avg': 1.6666666666666667, 'all': [(2, 2), (1, 1)]}), (5, {'avg': 1.0, 'all': [(1, 1), (1, 1)]}), (6, {'avg': 1.0, 'all': [(1, 1), (1, 1)]}), (7, {'avg': 1.6666666666666667, 'all': [(1, 1), (2, 2)]}), (8, {'avg': 1.0, 'all': [(1, 1)]}), (9, {'avg': 1.0, 'all': [(1, 1), (1, 1)]}), (10, {'avg': 1.0, 'all': [(1, 1), (1, 1)]})], 'cid': [(1, {'avg': 1792.5, 'all': [(1, 678), (1, 2907)]}), (2, {'avg': 555.6666666666666, 'all': [(2, 796), (1, 75)]}), (3, {'avg': 2517.0, 'all': [(1, 2517)]}), (4, {'avg': 1085.0, 'all': [(2, 144), (1, 2967)]}), (5, {'avg': 1098.0, 'all': [(1, 843), (1, 1353)]}), (6, {'avg': 2341.0, 'all': [(1, 2757), (1, 1925)]}), (7, {'avg': 1350.3333333333333, 'all': [(1, 1479), (2, 1286)]}), (8, {'avg': 260.0, 'all': [(1, 260)]}), (9, {'avg': 1255.0, 'all': [(1, 584), (1, 1926)]}), (10, {'avg': 2006.0, 'all': [(1, 1023), (1, 2989)]})]}\n"
          ]
        }
      ],
      "source": [
        "log(INFO, \"Simulation results: %s\", hist)"
      ]
    },
    {
      "cell_type": "markdown",
      "metadata": {
        "id": "ODX5HxZwkMo3"
      },
      "source": [
        "**Question 9 (Part II ✅):**\n",
        "\n",
        "(You need to provide the answer with **code** and **plots** for this question. An extended written argumentation is recommended.)\n",
        "\n",
        "Now that we can run a whole synchronised system-aware simulation, it is time we consider how different system characteristics can impact client availability and in-turn the distribution of data the model trains on.\n",
        "\n",
        "1. Produce a random mapping between client IDs and traces, this mapping should be fixed and used across all rounds and experiments of this question.\n",
        "2. Assume an FL setting whose total population is of 3229 clients and assume random sampling of 10 clients per round and 323 rounds.\n",
        "3. Implement three different criteria to obtain the following three availability patterns respectively:\n",
        "  - Pattern 1: Constant availability of 10 clients per round.\n",
        "  - Pattern 2: Average availability of 8 clients per round.\n",
        "  - Pattern 3: Average availability of 5 clients per round.\n",
        "4. Support your implementation choices with both: (a) a priori discussion, (b) a discussion of the plots and results.\n",
        "\n"
      ]
    },
    {
      "cell_type": "markdown",
      "metadata": {
        "id": "gtZwmcgmLGvd"
      },
      "source": [
        "(c) 2024 Alexandru-Andrei Iacob, Lorenzo Sani"
      ]
    }
  ],
  "metadata": {
    "colab": {
      "provenance": [],
      "include_colab_link": true
    },
    "gpuClass": "standard",
    "kernelspec": {
      "display_name": "Python 3",
      "language": "python",
      "name": "python3"
    },
    "language_info": {
      "codemirror_mode": {
        "name": "ipython",
        "version": 3
      },
      "file_extension": ".py",
      "mimetype": "text/x-python",
      "name": "python",
      "nbconvert_exporter": "python",
      "pygments_lexer": "ipython3",
      "version": "3.10.12"
    },
    "vscode": {
      "interpreter": {
        "hash": "31f2aee4e71d21fbe5cf8b01ff0e069b9275f58929596ceb00d14d90e3e16cd6"
      }
    }
  },
  "nbformat": 4,
  "nbformat_minor": 0
}